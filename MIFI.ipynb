{
 "cells": [
  {
   "cell_type": "code",
   "execution_count": 1,
   "metadata": {},
   "outputs": [],
   "source": [
    "import numpy as np\n",
    "import pickle as pkl\n",
    "import matplotlib.pyplot as plt\n",
    "import torch\n",
    "import glob\n",
    "\n",
    "import bvcopula\n",
    "\n",
    "%matplotlib inline\n",
    "%load_ext autoreload\n",
    "%autoreload 2"
   ]
  },
  {
   "cell_type": "code",
   "execution_count": 97,
   "metadata": {},
   "outputs": [],
   "source": [
    "animal = 'ST263'\n",
    "dayN = 4\n",
    "day_name = 'Day{}'.format(dayN)\n",
    "exp_pref = '{}_{}'.format(animal,day_name)\n",
    "path = '/home/nina/models'"
   ]
  },
  {
   "cell_type": "code",
   "execution_count": 98,
   "metadata": {},
   "outputs": [
    {
     "data": {
      "text/plain": [
       "[FrankCopula_Likelihood(\n",
       "   (quadrature): GaussHermiteQuadrature1D()\n",
       " ), IndependenceCopula_Likelihood(\n",
       "   (quadrature): GaussHermiteQuadrature1D()\n",
       " ), GumbelCopula_Likelihood(\n",
       "   (quadrature): GaussHermiteQuadrature1D()\n",
       " )]"
      ]
     },
     "execution_count": 98,
     "metadata": {},
     "output_type": "execute_result"
    }
   ],
   "source": [
    "out_dir = '../models/'+exp_pref\n",
    "with open(out_dir+'/summary.pkl','rb') as f:\n",
    "    data = pkl.load(f)\n",
    "n1=2\n",
    "n2=20\n",
    "data[n1+5,n2+5][0]"
   ]
  },
  {
   "cell_type": "code",
   "execution_count": 300,
   "metadata": {
    "scrolled": true
   },
   "outputs": [
    {
     "name": "stdout",
     "output_type": "stream",
     "text": [
      "FrankGaussian\n",
      "['/home/nina/models/ST263_Day4/model_1-4.pth']\n",
      "CPU times: user 312 ms, sys: 0 ns, total: 312 ms\n",
      "Wall time: 12.1 ms\n",
      "CPU times: user 14min 9s, sys: 1.25 s, total: 14min 10s\n",
      "Wall time: 26.7 s\n"
     ]
    }
   ],
   "source": [
    "import warnings\n",
    "import sys\n",
    "import traceback\n",
    "from tqdm import tqdm\n",
    "    \n",
    "def warn_with_traceback(message, category, filename, lineno, file=None, line=None):\n",
    "    log = file if hasattr(file,'write') else sys.stderr\n",
    "    traceback.print_stack(file=log)\n",
    "    log.write(warnings.formatwarning(message, category, filename, lineno, line))\n",
    "    \n",
    "def get_model(n1,n2,likelihoods,device):\n",
    "    get_weights_filename = glob.glob('{}/{}/model_{}-{}.pth'.format(path,exp_pref,n1,n2))\n",
    "    print(get_weights_filename)\n",
    "    if len(get_weights_filename)>0:\n",
    "        if len(get_weights_filename)>1:\n",
    "            print('There is more then 1 file, taking the first one')\n",
    "            return 0\n",
    "        model = bvcopula.load_model(get_weights_filename[0], likelihoods, device)\n",
    "        return model\n",
    "    else:\n",
    "        print('Weights file {} not found.'.format(get_weights_filename))\n",
    "        return 0\n",
    "        \n",
    "def measure_MI(model,points,samp_mc_size=10000):\n",
    "    MIs = []\n",
    "    with torch.no_grad():\n",
    "        fs = model(points).rsample(torch.Size([5])) #[samples_f, copulas, positions]\n",
    "    f_mean = model(points).mean.unsqueeze(0)\n",
    "    # now add mean f to a set of f samples\n",
    "    fs = torch.cat((fs,f_mean),0) #[samples_f + 1, copulas, positions]\n",
    "\n",
    "    copula = model.likelihood(fs)\n",
    "    MIs = copula.entropy()\n",
    "    MI_mean = MIs[-1]\n",
    "    MIs = MIs[:-1]\n",
    "\n",
    "    return (MI_mean,MIs.mean(dim=0),MIs.std(dim=0))\n",
    "\n",
    "warnings.showwarning = warn_with_traceback\n",
    "\n",
    "points = torch.linspace(0,1,20)\n",
    "        \n",
    "n1=1\n",
    "n2=4\n",
    "\n",
    "print(data[n1+5,n2+5][1])\n",
    "\n",
    "%time model = get_model(n1, n2, data[n1+5,n2+5][0], torch.device('cpu')) \n",
    "%time (ym, y, dy) = measure_MI(model, points)"
   ]
  },
  {
   "cell_type": "code",
   "execution_count": 301,
   "metadata": {},
   "outputs": [
    {
     "data": {
      "text/plain": [
       "(-0.5, 0)"
      ]
     },
     "execution_count": 301,
     "metadata": {},
     "output_type": "execute_result"
    },
    {
     "data": {
      "image/png": "[encoded data removed]",
      "text/plain": [
       "<Figure size 432x288 with 1 Axes>"
      ]
     },
     "metadata": {
      "needs_background": "light"
     },
     "output_type": "display_data"
    }
   ],
   "source": [
    "plt.plot(np.linspace(0,160,len(y)),y)\n",
    "plt.fill_between(np.linspace(0,160,len(y)),y-dy,y+dy, alpha=0.3)\n",
    "plt.plot(np.linspace(0,160,len(ym)),ym)\n",
    "plt.ylim(-.5,0)"
   ]
  },
  {
   "cell_type": "code",
   "execution_count": 622,
   "metadata": {},
   "outputs": [],
   "source": [
    "def stimMI(copula, pS=None, alpha=0.05, sem_tol=1e-3, mc_size=10000):\n",
    "    '''\n",
    "    Estimates the mutual information between a pair of uniformely\n",
    "    distributed copula-transformed variables and the conditioning variable\n",
    "    with the Robbins-Monro algorithm over responses.\n",
    "    Parameters\n",
    "    ----------\n",
    "    pS : Tensor\n",
    "        Prior over stimuli P(S). TODO: this, now assume uniform!\n",
    "    alpha : float, optional\n",
    "        Significance level of the entropy estimate.  (Default: 0.05)\n",
    "    sem_tol : float, optional\n",
    "        Maximum standard error as a stopping criterion.  (Default: 1e-3)\n",
    "    mc_size : integer, optional\n",
    "        Number of samples that are drawn in each iteration of the Monte\n",
    "        Carlo estimation.  (Default: 10000)\n",
    "    Returns\n",
    "    -------\n",
    "    ent : float\n",
    "        Estimate of the mixed vine entropy in bits.\n",
    "    sem : float\n",
    "        Standard error of the mixed vine entropy estimate in bits.\n",
    "    '''\n",
    "    # Gaussian confidence interval for sem_tol and level alpha\n",
    "    conf = torch.erfinv(torch.tensor([1. - alpha]))\n",
    "    batch_shape = copula.batch_shape[1:] #first dm is number of copulas, discard it\n",
    "    #assume that batch_shape = [samples_f shape x conditional variable]\n",
    "    \n",
    "    if pS is None:\n",
    "        pS = torch.ones(batch_shape[-1])*1/(batch_shape[-1])\n",
    "    assert pS.dim() == 1\n",
    "    assert pS.shape[0] == batch_shape[-1]\n",
    "    assert torch.allclose(pS.sum(),torch.ones(1))\n",
    "    pS_ = pS.expand([mc_size,*batch_shape])\n",
    "\n",
    "    sem = torch.ones(batch_shape)*float('inf')\n",
    "    MI = torch.zeros(batch_shape) #theta here must have dims: fs x batch dims\n",
    "    var_sum = torch.zeros(batch_shape)\n",
    "    log2 = torch.tensor([2.]).log()\n",
    "#     x, y = [torch.tensor(i) for i in np.mgrid[0:mc_size,0:batch_shape[1]]]\n",
    "#     perm = torch.randperm(mc_size * batch_shape[1]) #premutations for samples x positions\n",
    "#     x_ = x.view(-1)[perm]\n",
    "#     y_ = y.view(-1)[perm]\n",
    "    k = 0\n",
    "    with torch.no_grad():\n",
    "        while torch.any(sem >= sem_tol):\n",
    "            # Generate samples\n",
    "            samples = copula.rsample(sample_shape = torch.Size([mc_size]))\n",
    "            # size [samples, fs, positions, 2]\n",
    "            #samples2 = samples[x_,:,y_,:].view(samples.shape)\n",
    "#             samples = torch.einsum(\"ijk...->jik...\",samples)\n",
    "#             samples = samples[:,x_,y_,:].reshape(samples.shape)\n",
    "#             samples = torch.einsum(\"ijk...->jik...\",samples)\n",
    "#             samples = torch.einsum(\"ijk...->ikj...\",samples) # samples x Xs x fs x 2\n",
    "#             samples = samples.reshape(-1,*samples.shape[2:]) # (samples * Xs) x fs x 2\n",
    "#             samples = samples.unsqueeze(dim=-2) # (samples * Xs) x fs x 1 x 2\n",
    "#             samples = samples.expand([samples.shape[0],*batch_shape,2]) # (samples * Xs) x fs x Xs x 2\n",
    "            # now these are samples from p(s,r)\n",
    "            logpRgS = copula.log_prob(samples) # [sample dim, batch dims]\n",
    "            assert torch.all(logpRgS==logpRgS)\n",
    "            assert torch.all(logpRgS.abs()!=float(\"inf\")) #otherwise make masked tensor below  \n",
    "            logpR = ((logpRgS.exp()*pS_).sum(dim=-1)).log() # sum over stimuli p(r) = sum p(r|s) p(s)\n",
    "            assert torch.all(logpR==logpR)\n",
    "            assert torch.all(logpR.abs()!=float(\"inf\"))\n",
    "            #logpR = logpR.unsqueeze(-1).expand(logpRgS.shape)\n",
    "            #print(logpR.shape,logpRgS.shape)\n",
    "            log2p = (logpRgS - logpR.unsqueeze(-1)) / log2 #maybe should check for inf 2 lines earlier\n",
    "            k += 1\n",
    "            if k>100:\n",
    "                print('MC integral failed to converge')\n",
    "                break\n",
    "            # Monte-Carlo estimate of entropy\n",
    "            MI += ((pS_*log2p).mean(dim=0) - MI) / k # mean over samples dimension\n",
    "            # Estimate standard error\n",
    "            var_sum += ((((pS_*log2p) - MI)) ** 2).sum(dim=0) \n",
    "            sem = conf * (var_sum / (k * mc_size*batch_shape[-1] * (k * mc_size*batch_shape[-1] - 1))).pow(.5)\n",
    "            #print(MI.sum(dim=-1).mean())\n",
    "            print(sem.max()/sem_tol)\n",
    "    return MI#, sem\n",
    "\n",
    "def direct_stimMI(copula, pS=None, size=10000):\n",
    "    # Gaussian confidence interval for sem_tol and level alpha\n",
    "    batch_shape = copula.batch_shape[1:] #first dm is number of copulas, discard it\n",
    "    #assume that batch_shape = [samples_f shape x conditional variable]\n",
    "    \n",
    "    if pS==None:\n",
    "        pS = torch.ones(batch_shape[-1])*1/(batch_shape[-1])\n",
    "    assert pS.dim() == 1\n",
    "    assert pS.shape[0] == batch_shape[-1]\n",
    "    \n",
    "    MI = torch.zeros(batch_shape) #theta here must have dims: fs x batch dims\n",
    "    log2 = torch.tensor([2.]).log()\n",
    "    samples = (torch.stack([torch.tensor(i,dtype=torch.float) for i in np.mgrid[0:size,0:size]])/size)\n",
    "    samples = torch.einsum('i...->...i',samples)\n",
    "    samples = samples.view(-1,2)\n",
    "    samples = samples.unsqueeze(dim=-2).unsqueeze(dim=-2)\n",
    "    samples = samples.expand([size*size,*batch_shape,2])\n",
    "    logpRgS = copula.log_prob(samples) # [sample dim, batch dims]\n",
    "    assert torch.all(logpRgS==logpRgS)\n",
    "    assert torch.all(logpRgS.abs()!=float(\"inf\")) #otherwise make masked tensor below  \n",
    "    print(logpRgS.shape)\n",
    "    logpR = (logpRgS.exp().mean(dim=-1)).log() # ADD PRIOR!!!\n",
    "    #print(logpR.shape,logpRgS.shape)\n",
    "    log2p = (logpRgS - logpR.unsqueeze(-1)) / log2 #maybe should check for inf 2 lines earlier\n",
    "    return log2p.sum(dim=0)/batch_shape[-1]\n"
   ]
  },
  {
   "cell_type": "code",
   "execution_count": 623,
   "metadata": {},
   "outputs": [
    {
     "name": "stdout",
     "output_type": "stream",
     "text": [
      "FrankGaussian\n",
      "['/home/nina/models/ST263_Day4/model_1-4.pth']\n",
      "tensor(0.0173)\n",
      "CPU times: user 32.3 s, sys: 5.87 s, total: 38.1 s\n",
      "Wall time: 2.74 s\n",
      "tensor(-0.1559) tensor(0.0060)\n"
     ]
    }
   ],
   "source": [
    "def measure_MI(model,points,pS=None,r_mc_size=10000,f_mc_size=10,sem_tol=1e-4):\n",
    "    MIs = []\n",
    "    with torch.no_grad():\n",
    "        fs = model(points).rsample(torch.Size([f_mc_size])) #[samples_f, copulas, positions]\n",
    "    #fs = fs.expand([f_mc_size,*fs.shape[1:]])\n",
    "    copula = model.likelihood(fs)\n",
    "    #MI = direct_stimMI(copula, size=500)\n",
    "    MI = stimMI(copula, pS=pS, sem_tol=sem_tol, mc_size=r_mc_size)\n",
    "    if pS is not None:\n",
    "        plt.imshow(MI/pS.expand(MI.shape))\n",
    "    MIs = MI.sum(dim=-1)\n",
    "\n",
    "    return (MIs.mean(dim=0),MIs.std(dim=0))\n",
    "\n",
    "warnings.showwarning = warn_with_traceback\n",
    "\n",
    "points = torch.linspace(0,1,100)\n",
    "\n",
    "print(data[n1+5,n2+5][1])\n",
    "\n",
    "model = get_model(n1, n2, data[n1+5,n2+5][0], torch.device('cpu')) \n",
    "%time (MI, dMI) = measure_MI(model, points)\n",
    "print(MI,dMI)"
   ]
  },
  {
   "cell_type": "code",
   "execution_count": 567,
   "metadata": {},
   "outputs": [],
   "source": [
    "import utils\n",
    "path_exp = '/home/nina/VRData/Processing/pkls'\n",
    "X,_ = utils.load_experimental_data(path_exp, animal, day_name, 0, 1)"
   ]
  },
  {
   "cell_type": "code",
   "execution_count": 553,
   "metadata": {},
   "outputs": [
    {
     "data": {
      "text/plain": [
       "(array([1.10396463, 1.60576673, 0.90324378, 0.70252294, 0.30108126,\n",
       "        0.70252294, 0.5018021 , 1.20432505, 0.90324378, 2.10756883]),\n",
       " array([0.002118  , 0.10175888, 0.20139975, 0.30104063, 0.4006815 ,\n",
       "        0.50032237, 0.59996325, 0.69960412, 0.79924499, 0.89888587,\n",
       "        0.99852674]),\n",
       " <a list of 10 Patch objects>)"
      ]
     },
     "execution_count": 553,
     "metadata": {},
     "output_type": "execute_result"
    },
    {
     "data": {
      "image/png": "[encoded data removed]",
      "text/plain": [
       "<Figure size 432x288 with 1 Axes>"
      ]
     },
     "metadata": {
      "needs_background": "light"
     },
     "output_type": "display_data"
    }
   ],
   "source": [
    "plt.hist(X,density=True,alpha=0.3)\n",
    "plt.hist(np.random.choice(X.flatten(),100),density=True,alpha=0.3)"
   ]
  },
  {
   "cell_type": "code",
   "execution_count": 612,
   "metadata": {},
   "outputs": [
    {
     "name": "stdout",
     "output_type": "stream",
     "text": [
      "1.0729869411330215\n"
     ]
    },
    {
     "data": {
      "text/plain": [
       "[<matplotlib.lines.Line2D at 0x7f3a395d9e10>]"
      ]
     },
     "execution_count": 612,
     "metadata": {},
     "output_type": "execute_result"
    },
    {
     "data": {
      "image/png": "[encoded data removed]",
      "text/plain": [
       "<Figure size 432x288 with 1 Axes>"
      ]
     },
     "metadata": {
      "needs_background": "light"
     },
     "output_type": "display_data"
    }
   ],
   "source": [
    "from fastkde import fastKDE\n",
    "\n",
    "subset_X = np.random.choice(X.flatten(),1000)\n",
    "\n",
    "cOfX,axis = fastKDE.pdf(subset_X);\n",
    "\n",
    "plt.plot(axis,cOfX)\n",
    "\n",
    "def transform_point(x):\n",
    "    f_x = np.sum(axis<x)\n",
    "    wx = np.abs((axis[f_x]-x)/(axis[f_x]-axis[f_x-1]))\n",
    "    return (1-wx)*cOfX[f_x] + wx*cOfX[f_x-1]\n",
    "\n",
    "x = np.linspace(0,1,100)\n",
    "y = np.array([transform_point(i) for i in x])\n",
    "k = len(x)/y.sum()\n",
    "print(k)\n",
    "y = y*k\n",
    "plt.plot(x,y)"
   ]
  },
  {
   "cell_type": "code",
   "execution_count": null,
   "metadata": {},
   "outputs": [
    {
     "name": "stdout",
     "output_type": "stream",
     "text": [
      "['/home/nina/models/ST263_Day4/model_1-4.pth']\n",
      "tensor(0.0002)\n",
      "CPU times: user 4min 8s, sys: 2min 51s, total: 6min 59s\n",
      "Wall time: 51.3 s\n",
      "tensor(-0.1613) tensor(0.0052)\n"
     ]
    }
   ],
   "source": [
    "subset_X = np.sort(subset_X)\n",
    "model = get_model(n1, n2, data[n1+5,n2+5][0], torch.device('cpu')) \n",
    "points = torch.linspace(0,1,len(subset_X)).float()\n",
    "#pS = torch.ones(len(points))*1/(len(points))\n",
    "pS = torch.tensor([transform_point(i) for i in subset_X]).float()\n",
    "pS = pS/pS.sum()\n",
    "%time (MI, dMI) = measure_MI(model, points, pS=pS, f_mc_size=20)\n",
    "print(MI,dMI)\n",
    "points = torch.tensor(subset_X).float()\n",
    "%time (MI, dMI) = measure_MI(model, points, pS=None, f_mc_size=20)\n",
    "print(MI,dMI)"
   ]
  },
  {
   "cell_type": "code",
   "execution_count": 621,
   "metadata": {},
   "outputs": [
    {
     "data": {
      "text/plain": [
       "True"
      ]
     },
     "execution_count": 621,
     "metadata": {},
     "output_type": "execute_result"
    }
   ],
   "source": [
    "torch.allclose(pS.sum(),torch.ones(1))"
   ]
  },
  {
   "cell_type": "code",
   "execution_count": 8,
   "metadata": {},
   "outputs": [
    {
     "ename": "IndentationError",
     "evalue": "expected an indented block (<ipython-input-8-1edd0510d82b>, line 32)",
     "output_type": "error",
     "traceback": [
      "\u001b[0;36m  File \u001b[0;32m\"<ipython-input-8-1edd0510d82b>\"\u001b[0;36m, line \u001b[0;32m32\u001b[0m\n\u001b[0;31m    return (FI.mean(dim=-1),FI.std(dim=-1))\u001b[0m\n\u001b[0m    ^\u001b[0m\n\u001b[0;31mIndentationError\u001b[0m\u001b[0;31m:\u001b[0m expected an indented block\n"
     ]
    }
   ],
   "source": [
    "def input_information(model, n: int, scale: float, samp_mc_size=100, device=torch.device('cpu')):\n",
    "        ds = scale/n #scale determines units of ds\n",
    "        \n",
    "        points = torch.linspace(0,1,n+3)\n",
    "\n",
    "        with torch.no_grad():\n",
    "            fs = model(points).rsample(torch.Size([20])) #[samples_f, copulas, positions]\n",
    "        fs = torch.einsum('ijk->jki', fs) #[copulas, positions, samples_f] \n",
    "        f = fs.reshape((fs.shape[0],-1)) #[copulas, (samples_f x positions)]\n",
    "            \n",
    "        copula = model.likelihood._get_copula(f, sample_size = torch.Size([samp_mc_size]))\n",
    "        samples = copula.rsample()\n",
    "        logprob = copula.log_prob(samples)\n",
    "        \n",
    "        logprob = logprob.reshape((*fs.shape[1:],-1)) #[positions, samples_f]\n",
    "\n",
    "        #calculate FI\n",
    "        FI = torch.zeros_like(logprob[...,0])\n",
    "        for i in range(1,n):\n",
    "            FI[i] = ((logprob[i].exp())*((logprob[i+1]-logprob[i-1])/ds).pow(2)).sum(dim=-1)\n",
    "            if (i>2) & (i<n-1):\n",
    "                \n",
    "#             #now calculate MI    \n",
    "#             # P(r) = integral P(r|s) P(s) ds\n",
    "#             Pr = torch.zeros(samples.shape[0]).cuda(device=get_cuda_device)\n",
    "#             for i in range(n+1):\n",
    "#                 Pr += logprob[i].exp().detach()*(1/(n+1))\n",
    "#             MIs=0\n",
    "#             for i in range(n+1):    \n",
    "#                 MIs+= 1/(n+1)*logprob[i].exp()*(logprob[i]-Pr.log()) # sum p(r|s) * log p(r|s)/p(r)\n",
    "#             MI = MIs.sum()     \n",
    "        return (FI.mean(dim=-1),FI.std(dim=-1))\n",
    "\n",
    "model = get_model(n1, n2, data[n1+5,n2+5][0], torch.device('cpu')) \n",
    "%time (FI, dFI) = input_information(model, 160, 160, device=torch.device('cpu'))"
   ]
  },
  {
   "cell_type": "code",
   "execution_count": null,
   "metadata": {},
   "outputs": [],
   "source": [
    "plt.plot(np.linspace(0,160,len(FI)),FI)\n",
    "plt.fill_between(np.linspace(0,160,len(FI)),FI-dFI,FI+dFI, alpha=0.3)"
   ]
  },
  {
   "cell_type": "code",
   "execution_count": null,
   "metadata": {},
   "outputs": [],
   "source": []
  }
 ],
 "metadata": {
  "kernelspec": {
   "display_name": "GPyTorch_new",
   "language": "python",
   "name": "gpytorch_new"
  },
  "language_info": {
   "codemirror_mode": {
    "name": "ipython",
    "version": 3
   },
   "file_extension": ".py",
   "mimetype": "text/x-python",
   "name": "python",
   "nbconvert_exporter": "python",
   "pygments_lexer": "ipython3",
   "version": "3.6.8"
  }
 },
 "nbformat": 4,
 "nbformat_minor": 2
}
