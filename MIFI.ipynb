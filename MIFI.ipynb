{
 "cells": [
  {
   "cell_type": "code",
   "execution_count": 1,
   "metadata": {},
   "outputs": [],
   "source": [
    "import numpy as np\n",
    "import pickle as pkl\n",
    "import matplotlib.pyplot as plt\n",
    "import torch\n",
    "import glob\n",
    "\n",
    "import bvcopula\n",
    "\n",
    "%matplotlib inline\n",
    "%load_ext autoreload\n",
    "%autoreload 2"
   ]
  },
  {
   "cell_type": "code",
   "execution_count": 97,
   "metadata": {},
   "outputs": [],
   "source": [
    "animal = 'ST263'\n",
    "dayN = 4\n",
    "day_name = 'Day{}'.format(dayN)\n",
    "exp_pref = '{}_{}'.format(animal,day_name)\n",
    "path = '/home/nina/models'"
   ]
  },
  {
   "cell_type": "code",
   "execution_count": 98,
   "metadata": {},
   "outputs": [
    {
     "data": {
      "text/plain": [
       "[FrankCopula_Likelihood(\n",
       "   (quadrature): GaussHermiteQuadrature1D()\n",
       " ), IndependenceCopula_Likelihood(\n",
       "   (quadrature): GaussHermiteQuadrature1D()\n",
       " ), GumbelCopula_Likelihood(\n",
       "   (quadrature): GaussHermiteQuadrature1D()\n",
       " )]"
      ]
     },
     "execution_count": 98,
     "metadata": {},
     "output_type": "execute_result"
    }
   ],
   "source": [
    "out_dir = '../models/'+exp_pref\n",
    "with open(out_dir+'/summary.pkl','rb') as f:\n",
    "    data = pkl.load(f)\n",
    "n1=2\n",
    "n2=20\n",
    "data[n1+5,n2+5][0]"
   ]
  },
  {
   "cell_type": "code",
   "execution_count": 300,
   "metadata": {
    "scrolled": true
   },
   "outputs": [
    {
     "name": "stdout",
     "output_type": "stream",
     "text": [
      "FrankGaussian\n",
      "['/home/nina/models/ST263_Day4/model_1-4.pth']\n",
      "CPU times: user 312 ms, sys: 0 ns, total: 312 ms\n",
      "Wall time: 12.1 ms\n",
      "CPU times: user 14min 9s, sys: 1.25 s, total: 14min 10s\n",
      "Wall time: 26.7 s\n"
     ]
    }
   ],
   "source": [
    "import warnings\n",
    "import sys\n",
    "import traceback\n",
    "from tqdm import tqdm\n",
    "    \n",
    "def warn_with_traceback(message, category, filename, lineno, file=None, line=None):\n",
    "    log = file if hasattr(file,'write') else sys.stderr\n",
    "    traceback.print_stack(file=log)\n",
    "    log.write(warnings.formatwarning(message, category, filename, lineno, line))\n",
    "    \n",
    "def get_model(n1,n2,likelihoods,device):\n",
    "    get_weights_filename = glob.glob('{}/{}/model_{}-{}.pth'.format(path,exp_pref,n1,n2))\n",
    "    print(get_weights_filename)\n",
    "    if len(get_weights_filename)>0:\n",
    "        if len(get_weights_filename)>1:\n",
    "            print('There is more then 1 file, taking the first one')\n",
    "            return 0\n",
    "        model = bvcopula.load_model(get_weights_filename[0], likelihoods, device)\n",
    "        return model\n",
    "    else:\n",
    "        print('Weights file {} not found.'.format(get_weights_filename))\n",
    "        return 0\n",
    "        \n",
    "def measure_MI(model,points,samp_mc_size=10000):\n",
    "    MIs = []\n",
    "    with torch.no_grad():\n",
    "        fs = model(points).rsample(torch.Size([5])) #[samples_f, copulas, positions]\n",
    "    f_mean = model(points).mean.unsqueeze(0)\n",
    "    # now add mean f to a set of f samples\n",
    "    fs = torch.cat((fs,f_mean),0) #[samples_f + 1, copulas, positions]\n",
    "\n",
    "    copula = model.likelihood(fs)\n",
    "    MIs = copula.entropy()\n",
    "    MI_mean = MIs[-1]\n",
    "    MIs = MIs[:-1]\n",
    "\n",
    "    return (MI_mean,MIs.mean(dim=0),MIs.std(dim=0))\n",
    "\n",
    "warnings.showwarning = warn_with_traceback\n",
    "\n",
    "points = torch.linspace(0,1,20)\n",
    "        \n",
    "n1=1\n",
    "n2=4\n",
    "\n",
    "print(data[n1+5,n2+5][1])\n",
    "\n",
    "%time model = get_model(n1, n2, data[n1+5,n2+5][0], torch.device('cpu')) \n",
    "%time (ym, y, dy) = measure_MI(model, points)"
   ]
  },
  {
   "cell_type": "code",
   "execution_count": 301,
   "metadata": {},
   "outputs": [
    {
     "data": {
      "text/plain": [
       "(-0.5, 0)"
      ]
     },
     "execution_count": 301,
     "metadata": {},
     "output_type": "execute_result"
    },
    {
     "data": {
      "image/png": "[encoded data removed]",
      "text/plain": [
       "<Figure size 432x288 with 1 Axes>"
      ]
     },
     "metadata": {
      "needs_background": "light"
     },
     "output_type": "display_data"
    }
   ],
   "source": [
    "plt.plot(np.linspace(0,160,len(y)),y)\n",
    "plt.fill_between(np.linspace(0,160,len(y)),y-dy,y+dy, alpha=0.3)\n",
    "plt.plot(np.linspace(0,160,len(ym)),ym)\n",
    "plt.ylim(-.5,0)"
   ]
  },
  {
   "cell_type": "code",
   "execution_count": 783,
   "metadata": {},
   "outputs": [],
   "source": [
    "def stimMI(copula, pS=None, alpha=0.05, sem_tol=1e-3, mc_size=10000):\n",
    "    '''\n",
    "    Estimates the mutual information between a pair of uniformely\n",
    "    distributed copula-transformed variables and the conditioning variable\n",
    "    with the Robbins-Monro algorithm over responses.\n",
    "    Parameters\n",
    "    ----------\n",
    "    pS : Tensor\n",
    "        Prior over stimuli P(S). TODO: this, now assume uniform!\n",
    "    alpha : float, optional\n",
    "        Significance level of the entropy estimate.  (Default: 0.05)\n",
    "    sem_tol : float, optional\n",
    "        Maximum standard error as a stopping criterion.  (Default: 1e-3)\n",
    "    mc_size : integer, optional\n",
    "        Number of samples that are drawn in each iteration of the Monte\n",
    "        Carlo estimation.  (Default: 10000)\n",
    "    Returns\n",
    "    -------\n",
    "    ent : float\n",
    "        Estimate of the mixed vine entropy in bits.\n",
    "    sem : float\n",
    "        Standard error of the mixed vine entropy estimate in bits.\n",
    "    '''\n",
    "    # Gaussian confidence interval for sem_tol and level alpha\n",
    "    conf = torch.erfinv(torch.tensor([1. - alpha]))\n",
    "    batch_shape = copula.batch_shape[1:] #first dm is number of copulas, discard it\n",
    "    #assume that batch_shape = [samples_f shape x conditional variable]\n",
    "    \n",
    "    ds = 1/(batch_shape[-1])\n",
    "    if pS is None:\n",
    "        pS = torch.ones(batch_shape[-1])*ds\n",
    "    assert pS.dim() == 1\n",
    "    assert pS.shape[0] == batch_shape[-1]\n",
    "    assert torch.allclose(pS.sum(),torch.ones(1))\n",
    "    pS_ = pS.expand([mc_size*batch_shape[-1],*batch_shape])\n",
    "\n",
    "    sem = torch.ones(batch_shape)*float('inf')\n",
    "    MI = torch.zeros(batch_shape) #theta here must have dims: fs x batch dims\n",
    "    var_sum = torch.zeros(batch_shape)\n",
    "    log2 = torch.tensor([2.]).log()\n",
    "#     x, y = [torch.tensor(i) for i in np.mgrid[0:mc_size,0:batch_shape[1]]]\n",
    "#     perm = torch.randperm(mc_size * batch_shape[1]) #premutations for samples x positions\n",
    "#     x_ = x.view(-1)[perm]\n",
    "#     y_ = y.view(-1)[perm]\n",
    "    k = 0\n",
    "    with torch.no_grad():\n",
    "        while torch.any(sem >= sem_tol):\n",
    "            # Generate samples\n",
    "            samples = copula.rsample(sample_shape = torch.Size([mc_size]))\n",
    "            # size [samples, fs, positions, 2]\n",
    "            samples = torch.einsum(\"ijk...->ikj...\",samples) # samples x Xs x fs x 2\n",
    "            samples = samples.reshape(-1,*samples.shape[2:]) # (samples * Xs) x fs x 2\n",
    "            samples = samples.unsqueeze(dim=-2) # (samples * Xs) x fs x 1 x 2\n",
    "            samples = samples.expand([mc_size*batch_shape[-1],*batch_shape,2]) # (samples * Xs) x fs x Xs x 2\n",
    "            # now these are samples from p(s,r)\n",
    "            logpRgS = copula.log_prob(samples) # [sample dim, batch dims]\n",
    "            logpR = ((logpRgS.exp()*pS_).sum(dim=-1)).log() # sum over stimuli p(r) = sum p(r|s) p(s)\n",
    "            # *ds -> mass function\n",
    "            assert torch.all(logpR==logpR)\n",
    "            assert torch.all(logpR.abs()!=float(\"inf\"))\n",
    "            log2p = (logpRgS - logpR.unsqueeze(-1)) / log2 #maybe should check for inf 2 lines earlier\n",
    "            k += 1\n",
    "            if k>100:\n",
    "                print('MC integral failed to converge')\n",
    "                break\n",
    "            # Monte-Carlo estimate of entropy\n",
    "            MI += ((pS_*log2p).mean(dim=0) - MI) / k # mean over samples dimension\n",
    "            # Estimate standard error\n",
    "            var_sum += ((((pS_*log2p) - MI)) ** 2).sum(dim=0) \n",
    "            sem = conf * (var_sum / (k * mc_size*batch_shape[-1] * (k * mc_size*batch_shape[-1] - 1))).pow(.5)\n",
    "            #print(MI.sum(dim=-1).mean())\n",
    "            print(sem.max()/sem_tol)\n",
    "    return MI#, sem\n"
   ]
  },
  {
   "cell_type": "code",
   "execution_count": 785,
   "metadata": {},
   "outputs": [
    {
     "name": "stdout",
     "output_type": "stream",
     "text": [
      "FrankGaussian\n",
      "['/home/nina/models/ST263_Day4/model_1-4.pth']\n",
      "tensor(0.0264)\n",
      "CPU times: user 2min, sys: 1min 8s, total: 3min 8s\n",
      "Wall time: 23.9 s\n",
      "tensor(-0.0250) tensor(0.0013)\n"
     ]
    }
   ],
   "source": [
    "def measure_MI(model,points,pS=None,r_mc_size=1000,f_mc_size=10,sem_tol=1e-3):\n",
    "    MIs = []\n",
    "    with torch.no_grad():\n",
    "        fs = model(points).rsample(torch.Size([f_mc_size])) #[samples_f, copulas, positions]\n",
    "    #fs = fs.expand([f_mc_size,*fs.shape[1:]])\n",
    "    copula = model.likelihood(fs)\n",
    "    MI = stimMI(copula, pS=pS, sem_tol=sem_tol, mc_size=r_mc_size)\n",
    "    if pS is not None:\n",
    "        plt.imshow(MI/pS.expand(MI.shape))\n",
    "    MIs = MI.sum(dim=-1)\n",
    "\n",
    "    return (MIs.mean(dim=0),MIs.std(dim=0))\n",
    "\n",
    "warnings.showwarning = warn_with_traceback\n",
    "\n",
    "points = torch.linspace(0,1,100)\n",
    "\n",
    "print(data[n1+5,n2+5][1])\n",
    "\n",
    "model = get_model(n1, n2, data[n1+5,n2+5][0], torch.device('cpu')) \n",
    "%time (MI, dMI) = measure_MI(model, points)\n",
    "print(MI,dMI)"
   ]
  },
  {
   "cell_type": "code",
   "execution_count": 786,
   "metadata": {},
   "outputs": [],
   "source": [
    "import utils\n",
    "path_exp = '/home/nina/VRData/Processing/pkls'\n",
    "X,_ = utils.load_experimental_data(path_exp, animal, day_name, 0, 1)"
   ]
  },
  {
   "cell_type": "code",
   "execution_count": 787,
   "metadata": {},
   "outputs": [
    {
     "data": {
      "text/plain": [
       "(array([1.00005097, 1.20006116, 0.80004078, 0.50002549, 0.80004078,\n",
       "        1.00005097, 0.40002039, 1.00005097, 1.60008155, 1.70008665]),\n",
       " array([4.98294435e-05, 1.00044733e-01, 2.00039636e-01, 3.00034539e-01,\n",
       "        4.00029442e-01, 5.00024345e-01, 6.00019249e-01, 7.00014152e-01,\n",
       "        8.00009055e-01, 9.00003958e-01, 9.99998861e-01]),\n",
       " <a list of 10 Patch objects>)"
      ]
     },
     "execution_count": 787,
     "metadata": {},
     "output_type": "execute_result"
    },
    {
     "data": {
      "image/png": "[encoded data removed]",
      "text/plain": [
       "<Figure size 432x288 with 1 Axes>"
      ]
     },
     "metadata": {
      "needs_background": "light"
     },
     "output_type": "display_data"
    }
   ],
   "source": [
    "plt.hist(X,density=True,alpha=0.3)\n",
    "plt.hist(np.random.choice(X.flatten(),100),density=True,alpha=0.3)"
   ]
  },
  {
   "cell_type": "code",
   "execution_count": 791,
   "metadata": {},
   "outputs": [
    {
     "name": "stdout",
     "output_type": "stream",
     "text": [
      "1.0730882676735007\n"
     ]
    },
    {
     "data": {
      "text/plain": [
       "[<matplotlib.lines.Line2D at 0x7f39ec0cda90>]"
      ]
     },
     "execution_count": 791,
     "metadata": {},
     "output_type": "execute_result"
    },
    {
     "data": {
      "image/png": "[encoded data removed]",
      "text/plain": [
       "<Figure size 432x288 with 1 Axes>"
      ]
     },
     "metadata": {
      "needs_background": "light"
     },
     "output_type": "display_data"
    }
   ],
   "source": [
    "from fastkde import fastKDE\n",
    "\n",
    "subset_X = np.random.choice(X.flatten(),500)\n",
    "\n",
    "cOfX,axis = fastKDE.pdf(subset_X);\n",
    "\n",
    "plt.plot(axis,cOfX)\n",
    "\n",
    "def transform_point(x):\n",
    "    f_x = np.sum(axis<x)\n",
    "    wx = np.abs((axis[f_x]-x)/(axis[f_x]-axis[f_x-1]))\n",
    "    return (1-wx)*cOfX[f_x] + wx*cOfX[f_x-1]\n",
    "\n",
    "x = np.linspace(0,1,100)\n",
    "y = np.array([transform_point(i) for i in x])\n",
    "k = len(x)/y.sum()\n",
    "print(k)\n",
    "y = y*k\n",
    "plt.plot(x,y)"
   ]
  },
  {
   "cell_type": "code",
   "execution_count": 793,
   "metadata": {},
   "outputs": [
    {
     "name": "stdout",
     "output_type": "stream",
     "text": [
      "['/home/nina/models/ST263_Day4/model_1-4.pth']\n"
     ]
    },
    {
     "ename": "RuntimeError",
     "evalue": "[enforce fail at CPUAllocator.cpp:64] . DefaultCPUAllocator: can't allocate memory: you tried to allocate 118464000000 bytes. Error code 12 (Cannot allocate memory)\n",
     "output_type": "error",
     "traceback": [
      "\u001b[0;31m---------------------------------------------------------------------------\u001b[0m",
      "\u001b[0;31mRuntimeError\u001b[0m                              Traceback (most recent call last)",
      "\u001b[0;32m<timed exec>\u001b[0m in \u001b[0;36m<module>\u001b[0;34m\u001b[0m\n",
      "\u001b[0;32m<ipython-input-785-e416c136f7eb>\u001b[0m in \u001b[0;36mmeasure_MI\u001b[0;34m(model, points, pS, r_mc_size, f_mc_size, sem_tol)\u001b[0m\n\u001b[1;32m      5\u001b[0m     \u001b[0;31m#fs = fs.expand([f_mc_size,*fs.shape[1:]])\u001b[0m\u001b[0;34m\u001b[0m\u001b[0;34m\u001b[0m\u001b[0;34m\u001b[0m\u001b[0m\n\u001b[1;32m      6\u001b[0m     \u001b[0mcopula\u001b[0m \u001b[0;34m=\u001b[0m \u001b[0mmodel\u001b[0m\u001b[0;34m.\u001b[0m\u001b[0mlikelihood\u001b[0m\u001b[0;34m(\u001b[0m\u001b[0mfs\u001b[0m\u001b[0;34m)\u001b[0m\u001b[0;34m\u001b[0m\u001b[0;34m\u001b[0m\u001b[0m\n\u001b[0;32m----> 7\u001b[0;31m     \u001b[0mMI\u001b[0m \u001b[0;34m=\u001b[0m \u001b[0mstimMI\u001b[0m\u001b[0;34m(\u001b[0m\u001b[0mcopula\u001b[0m\u001b[0;34m,\u001b[0m \u001b[0mpS\u001b[0m\u001b[0;34m=\u001b[0m\u001b[0mpS\u001b[0m\u001b[0;34m,\u001b[0m \u001b[0msem_tol\u001b[0m\u001b[0;34m=\u001b[0m\u001b[0msem_tol\u001b[0m\u001b[0;34m,\u001b[0m \u001b[0mmc_size\u001b[0m\u001b[0;34m=\u001b[0m\u001b[0mr_mc_size\u001b[0m\u001b[0;34m)\u001b[0m\u001b[0;34m\u001b[0m\u001b[0;34m\u001b[0m\u001b[0m\n\u001b[0m\u001b[1;32m      8\u001b[0m     \u001b[0;32mif\u001b[0m \u001b[0mpS\u001b[0m \u001b[0;32mis\u001b[0m \u001b[0;32mnot\u001b[0m \u001b[0;32mNone\u001b[0m\u001b[0;34m:\u001b[0m\u001b[0;34m\u001b[0m\u001b[0;34m\u001b[0m\u001b[0m\n\u001b[1;32m      9\u001b[0m         \u001b[0mplt\u001b[0m\u001b[0;34m.\u001b[0m\u001b[0mimshow\u001b[0m\u001b[0;34m(\u001b[0m\u001b[0mMI\u001b[0m\u001b[0;34m/\u001b[0m\u001b[0mpS\u001b[0m\u001b[0;34m.\u001b[0m\u001b[0mexpand\u001b[0m\u001b[0;34m(\u001b[0m\u001b[0mMI\u001b[0m\u001b[0;34m.\u001b[0m\u001b[0mshape\u001b[0m\u001b[0;34m)\u001b[0m\u001b[0;34m)\u001b[0m\u001b[0;34m\u001b[0m\u001b[0;34m\u001b[0m\u001b[0m\n",
      "\u001b[0;32m<ipython-input-783-95a24f4df5f5>\u001b[0m in \u001b[0;36mstimMI\u001b[0;34m(copula, pS, alpha, sem_tol, mc_size)\u001b[0m\n\u001b[1;32m     54\u001b[0m             \u001b[0msamples\u001b[0m \u001b[0;34m=\u001b[0m \u001b[0msamples\u001b[0m\u001b[0;34m.\u001b[0m\u001b[0mexpand\u001b[0m\u001b[0;34m(\u001b[0m\u001b[0;34m[\u001b[0m\u001b[0mmc_size\u001b[0m\u001b[0;34m*\u001b[0m\u001b[0mbatch_shape\u001b[0m\u001b[0;34m[\u001b[0m\u001b[0;34m-\u001b[0m\u001b[0;36m1\u001b[0m\u001b[0;34m]\u001b[0m\u001b[0;34m,\u001b[0m\u001b[0;34m*\u001b[0m\u001b[0mbatch_shape\u001b[0m\u001b[0;34m,\u001b[0m\u001b[0;36m2\u001b[0m\u001b[0;34m]\u001b[0m\u001b[0;34m)\u001b[0m \u001b[0;31m# (samples * Xs) x fs x Xs x 2\u001b[0m\u001b[0;34m\u001b[0m\u001b[0;34m\u001b[0m\u001b[0m\n\u001b[1;32m     55\u001b[0m             \u001b[0;31m# now these are samples from p(s,r)\u001b[0m\u001b[0;34m\u001b[0m\u001b[0;34m\u001b[0m\u001b[0;34m\u001b[0m\u001b[0m\n\u001b[0;32m---> 56\u001b[0;31m             \u001b[0mlogpRgS\u001b[0m \u001b[0;34m=\u001b[0m \u001b[0mcopula\u001b[0m\u001b[0;34m.\u001b[0m\u001b[0mlog_prob\u001b[0m\u001b[0;34m(\u001b[0m\u001b[0msamples\u001b[0m\u001b[0;34m)\u001b[0m \u001b[0;31m# [sample dim, batch dims]\u001b[0m\u001b[0;34m\u001b[0m\u001b[0;34m\u001b[0m\u001b[0m\n\u001b[0m\u001b[1;32m     57\u001b[0m             \u001b[0mlogpR\u001b[0m \u001b[0;34m=\u001b[0m \u001b[0;34m(\u001b[0m\u001b[0;34m(\u001b[0m\u001b[0mlogpRgS\u001b[0m\u001b[0;34m.\u001b[0m\u001b[0mexp\u001b[0m\u001b[0;34m(\u001b[0m\u001b[0;34m)\u001b[0m\u001b[0;34m*\u001b[0m\u001b[0mpS_\u001b[0m\u001b[0;34m)\u001b[0m\u001b[0;34m.\u001b[0m\u001b[0msum\u001b[0m\u001b[0;34m(\u001b[0m\u001b[0mdim\u001b[0m\u001b[0;34m=\u001b[0m\u001b[0;34m-\u001b[0m\u001b[0;36m1\u001b[0m\u001b[0;34m)\u001b[0m\u001b[0;34m)\u001b[0m\u001b[0;34m.\u001b[0m\u001b[0mlog\u001b[0m\u001b[0;34m(\u001b[0m\u001b[0;34m)\u001b[0m \u001b[0;31m# sum over stimuli p(r) = sum p(r|s) p(s)\u001b[0m\u001b[0;34m\u001b[0m\u001b[0;34m\u001b[0m\u001b[0m\n\u001b[1;32m     58\u001b[0m             \u001b[0;31m# *ds -> mass function\u001b[0m\u001b[0;34m\u001b[0m\u001b[0;34m\u001b[0m\u001b[0;34m\u001b[0m\u001b[0m\n",
      "\u001b[0;32m~/LFI/bvcopula/distributions.py\u001b[0m in \u001b[0;36mlog_prob\u001b[0;34m(self, value, safe)\u001b[0m\n\u001b[1;32m    616\u001b[0m                 \u001b[0madd\u001b[0m \u001b[0;34m=\u001b[0m \u001b[0mc\u001b[0m\u001b[0;34m(\u001b[0m\u001b[0mself\u001b[0m\u001b[0;34m.\u001b[0m\u001b[0mtheta\u001b[0m\u001b[0;34m[\u001b[0m\u001b[0mself\u001b[0m\u001b[0;34m.\u001b[0m\u001b[0mtheta\u001b[0m\u001b[0;34m!=\u001b[0m\u001b[0mself\u001b[0m\u001b[0;34m.\u001b[0m\u001b[0mtheta\u001b[0m\u001b[0;34m]\u001b[0m\u001b[0;34m)\u001b[0m\u001b[0;34m.\u001b[0m\u001b[0mlog_prob\u001b[0m\u001b[0;34m(\u001b[0m\u001b[0mvalue\u001b[0m\u001b[0;34m)\u001b[0m\u001b[0;34m\u001b[0m\u001b[0;34m\u001b[0m\u001b[0m\n\u001b[1;32m    617\u001b[0m             \u001b[0;32melse\u001b[0m\u001b[0;34m:\u001b[0m\u001b[0;34m\u001b[0m\u001b[0;34m\u001b[0m\u001b[0m\n\u001b[0;32m--> 618\u001b[0;31m                 \u001b[0madd\u001b[0m \u001b[0;34m=\u001b[0m \u001b[0mc\u001b[0m\u001b[0;34m(\u001b[0m\u001b[0mself\u001b[0m\u001b[0;34m.\u001b[0m\u001b[0mtheta\u001b[0m\u001b[0;34m[\u001b[0m\u001b[0mi\u001b[0m\u001b[0;34m]\u001b[0m\u001b[0;34m,\u001b[0m \u001b[0mrotation\u001b[0m\u001b[0;34m=\u001b[0m\u001b[0mself\u001b[0m\u001b[0;34m.\u001b[0m\u001b[0mrotations\u001b[0m\u001b[0;34m[\u001b[0m\u001b[0mi\u001b[0m\u001b[0;34m]\u001b[0m\u001b[0;34m)\u001b[0m\u001b[0;34m.\u001b[0m\u001b[0mlog_prob\u001b[0m\u001b[0;34m(\u001b[0m\u001b[0mvalue\u001b[0m\u001b[0;34m,\u001b[0m\u001b[0msafe\u001b[0m\u001b[0;34m=\u001b[0m\u001b[0msafe\u001b[0m\u001b[0;34m)\u001b[0m\u001b[0;34m.\u001b[0m\u001b[0mclamp\u001b[0m\u001b[0;34m(\u001b[0m\u001b[0;34m-\u001b[0m\u001b[0;36m100.\u001b[0m\u001b[0;34m,\u001b[0m\u001b[0;36m88.\u001b[0m\u001b[0;34m)\u001b[0m\u001b[0;34m\u001b[0m\u001b[0;34m\u001b[0m\u001b[0m\n\u001b[0m\u001b[1;32m    619\u001b[0m                 \u001b[0;31m#-100 to 88 is a range of x such that torch.exp(x).log()!=+-inf\u001b[0m\u001b[0;34m\u001b[0m\u001b[0;34m\u001b[0m\u001b[0;34m\u001b[0m\u001b[0m\n\u001b[1;32m    620\u001b[0m             \u001b[0mprob\u001b[0m \u001b[0;34m+=\u001b[0m \u001b[0mself\u001b[0m\u001b[0;34m.\u001b[0m\u001b[0mmix\u001b[0m\u001b[0;34m[\u001b[0m\u001b[0mi\u001b[0m\u001b[0;34m]\u001b[0m\u001b[0;34m*\u001b[0m\u001b[0mtorch\u001b[0m\u001b[0;34m.\u001b[0m\u001b[0mexp\u001b[0m\u001b[0;34m(\u001b[0m\u001b[0madd\u001b[0m\u001b[0;34m)\u001b[0m\u001b[0;34m\u001b[0m\u001b[0;34m\u001b[0m\u001b[0m\n",
      "\u001b[0;32m~/LFI/bvcopula/distributions.py\u001b[0m in \u001b[0;36mlog_prob\u001b[0;34m(self, value, safe)\u001b[0m\n\u001b[1;32m    243\u001b[0m         \u001b[0mmask\u001b[0m \u001b[0;34m=\u001b[0m \u001b[0;34m(\u001b[0m\u001b[0mtheta_\u001b[0m\u001b[0;34m.\u001b[0m\u001b[0mabs\u001b[0m\u001b[0;34m(\u001b[0m\u001b[0;34m)\u001b[0m \u001b[0;34m>\u001b[0m \u001b[0;36m1e-2\u001b[0m\u001b[0;34m)\u001b[0m \u001b[0;34m&\u001b[0m \u001b[0;34m(\u001b[0m\u001b[0mtheta_\u001b[0m\u001b[0;34m.\u001b[0m\u001b[0mabs\u001b[0m\u001b[0;34m(\u001b[0m\u001b[0;34m)\u001b[0m \u001b[0;34m<\u001b[0m \u001b[0mconf\u001b[0m\u001b[0;34m.\u001b[0m\u001b[0mFrank_Theta_Max\u001b[0m\u001b[0;34m)\u001b[0m\u001b[0;34m\u001b[0m\u001b[0;34m\u001b[0m\u001b[0m\n\u001b[1;32m    244\u001b[0m         \u001b[0;32massert\u001b[0m \u001b[0mtheta_\u001b[0m\u001b[0;34m.\u001b[0m\u001b[0mshape\u001b[0m\u001b[0;34m==\u001b[0m\u001b[0mvalue\u001b[0m\u001b[0;34m[\u001b[0m\u001b[0;34m...\u001b[0m\u001b[0;34m,\u001b[0m\u001b[0;36m0\u001b[0m\u001b[0;34m]\u001b[0m\u001b[0;34m.\u001b[0m\u001b[0mshape\u001b[0m\u001b[0;34m\u001b[0m\u001b[0;34m\u001b[0m\u001b[0m\n\u001b[0;32m--> 245\u001b[0;31m         \u001b[0mvalue_\u001b[0m \u001b[0;34m=\u001b[0m \u001b[0mvalue\u001b[0m\u001b[0;34m[\u001b[0m\u001b[0mmask\u001b[0m\u001b[0;34m]\u001b[0m \u001b[0;31m#now add event dim\u001b[0m\u001b[0;34m\u001b[0m\u001b[0;34m\u001b[0m\u001b[0m\n\u001b[0m\u001b[1;32m    246\u001b[0m \u001b[0;34m\u001b[0m\u001b[0m\n\u001b[1;32m    247\u001b[0m         \u001b[0mlog_prob\u001b[0m \u001b[0;34m=\u001b[0m \u001b[0mtorch\u001b[0m\u001b[0;34m.\u001b[0m\u001b[0mzeros_like\u001b[0m\u001b[0;34m(\u001b[0m\u001b[0mtheta_\u001b[0m\u001b[0;34m)\u001b[0m \u001b[0;31m# by default 0 and already on a correct device\u001b[0m\u001b[0;34m\u001b[0m\u001b[0;34m\u001b[0m\u001b[0m\n",
      "\u001b[0;31mRuntimeError\u001b[0m: [enforce fail at CPUAllocator.cpp:64] . DefaultCPUAllocator: can't allocate memory: you tried to allocate 118464000000 bytes. Error code 12 (Cannot allocate memory)\n"
     ]
    },
    {
     "name": "stdout",
     "output_type": "stream",
     "text": [
      "tensor(-0.0250) tensor(0.0013)\n"
     ]
    },
    {
     "ename": "RuntimeError",
     "evalue": "[enforce fail at CPUAllocator.cpp:64] . DefaultCPUAllocator: can't allocate memory: you tried to allocate 117960000000 bytes. Error code 12 (Cannot allocate memory)\n",
     "output_type": "error",
     "traceback": [
      "\u001b[0;31m---------------------------------------------------------------------------\u001b[0m",
      "\u001b[0;31mRuntimeError\u001b[0m                              Traceback (most recent call last)",
      "\u001b[0;32m<timed exec>\u001b[0m in \u001b[0;36m<module>\u001b[0;34m\u001b[0m\n",
      "\u001b[0;32m<ipython-input-785-e416c136f7eb>\u001b[0m in \u001b[0;36mmeasure_MI\u001b[0;34m(model, points, pS, r_mc_size, f_mc_size, sem_tol)\u001b[0m\n\u001b[1;32m      5\u001b[0m     \u001b[0;31m#fs = fs.expand([f_mc_size,*fs.shape[1:]])\u001b[0m\u001b[0;34m\u001b[0m\u001b[0;34m\u001b[0m\u001b[0;34m\u001b[0m\u001b[0m\n\u001b[1;32m      6\u001b[0m     \u001b[0mcopula\u001b[0m \u001b[0;34m=\u001b[0m \u001b[0mmodel\u001b[0m\u001b[0;34m.\u001b[0m\u001b[0mlikelihood\u001b[0m\u001b[0;34m(\u001b[0m\u001b[0mfs\u001b[0m\u001b[0;34m)\u001b[0m\u001b[0;34m\u001b[0m\u001b[0;34m\u001b[0m\u001b[0m\n\u001b[0;32m----> 7\u001b[0;31m     \u001b[0mMI\u001b[0m \u001b[0;34m=\u001b[0m \u001b[0mstimMI\u001b[0m\u001b[0;34m(\u001b[0m\u001b[0mcopula\u001b[0m\u001b[0;34m,\u001b[0m \u001b[0mpS\u001b[0m\u001b[0;34m=\u001b[0m\u001b[0mpS\u001b[0m\u001b[0;34m,\u001b[0m \u001b[0msem_tol\u001b[0m\u001b[0;34m=\u001b[0m\u001b[0msem_tol\u001b[0m\u001b[0;34m,\u001b[0m \u001b[0mmc_size\u001b[0m\u001b[0;34m=\u001b[0m\u001b[0mr_mc_size\u001b[0m\u001b[0;34m)\u001b[0m\u001b[0;34m\u001b[0m\u001b[0;34m\u001b[0m\u001b[0m\n\u001b[0m\u001b[1;32m      8\u001b[0m     \u001b[0;32mif\u001b[0m \u001b[0mpS\u001b[0m \u001b[0;32mis\u001b[0m \u001b[0;32mnot\u001b[0m \u001b[0;32mNone\u001b[0m\u001b[0;34m:\u001b[0m\u001b[0;34m\u001b[0m\u001b[0;34m\u001b[0m\u001b[0m\n\u001b[1;32m      9\u001b[0m         \u001b[0mplt\u001b[0m\u001b[0;34m.\u001b[0m\u001b[0mimshow\u001b[0m\u001b[0;34m(\u001b[0m\u001b[0mMI\u001b[0m\u001b[0;34m/\u001b[0m\u001b[0mpS\u001b[0m\u001b[0;34m.\u001b[0m\u001b[0mexpand\u001b[0m\u001b[0;34m(\u001b[0m\u001b[0mMI\u001b[0m\u001b[0;34m.\u001b[0m\u001b[0mshape\u001b[0m\u001b[0;34m)\u001b[0m\u001b[0;34m)\u001b[0m\u001b[0;34m\u001b[0m\u001b[0;34m\u001b[0m\u001b[0m\n",
      "\u001b[0;32m<ipython-input-783-95a24f4df5f5>\u001b[0m in \u001b[0;36mstimMI\u001b[0;34m(copula, pS, alpha, sem_tol, mc_size)\u001b[0m\n\u001b[1;32m     54\u001b[0m             \u001b[0msamples\u001b[0m \u001b[0;34m=\u001b[0m \u001b[0msamples\u001b[0m\u001b[0;34m.\u001b[0m\u001b[0mexpand\u001b[0m\u001b[0;34m(\u001b[0m\u001b[0;34m[\u001b[0m\u001b[0mmc_size\u001b[0m\u001b[0;34m*\u001b[0m\u001b[0mbatch_shape\u001b[0m\u001b[0;34m[\u001b[0m\u001b[0;34m-\u001b[0m\u001b[0;36m1\u001b[0m\u001b[0;34m]\u001b[0m\u001b[0;34m,\u001b[0m\u001b[0;34m*\u001b[0m\u001b[0mbatch_shape\u001b[0m\u001b[0;34m,\u001b[0m\u001b[0;36m2\u001b[0m\u001b[0;34m]\u001b[0m\u001b[0;34m)\u001b[0m \u001b[0;31m# (samples * Xs) x fs x Xs x 2\u001b[0m\u001b[0;34m\u001b[0m\u001b[0;34m\u001b[0m\u001b[0m\n\u001b[1;32m     55\u001b[0m             \u001b[0;31m# now these are samples from p(s,r)\u001b[0m\u001b[0;34m\u001b[0m\u001b[0;34m\u001b[0m\u001b[0;34m\u001b[0m\u001b[0m\n\u001b[0;32m---> 56\u001b[0;31m             \u001b[0mlogpRgS\u001b[0m \u001b[0;34m=\u001b[0m \u001b[0mcopula\u001b[0m\u001b[0;34m.\u001b[0m\u001b[0mlog_prob\u001b[0m\u001b[0;34m(\u001b[0m\u001b[0msamples\u001b[0m\u001b[0;34m)\u001b[0m \u001b[0;31m# [sample dim, batch dims]\u001b[0m\u001b[0;34m\u001b[0m\u001b[0;34m\u001b[0m\u001b[0m\n\u001b[0m\u001b[1;32m     57\u001b[0m             \u001b[0mlogpR\u001b[0m \u001b[0;34m=\u001b[0m \u001b[0;34m(\u001b[0m\u001b[0;34m(\u001b[0m\u001b[0mlogpRgS\u001b[0m\u001b[0;34m.\u001b[0m\u001b[0mexp\u001b[0m\u001b[0;34m(\u001b[0m\u001b[0;34m)\u001b[0m\u001b[0;34m*\u001b[0m\u001b[0mpS_\u001b[0m\u001b[0;34m)\u001b[0m\u001b[0;34m.\u001b[0m\u001b[0msum\u001b[0m\u001b[0;34m(\u001b[0m\u001b[0mdim\u001b[0m\u001b[0;34m=\u001b[0m\u001b[0;34m-\u001b[0m\u001b[0;36m1\u001b[0m\u001b[0;34m)\u001b[0m\u001b[0;34m)\u001b[0m\u001b[0;34m.\u001b[0m\u001b[0mlog\u001b[0m\u001b[0;34m(\u001b[0m\u001b[0;34m)\u001b[0m \u001b[0;31m# sum over stimuli p(r) = sum p(r|s) p(s)\u001b[0m\u001b[0;34m\u001b[0m\u001b[0;34m\u001b[0m\u001b[0m\n\u001b[1;32m     58\u001b[0m             \u001b[0;31m# *ds -> mass function\u001b[0m\u001b[0;34m\u001b[0m\u001b[0;34m\u001b[0m\u001b[0;34m\u001b[0m\u001b[0m\n",
      "\u001b[0;32m~/LFI/bvcopula/distributions.py\u001b[0m in \u001b[0;36mlog_prob\u001b[0;34m(self, value, safe)\u001b[0m\n\u001b[1;32m    616\u001b[0m                 \u001b[0madd\u001b[0m \u001b[0;34m=\u001b[0m \u001b[0mc\u001b[0m\u001b[0;34m(\u001b[0m\u001b[0mself\u001b[0m\u001b[0;34m.\u001b[0m\u001b[0mtheta\u001b[0m\u001b[0;34m[\u001b[0m\u001b[0mself\u001b[0m\u001b[0;34m.\u001b[0m\u001b[0mtheta\u001b[0m\u001b[0;34m!=\u001b[0m\u001b[0mself\u001b[0m\u001b[0;34m.\u001b[0m\u001b[0mtheta\u001b[0m\u001b[0;34m]\u001b[0m\u001b[0;34m)\u001b[0m\u001b[0;34m.\u001b[0m\u001b[0mlog_prob\u001b[0m\u001b[0;34m(\u001b[0m\u001b[0mvalue\u001b[0m\u001b[0;34m)\u001b[0m\u001b[0;34m\u001b[0m\u001b[0;34m\u001b[0m\u001b[0m\n\u001b[1;32m    617\u001b[0m             \u001b[0;32melse\u001b[0m\u001b[0;34m:\u001b[0m\u001b[0;34m\u001b[0m\u001b[0;34m\u001b[0m\u001b[0m\n\u001b[0;32m--> 618\u001b[0;31m                 \u001b[0madd\u001b[0m \u001b[0;34m=\u001b[0m \u001b[0mc\u001b[0m\u001b[0;34m(\u001b[0m\u001b[0mself\u001b[0m\u001b[0;34m.\u001b[0m\u001b[0mtheta\u001b[0m\u001b[0;34m[\u001b[0m\u001b[0mi\u001b[0m\u001b[0;34m]\u001b[0m\u001b[0;34m,\u001b[0m \u001b[0mrotation\u001b[0m\u001b[0;34m=\u001b[0m\u001b[0mself\u001b[0m\u001b[0;34m.\u001b[0m\u001b[0mrotations\u001b[0m\u001b[0;34m[\u001b[0m\u001b[0mi\u001b[0m\u001b[0;34m]\u001b[0m\u001b[0;34m)\u001b[0m\u001b[0;34m.\u001b[0m\u001b[0mlog_prob\u001b[0m\u001b[0;34m(\u001b[0m\u001b[0mvalue\u001b[0m\u001b[0;34m,\u001b[0m\u001b[0msafe\u001b[0m\u001b[0;34m=\u001b[0m\u001b[0msafe\u001b[0m\u001b[0;34m)\u001b[0m\u001b[0;34m.\u001b[0m\u001b[0mclamp\u001b[0m\u001b[0;34m(\u001b[0m\u001b[0;34m-\u001b[0m\u001b[0;36m100.\u001b[0m\u001b[0;34m,\u001b[0m\u001b[0;36m88.\u001b[0m\u001b[0;34m)\u001b[0m\u001b[0;34m\u001b[0m\u001b[0;34m\u001b[0m\u001b[0m\n\u001b[0m\u001b[1;32m    619\u001b[0m                 \u001b[0;31m#-100 to 88 is a range of x such that torch.exp(x).log()!=+-inf\u001b[0m\u001b[0;34m\u001b[0m\u001b[0;34m\u001b[0m\u001b[0;34m\u001b[0m\u001b[0m\n\u001b[1;32m    620\u001b[0m             \u001b[0mprob\u001b[0m \u001b[0;34m+=\u001b[0m \u001b[0mself\u001b[0m\u001b[0;34m.\u001b[0m\u001b[0mmix\u001b[0m\u001b[0;34m[\u001b[0m\u001b[0mi\u001b[0m\u001b[0;34m]\u001b[0m\u001b[0;34m*\u001b[0m\u001b[0mtorch\u001b[0m\u001b[0;34m.\u001b[0m\u001b[0mexp\u001b[0m\u001b[0;34m(\u001b[0m\u001b[0madd\u001b[0m\u001b[0;34m)\u001b[0m\u001b[0;34m\u001b[0m\u001b[0;34m\u001b[0m\u001b[0m\n",
      "\u001b[0;32m~/LFI/bvcopula/distributions.py\u001b[0m in \u001b[0;36mlog_prob\u001b[0;34m(self, value, safe)\u001b[0m\n\u001b[1;32m    243\u001b[0m         \u001b[0mmask\u001b[0m \u001b[0;34m=\u001b[0m \u001b[0;34m(\u001b[0m\u001b[0mtheta_\u001b[0m\u001b[0;34m.\u001b[0m\u001b[0mabs\u001b[0m\u001b[0;34m(\u001b[0m\u001b[0;34m)\u001b[0m \u001b[0;34m>\u001b[0m \u001b[0;36m1e-2\u001b[0m\u001b[0;34m)\u001b[0m \u001b[0;34m&\u001b[0m \u001b[0;34m(\u001b[0m\u001b[0mtheta_\u001b[0m\u001b[0;34m.\u001b[0m\u001b[0mabs\u001b[0m\u001b[0;34m(\u001b[0m\u001b[0;34m)\u001b[0m \u001b[0;34m<\u001b[0m \u001b[0mconf\u001b[0m\u001b[0;34m.\u001b[0m\u001b[0mFrank_Theta_Max\u001b[0m\u001b[0;34m)\u001b[0m\u001b[0;34m\u001b[0m\u001b[0;34m\u001b[0m\u001b[0m\n\u001b[1;32m    244\u001b[0m         \u001b[0;32massert\u001b[0m \u001b[0mtheta_\u001b[0m\u001b[0;34m.\u001b[0m\u001b[0mshape\u001b[0m\u001b[0;34m==\u001b[0m\u001b[0mvalue\u001b[0m\u001b[0;34m[\u001b[0m\u001b[0;34m...\u001b[0m\u001b[0;34m,\u001b[0m\u001b[0;36m0\u001b[0m\u001b[0;34m]\u001b[0m\u001b[0;34m.\u001b[0m\u001b[0mshape\u001b[0m\u001b[0;34m\u001b[0m\u001b[0;34m\u001b[0m\u001b[0m\n\u001b[0;32m--> 245\u001b[0;31m         \u001b[0mvalue_\u001b[0m \u001b[0;34m=\u001b[0m \u001b[0mvalue\u001b[0m\u001b[0;34m[\u001b[0m\u001b[0mmask\u001b[0m\u001b[0;34m]\u001b[0m \u001b[0;31m#now add event dim\u001b[0m\u001b[0;34m\u001b[0m\u001b[0;34m\u001b[0m\u001b[0m\n\u001b[0m\u001b[1;32m    246\u001b[0m \u001b[0;34m\u001b[0m\u001b[0m\n\u001b[1;32m    247\u001b[0m         \u001b[0mlog_prob\u001b[0m \u001b[0;34m=\u001b[0m \u001b[0mtorch\u001b[0m\u001b[0;34m.\u001b[0m\u001b[0mzeros_like\u001b[0m\u001b[0;34m(\u001b[0m\u001b[0mtheta_\u001b[0m\u001b[0;34m)\u001b[0m \u001b[0;31m# by default 0 and already on a correct device\u001b[0m\u001b[0;34m\u001b[0m\u001b[0;34m\u001b[0m\u001b[0m\n",
      "\u001b[0;31mRuntimeError\u001b[0m: [enforce fail at CPUAllocator.cpp:64] . DefaultCPUAllocator: can't allocate memory: you tried to allocate 117960000000 bytes. Error code 12 (Cannot allocate memory)\n"
     ]
    },
    {
     "name": "stdout",
     "output_type": "stream",
     "text": [
      "tensor(-0.0250) tensor(0.0013)\n"
     ]
    }
   ],
   "source": [
    "subset_X = np.sort(subset_X)\n",
    "model = get_model(n1, n2, data[n1+5,n2+5][0], torch.device('cpu')) \n",
    "points = torch.linspace(0,1,len(subset_X)).float()\n",
    "#pS = torch.ones(len(points))*1/(len(points))\n",
    "pS = torch.tensor([transform_point(i) for i in subset_X]).float()\n",
    "pS = pS/pS.sum()\n",
    "%time (MI, dMI) = measure_MI(model, points, pS=pS, f_mc_size=20)\n",
    "print(MI,dMI)\n",
    "points = torch.tensor(subset_X).float()\n",
    "%time (MI, dMI) = measure_MI(model, points, pS=None, f_mc_size=20)\n",
    "print(MI,dMI)"
   ]
  },
  {
   "cell_type": "code",
   "execution_count": 862,
   "metadata": {},
   "outputs": [],
   "source": [
    "def stimMIm(model, X, alpha=0.05, sem_tol=1e-3, \n",
    "         f_mc_size=5, s_mc_size=100, r_mc_size=1000):\n",
    "    # Gaussian confidence interval for sem_tol and level alpha\n",
    "    conf = torch.erfinv(torch.tensor([1. - alpha]))\n",
    "    sem = torch.ones(f_mc_size)*float('inf')\n",
    "    MI = torch.zeros(f_mc_size)\n",
    "    var_sum = torch.zeros(f_mc_size)\n",
    "    log2 = torch.tensor([2.]).log()\n",
    "    k = 0\n",
    "    N = r_mc_size*s_mc_size\n",
    "    with torch.no_grad():\n",
    "        while torch.any(sem >= sem_tol):\n",
    "            # Sample from p(s)\n",
    "            subset_X = np.random.choice(X.flatten(),s_mc_size)\n",
    "            points = torch.linspace(0,1,len(subset_X)).float()\n",
    "            with torch.no_grad():\n",
    "                fs = model(points).rsample(torch.Size([f_mc_size])) \n",
    "                #[samples_f, copulas, stimuli(positions)]\n",
    "            copula = model.likelihood(fs)\n",
    "            # Generate samples from p(r|s)*p(s)\n",
    "            samples = copula.rsample(sample_shape = torch.Size([r_mc_size]))\n",
    "            # these are samples for p(r|s) for all s\n",
    "            # size [samples, fs, stimuli(positions), 2] = [r,f,s,2]\n",
    "            samples = torch.einsum(\"ijk...->ikj...\",samples) # samples x Xs x fs x 2\n",
    "            samples = samples.reshape(-1,*samples.shape[2:]) # (samples * Xs) x fs x 2\n",
    "            samples = samples.unsqueeze(dim=-2) # (samples * Xs) x fs x 1 x 2\n",
    "            samples = samples.expand([N,f_mc_size,s_mc_size,2]) # (samples * Xs) x fs x Xs x 2\n",
    "            # now these are samples_ from p(r)\n",
    "            logpRfS = copula.log_prob(samples) # [r for all s,f,s]\n",
    "            logpR = ((logpRfS.exp()*(1/s_mc_size)).sum(dim=-1)).log() # sum over stimuli p(r) = sum p(r|s) p(s)\n",
    "            logpRgS = logpRfS[::s_mc_size] # [r|s,f,s]\n",
    "            logpRgS = torch.einsum(\"ijk->ikj\",logpRgS)\n",
    "            logpRgS = logpRgS.reshape(-1,*logpRgS.shape[2:])\n",
    "            assert torch.all(logpR==logpR)\n",
    "            assert torch.all(logpR.abs()!=float(\"inf\"))\n",
    "            log2p = (logpRgS - logpR) / log2\n",
    "            k += 1\n",
    "            if k>100:\n",
    "                print('MC integral failed to converge')\n",
    "                break\n",
    "            # Monte-Carlo estimate of entropy\n",
    "            MI += (log2p.mean(dim=0) - MI) / k # mean over r&s dimensions -> [f]\n",
    "            # Estimate standard error\n",
    "            var_sum += ((log2p - MI) ** 2).sum(dim=0) \n",
    "            sem = conf * (var_sum / (k * N * (k * N - 1))).pow(.5)\n",
    "            print(MI.mean(),sem.max()/sem_tol)\n",
    "    return MI\n",
    "\n",
    "def stimMIc(copula, alpha=0.05, sem_tol=1e-3, r_mc_size=200):\n",
    "    # Gaussian confidence interval for sem_tol and level alpha\n",
    "    conf = torch.erfinv(torch.tensor([1. - alpha]))\n",
    "    batch_shape = copula.batch_shape[1:] # [f,s]\n",
    "    sem = torch.ones(batch_shape[0])*float('inf')\n",
    "    MI = torch.zeros(batch_shape[0])\n",
    "    var_sum = torch.zeros(batch_shape[0])\n",
    "    log2 = torch.tensor([2.]).log()\n",
    "    k = 0\n",
    "    Ns = batch_shape[-1]\n",
    "    N = r_mc_size*Ns\n",
    "    with torch.no_grad():\n",
    "        while torch.any(sem >= sem_tol):\n",
    "            # Generate samples from p(r|s)*p(s)\n",
    "            samples = copula.rsample(sample_shape = torch.Size([r_mc_size]))\n",
    "            # these are samples for p(r|s) for all s\n",
    "            # size [samples, fs, stimuli(positions), 2] = [r,f,s,2]\n",
    "            samples = torch.einsum(\"ijk...->ikj...\",samples) # samples x Xs x fs x 2\n",
    "            samples = samples.reshape(-1,*samples.shape[2:]) # (samples * Xs) x fs x 2\n",
    "            samples = samples.unsqueeze(dim=-2) # (samples * Xs) x fs x 1 x 2\n",
    "            samples = samples.expand([N,*batch_shape,2]) # (samples * Xs) x fs x Xs x 2\n",
    "            # now these are samples_ from p(r)\n",
    "            logpRfS = copula.log_prob(samples) # [r for all s,f,s]\n",
    "            logpR = ((logpRfS.exp()*(1/Ns)).sum(dim=-1)).log() # sum over stimuli p(r) = sum p(r|s) p(s)\n",
    "            logpRgS = logpRfS[::Ns] # [r|s,f,s]\n",
    "            logpRgS = torch.einsum(\"ijk->ikj\",logpRgS)\n",
    "            logpRgS = logpRgS.reshape(-1,*logpRgS.shape[2:])\n",
    "            assert torch.all(logpR==logpR)\n",
    "            assert torch.all(logpR.abs()!=float(\"inf\"))\n",
    "            log2p = (logpRgS - logpR) / log2\n",
    "            k += 1\n",
    "            if k>100:\n",
    "                print('MC integral failed to converge')\n",
    "                break\n",
    "            # Monte-Carlo estimate of entropy\n",
    "            MI += (log2p.mean(dim=0) - MI) / k # mean over r&s dimensions -> [f]\n",
    "            # Estimate standard error\n",
    "            var_sum += ((log2p - MI) ** 2).sum(dim=0) \n",
    "            sem = conf * (var_sum / (k * N * (k * N - 1))).pow(.5)\n",
    "            print(MI.mean(),sem.max()/sem_tol)\n",
    "    return MI"
   ]
  },
  {
   "cell_type": "code",
   "execution_count": 863,
   "metadata": {},
   "outputs": [
    {
     "name": "stdout",
     "output_type": "stream",
     "text": [
      "['/home/nina/models/ST263_Day4/model_1-12.pth']\n",
      "tensor(0.2235) tensor(5.6670)\n",
      "tensor(0.2012) tensor(4.0347)\n",
      "tensor(0.2050) tensor(3.2565)\n",
      "tensor(0.2100) tensor(2.8193)\n",
      "tensor(0.2132) tensor(2.4765)\n",
      "tensor(0.2039) tensor(2.2614)\n",
      "tensor(0.2075) tensor(2.0717)\n",
      "tensor(0.2072) tensor(1.9452)\n",
      "tensor(0.2008) tensor(1.8236)\n",
      "tensor(0.1990) tensor(1.7314)\n",
      "tensor(0.1998) tensor(1.6495)\n",
      "tensor(0.2007) tensor(1.5784)\n",
      "tensor(0.1976) tensor(1.5138)\n",
      "tensor(0.1964) tensor(1.4592)\n",
      "tensor(0.1953) tensor(1.4024)\n",
      "tensor(0.1941) tensor(1.3547)\n",
      "tensor(0.1917) tensor(1.3142)\n",
      "tensor(0.1910) tensor(1.2818)\n",
      "tensor(0.1901) tensor(1.2457)\n",
      "tensor(0.1906) tensor(1.2148)\n",
      "tensor(0.1917) tensor(1.1830)\n",
      "tensor(0.1921) tensor(1.1543)\n",
      "tensor(0.1922) tensor(1.1277)\n",
      "tensor(0.1931) tensor(1.1083)\n",
      "tensor(0.1943) tensor(1.0841)\n",
      "tensor(0.1946) tensor(1.0597)\n",
      "tensor(0.1933) tensor(1.0398)\n",
      "tensor(0.1921) tensor(1.0201)\n",
      "tensor(0.1930) tensor(1.0011)\n",
      "tensor(0.1947) tensor(0.9847)\n",
      "CPU times: user 36min, sys: 14min 54s, total: 50min 54s\n",
      "Wall time: 4min 49s\n",
      "tensor(0.1947) tensor(0.0170)\n"
     ]
    }
   ],
   "source": [
    "n1=1\n",
    "n2=12\n",
    "model = get_model(n1, n2, data[n1+5,n2+5][0], torch.device('cpu')) \n",
    "%time MI=stimMIm(model, X)\n",
    "print(MI.mean(),MI.std())"
   ]
  },
  {
   "cell_type": "code",
   "execution_count": 864,
   "metadata": {},
   "outputs": [
    {
     "name": "stdout",
     "output_type": "stream",
     "text": [
      "['/home/nina/models/ST263_Day4/model_1-12.pth']\n",
      "Starting\n",
      "tensor(0.1644) tensor(12.2158)\n",
      "tensor(0.1472) tensor(8.7889)\n",
      "tensor(0.1658) tensor(7.5689)\n",
      "tensor(0.1574) tensor(6.3350)\n",
      "tensor(0.1625) tensor(5.5878)\n",
      "tensor(0.1649) tensor(5.0841)\n",
      "tensor(0.1590) tensor(4.7332)\n",
      "tensor(0.1597) tensor(4.4180)\n",
      "tensor(0.1673) tensor(4.1531)\n",
      "tensor(0.1687) tensor(3.9494)\n",
      "tensor(0.1765) tensor(3.7340)\n",
      "tensor(0.1772) tensor(3.5890)\n",
      "tensor(0.1804) tensor(3.4296)\n",
      "tensor(0.1836) tensor(3.3163)\n",
      "tensor(0.1872) tensor(3.1922)\n",
      "tensor(0.1895) tensor(3.0775)\n",
      "tensor(0.1885) tensor(2.9764)\n",
      "tensor(0.1899) tensor(2.8943)\n",
      "tensor(0.1882) tensor(2.8084)\n",
      "tensor(0.1884) tensor(2.7445)\n",
      "tensor(0.1902) tensor(2.6799)\n",
      "tensor(0.1891) tensor(2.6226)\n",
      "tensor(0.1896) tensor(2.5649)\n",
      "tensor(0.1896) tensor(2.5225)\n",
      "tensor(0.1891) tensor(2.4781)\n",
      "tensor(0.1879) tensor(2.4223)\n",
      "tensor(0.1883) tensor(2.3860)\n",
      "tensor(0.1886) tensor(2.3460)\n",
      "tensor(0.1888) tensor(2.3039)\n",
      "tensor(0.1875) tensor(2.2564)\n",
      "tensor(0.1865) tensor(2.2169)\n",
      "tensor(0.1853) tensor(2.1740)\n",
      "tensor(0.1844) tensor(2.1443)\n",
      "tensor(0.1848) tensor(2.1127)\n",
      "tensor(0.1854) tensor(2.0849)\n",
      "tensor(0.1860) tensor(2.0582)\n",
      "tensor(0.1860) tensor(2.0257)\n",
      "tensor(0.1865) tensor(2.0017)\n",
      "tensor(0.1870) tensor(1.9770)\n",
      "tensor(0.1870) tensor(1.9485)\n",
      "tensor(0.1877) tensor(1.9291)\n",
      "tensor(0.1873) tensor(1.9068)\n",
      "tensor(0.1879) tensor(1.8831)\n",
      "tensor(0.1875) tensor(1.8624)\n",
      "tensor(0.1879) tensor(1.8429)\n",
      "tensor(0.1886) tensor(1.8236)\n",
      "tensor(0.1885) tensor(1.8028)\n",
      "tensor(0.1882) tensor(1.7826)\n",
      "tensor(0.1884) tensor(1.7612)\n",
      "tensor(0.1885) tensor(1.7401)\n",
      "tensor(0.1887) tensor(1.7249)\n",
      "tensor(0.1888) tensor(1.7064)\n",
      "tensor(0.1892) tensor(1.6906)\n",
      "tensor(0.1893) tensor(1.6738)\n",
      "tensor(0.1894) tensor(1.6584)\n",
      "tensor(0.1899) tensor(1.6452)\n",
      "tensor(0.1896) tensor(1.6304)\n",
      "tensor(0.1894) tensor(1.6133)\n",
      "tensor(0.1902) tensor(1.6006)\n",
      "tensor(0.1900) tensor(1.5874)\n",
      "tensor(0.1902) tensor(1.5725)\n",
      "tensor(0.1904) tensor(1.5611)\n",
      "tensor(0.1905) tensor(1.5466)\n",
      "tensor(0.1914) tensor(1.5314)\n",
      "tensor(0.1911) tensor(1.5211)\n",
      "tensor(0.1914) tensor(1.5071)\n",
      "tensor(0.1921) tensor(1.4955)\n",
      "tensor(0.1921) tensor(1.4857)\n",
      "tensor(0.1917) tensor(1.4753)\n",
      "tensor(0.1912) tensor(1.4653)\n",
      "tensor(0.1910) tensor(1.4532)\n",
      "tensor(0.1908) tensor(1.4431)\n",
      "tensor(0.1908) tensor(1.4334)\n",
      "tensor(0.1914) tensor(1.4217)\n",
      "tensor(0.1915) tensor(1.4138)\n",
      "tensor(0.1916) tensor(1.4037)\n",
      "tensor(0.1919) tensor(1.3950)\n",
      "tensor(0.1919) tensor(1.3847)\n",
      "tensor(0.1924) tensor(1.3773)\n",
      "tensor(0.1924) tensor(1.3693)\n",
      "tensor(0.1921) tensor(1.3607)\n",
      "tensor(0.1921) tensor(1.3528)\n",
      "tensor(0.1920) tensor(1.3435)\n",
      "tensor(0.1923) tensor(1.3347)\n",
      "tensor(0.1927) tensor(1.3265)\n",
      "tensor(0.1927) tensor(1.3187)\n",
      "tensor(0.1928) tensor(1.3117)\n",
      "tensor(0.1925) tensor(1.3046)\n",
      "tensor(0.1924) tensor(1.2991)\n",
      "tensor(0.1927) tensor(1.2925)\n",
      "tensor(0.1928) tensor(1.2856)\n",
      "tensor(0.1927) tensor(1.2775)\n",
      "tensor(0.1926) tensor(1.2689)\n",
      "tensor(0.1924) tensor(1.2621)\n",
      "tensor(0.1925) tensor(1.2547)\n",
      "tensor(0.1916) tensor(1.2481)\n",
      "tensor(0.1921) tensor(1.2412)\n",
      "tensor(0.1919) tensor(1.2350)\n",
      "tensor(0.1918) tensor(1.2282)\n",
      "tensor(0.1914) tensor(1.2220)\n",
      "MC integral failed to converge\n",
      "CPU times: user 1h 10min 49s, sys: 18min 16s, total: 1h 29min 6s\n",
      "Wall time: 6min 48s\n",
      "tensor(0.1914) tensor(0.0173)\n"
     ]
    }
   ],
   "source": [
    "n1=1\n",
    "n2=12\n",
    "model = get_model(n1, n2, data[n1+5,n2+5][0], torch.device('cpu')) \n",
    "subset_X = np.random.choice(X.flatten(),100)\n",
    "points = torch.linspace(0,1,len(subset_X)).float()\n",
    "with torch.no_grad():\n",
    "    fs = model(points).rsample(torch.Size([10])) \n",
    "    #[samples_f, copulas, stimuli(positions)]\n",
    "copula = model.likelihood(fs)\n",
    "print('Starting')\n",
    "%time MI=stimMIc(copula)\n",
    "print(MI.mean(),MI.std())"
   ]
  },
  {
   "cell_type": "code",
   "execution_count": 716,
   "metadata": {},
   "outputs": [
    {
     "ename": "IndentationError",
     "evalue": "expected an indented block (<ipython-input-716-1edd0510d82b>, line 32)",
     "output_type": "error",
     "traceback": [
      "\u001b[0;36m  File \u001b[0;32m\"<ipython-input-716-1edd0510d82b>\"\u001b[0;36m, line \u001b[0;32m32\u001b[0m\n\u001b[0;31m    return (FI.mean(dim=-1),FI.std(dim=-1))\u001b[0m\n\u001b[0m    ^\u001b[0m\n\u001b[0;31mIndentationError\u001b[0m\u001b[0;31m:\u001b[0m expected an indented block\n"
     ]
    }
   ],
   "source": [
    "def input_information(model, n: int, scale: float, samp_mc_size=100, device=torch.device('cpu')):\n",
    "        ds = scale/n #scale determines units of ds\n",
    "        \n",
    "        points = torch.linspace(0,1,n+3)\n",
    "\n",
    "        with torch.no_grad():\n",
    "            fs = model(points).rsample(torch.Size([20])) #[samples_f, copulas, positions]\n",
    "        fs = torch.einsum('ijk->jki', fs) #[copulas, positions, samples_f] \n",
    "        f = fs.reshape((fs.shape[0],-1)) #[copulas, (samples_f x positions)]\n",
    "            \n",
    "        copula = model.likelihood._get_copula(f, sample_size = torch.Size([samp_mc_size]))\n",
    "        samples = copula.rsample()\n",
    "        logprob = copula.log_prob(samples)\n",
    "        \n",
    "        logprob = logprob.reshape((*fs.shape[1:],-1)) #[positions, samples_f]\n",
    "\n",
    "        #calculate FI\n",
    "        FI = torch.zeros_like(logprob[...,0])\n",
    "        for i in range(1,n):\n",
    "            FI[i] = ((logprob[i].exp())*((logprob[i+1]-logprob[i-1])/ds).pow(2)).sum(dim=-1)\n",
    "            if (i>2) & (i<n-1):\n",
    "                \n",
    "#             #now calculate MI    \n",
    "#             # P(r) = integral P(r|s) P(s) ds\n",
    "#             Pr = torch.zeros(samples.shape[0]).cuda(device=get_cuda_device)\n",
    "#             for i in range(n+1):\n",
    "#                 Pr += logprob[i].exp().detach()*(1/(n+1))\n",
    "#             MIs=0\n",
    "#             for i in range(n+1):    \n",
    "#                 MIs+= 1/(n+1)*logprob[i].exp()*(logprob[i]-Pr.log()) # sum p(r|s) * log p(r|s)/p(r)\n",
    "#             MI = MIs.sum()     \n",
    "        return (FI.mean(dim=-1),FI.std(dim=-1))\n",
    "\n",
    "model = get_model(n1, n2, data[n1+5,n2+5][0], torch.device('cpu')) \n",
    "%time (FI, dFI) = input_information(model, 160, 160, device=torch.device('cpu'))"
   ]
  },
  {
   "cell_type": "code",
   "execution_count": null,
   "metadata": {},
   "outputs": [],
   "source": [
    "plt.plot(np.linspace(0,160,len(FI)),FI)\n",
    "plt.fill_between(np.linspace(0,160,len(FI)),FI-dFI,FI+dFI, alpha=0.3)"
   ]
  },
  {
   "cell_type": "code",
   "execution_count": null,
   "metadata": {},
   "outputs": [],
   "source": []
  }
 ],
 "metadata": {
  "kernelspec": {
   "display_name": "GPyTorch_new",
   "language": "python",
   "name": "gpytorch_new"
  },
  "language_info": {
   "codemirror_mode": {
    "name": "ipython",
    "version": 3
   },
   "file_extension": ".py",
   "mimetype": "text/x-python",
   "name": "python",
   "nbconvert_exporter": "python",
   "pygments_lexer": "ipython3",
   "version": "3.6.8"
  }
 },
 "nbformat": 4,
 "nbformat_minor": 2
}
