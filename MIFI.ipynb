{
 "cells": [
  {
   "cell_type": "code",
   "execution_count": 1,
   "metadata": {},
   "outputs": [],
   "source": [
    "import numpy as np\n",
    "import pickle as pkl\n",
    "import matplotlib.pyplot as plt\n",
    "import torch\n",
    "import glob\n",
    "\n",
    "import bvcopula\n",
    "\n",
    "%matplotlib inline\n",
    "%load_ext autoreload\n",
    "%autoreload 2"
   ]
  },
  {
   "cell_type": "code",
   "execution_count": 2,
   "metadata": {},
   "outputs": [],
   "source": [
    "animal = 'ST263'\n",
    "dayN = 4\n",
    "day_name = 'Day{}'.format(dayN)\n",
    "exp_pref = '{}_{}'.format(animal,day_name)\n",
    "path = '/home/nina/models'"
   ]
  },
  {
   "cell_type": "code",
   "execution_count": 3,
   "metadata": {},
   "outputs": [
    {
     "data": {
      "text/plain": [
       "[FrankCopula_Likelihood(\n",
       "   (quadrature): GaussHermiteQuadrature1D()\n",
       " ), IndependenceCopula_Likelihood(\n",
       "   (quadrature): GaussHermiteQuadrature1D()\n",
       " ), GumbelCopula_Likelihood(\n",
       "   (quadrature): GaussHermiteQuadrature1D()\n",
       " )]"
      ]
     },
     "execution_count": 3,
     "metadata": {},
     "output_type": "execute_result"
    }
   ],
   "source": [
    "out_dir = '../models/'+exp_pref\n",
    "with open(out_dir+'/summary.pkl','rb') as f:\n",
    "    data = pkl.load(f)\n",
    "n1=2\n",
    "n2=20\n",
    "data[n1+5,n2+5][0]"
   ]
  },
  {
   "cell_type": "code",
   "execution_count": null,
   "metadata": {},
   "outputs": [],
   "source": []
  },
  {
   "cell_type": "code",
   "execution_count": 4,
   "metadata": {
    "scrolled": true
   },
   "outputs": [
    {
     "name": "stdout",
     "output_type": "stream",
     "text": [
      "IndependenceFrank\n",
      "['/home/nina/models/ST263_Day4/model_-4-6.pth']\n",
      "CPU times: user 244 ms, sys: 0 ns, total: 244 ms\n",
      "Wall time: 10.7 ms\n",
      "CPU times: user 2min 39s, sys: 4.83 s, total: 2min 44s\n",
      "Wall time: 5.58 s\n"
     ]
    }
   ],
   "source": [
    "import warnings\n",
    "import sys\n",
    "import traceback\n",
    "from tqdm import tqdm\n",
    "    \n",
    "def warn_with_traceback(message, category, filename, lineno, file=None, line=None):\n",
    "    log = file if hasattr(file,'write') else sys.stderr\n",
    "    traceback.print_stack(file=log)\n",
    "    log.write(warnings.formatwarning(message, category, filename, lineno, line))\n",
    "    \n",
    "def get_model(n1,n2,likelihoods,device):\n",
    "    get_weights_filename = glob.glob('{}/{}/model_{}-{}.pth'.format(path,exp_pref,n1,n2))\n",
    "    print(get_weights_filename)\n",
    "    if len(get_weights_filename)>0:\n",
    "        if len(get_weights_filename)>1:\n",
    "            print('There is more then 1 file, taking the first one')\n",
    "            return 0\n",
    "        model = bvcopula.load_model(get_weights_filename[0], likelihoods, device)\n",
    "        return model\n",
    "    else:\n",
    "        print('Weights file {} not found.'.format(get_weights_filename))\n",
    "        return 0\n",
    "        \n",
    "def measure_MI(model,points,samp_mc_size=10000):\n",
    "    MIs = []\n",
    "    with torch.no_grad():\n",
    "        fs = model(points).rsample(torch.Size([5])) #[samples_f, copulas, positions]\n",
    "    f_mean = model(points).mean.unsqueeze(0)\n",
    "    # now add mean f to a set of f samples\n",
    "    fs = torch.cat((fs,f_mean),0) #[samples_f + 1, copulas, positions]\n",
    "    fs = torch.einsum('ijk->jik', fs) #[copulas, samples_f + 1, positions] \n",
    "    \n",
    "    f = fs.reshape((fs.shape[0],-1)) #[copulas, ( (samples_f + 1) x positions)]\n",
    "\n",
    "    copula = model.likelihood(f)\n",
    "    MI = copula.entropy()\n",
    "    MIs = MI.reshape(fs.shape[1:]) #[(samples_f + 1), positions]\n",
    "    MI_mean = MIs[-1]\n",
    "    MIs = MIs[:-1]\n",
    "\n",
    "    return (MI_mean,MIs.mean(dim=0),MIs.std(dim=0))\n",
    "\n",
    "warnings.showwarning = warn_with_traceback\n",
    "\n",
    "points = torch.linspace(0,1,20)\n",
    "        \n",
    "n1=-4\n",
    "n2=6\n",
    "\n",
    "print(data[n1+5,n2+5][1])\n",
    "\n",
    "%time model = get_model(n1, n2, data[n1+5,n2+5][0], torch.device('cpu')) \n",
    "%time (ym, y, dy) = measure_MI(model, points)"
   ]
  },
  {
   "cell_type": "code",
   "execution_count": 5,
   "metadata": {},
   "outputs": [
    {
     "name": "stdout",
     "output_type": "stream",
     "text": [
      "Clayton0°Frank -4 -3\n",
      "Frank -4 -2\n",
      "Gaussian -4 -1\n",
      "Independence -4 0\n",
      "Independence -4 1\n",
      "Independence -4 2\n",
      "Independence -4 3\n",
      "Gaussian -4 4\n",
      "Frank -4 5\n",
      "IndependenceFrank -4 6\n",
      "Independence -4 7\n",
      "Independence -4 8\n",
      "Independence -4 9\n",
      "Independence -4 10\n",
      "Independence -4 11\n",
      "Independence -4 12\n",
      "Independence -4 13\n",
      "Gaussian -4 14\n",
      "Independence -4 15\n",
      "Independence -4 16\n",
      "Independence -4 17\n",
      "Independence -4 18\n",
      "Independence -4 19\n"
     ]
    }
   ],
   "source": [
    "n1 = -4\n",
    "for n2 in range(n1+1,20): \n",
    "    print(data[n1+5,n2+5][1],n1,n2)"
   ]
  },
  {
   "cell_type": "code",
   "execution_count": 6,
   "metadata": {},
   "outputs": [
    {
     "data": {
      "text/plain": [
       "torch.Size([2, 120])"
      ]
     },
     "execution_count": 6,
     "metadata": {},
     "output_type": "execute_result"
    }
   ],
   "source": [
    "with torch.no_grad():\n",
    "    fs = model(points).rsample(torch.Size([5])) #[samples_f, copulas, positions]\n",
    "f_mean = model(points).mean.unsqueeze(0)\n",
    "# now add mean f to a set of f samples\n",
    "fs = torch.cat((fs,f_mean),0) #[samples_f + 1, copulas, positions]\n",
    "fs = torch.einsum('ijk->jik', fs) #[copulas, samples_f + 1, positions] \n",
    "f = fs.reshape((fs.shape[0],-1)) #[copulas, ( (samples_f + 1) x positions)]\n",
    "copula = model.likelihood(f)\n",
    "copula.theta.shape"
   ]
  },
  {
   "cell_type": "code",
   "execution_count": 7,
   "metadata": {},
   "outputs": [
    {
     "data": {
      "text/plain": [
       "1"
      ]
     },
     "execution_count": 7,
     "metadata": {},
     "output_type": "execute_result"
    }
   ],
   "source": [
    "torch.zeros(2).dim()"
   ]
  },
  {
   "cell_type": "code",
   "execution_count": 8,
   "metadata": {},
   "outputs": [
    {
     "data": {
      "text/plain": [
       "(-0.5, 0)"
      ]
     },
     "execution_count": 8,
     "metadata": {},
     "output_type": "execute_result"
    },
    {
     "data": {
      "image/png": "[encoded data removed]",
      "text/plain": [
       "<Figure size 432x288 with 1 Axes>"
      ]
     },
     "metadata": {
      "needs_background": "light"
     },
     "output_type": "display_data"
    }
   ],
   "source": [
    "plt.plot(np.linspace(0,160,len(y)),y)\n",
    "plt.fill_between(np.linspace(0,160,len(y)),y-dy,y+dy, alpha=0.3)\n",
    "plt.plot(np.linspace(0,160,len(ym)),ym)\n",
    "plt.ylim(-.5,0)"
   ]
  },
  {
   "cell_type": "code",
   "execution_count": 9,
   "metadata": {},
   "outputs": [
    {
     "ename": "IndentationError",
     "evalue": "expected an indented block (<ipython-input-9-1edd0510d82b>, line 32)",
     "output_type": "error",
     "traceback": [
      "\u001b[0;36m  File \u001b[0;32m\"<ipython-input-9-1edd0510d82b>\"\u001b[0;36m, line \u001b[0;32m32\u001b[0m\n\u001b[0;31m    return (FI.mean(dim=-1),FI.std(dim=-1))\u001b[0m\n\u001b[0m    ^\u001b[0m\n\u001b[0;31mIndentationError\u001b[0m\u001b[0;31m:\u001b[0m expected an indented block\n"
     ]
    }
   ],
   "source": [
    "def input_information(model, n: int, scale: float, samp_mc_size=100, device=torch.device('cpu')):\n",
    "        ds = scale/n #scale determines units of ds\n",
    "        \n",
    "        points = torch.linspace(0,1,n+3)\n",
    "\n",
    "        with torch.no_grad():\n",
    "            fs = model(points).rsample(torch.Size([20])) #[samples_f, copulas, positions]\n",
    "        fs = torch.einsum('ijk->jki', fs) #[copulas, positions, samples_f] \n",
    "        f = fs.reshape((fs.shape[0],-1)) #[copulas, (samples_f x positions)]\n",
    "            \n",
    "        copula = model.likelihood._get_copula(f, sample_size = torch.Size([samp_mc_size]))\n",
    "        samples = copula.rsample()\n",
    "        logprob = copula.log_prob(samples)\n",
    "        \n",
    "        logprob = logprob.reshape((*fs.shape[1:],-1)) #[positions, samples_f]\n",
    "\n",
    "        #calculate FI\n",
    "        FI = torch.zeros_like(logprob[...,0])\n",
    "        for i in range(1,n):\n",
    "            FI[i] = ((logprob[i].exp())*((logprob[i+1]-logprob[i-1])/ds).pow(2)).sum(dim=-1)\n",
    "            if (i>2) & (i<n-1):\n",
    "                \n",
    "#             #now calculate MI    \n",
    "#             # P(r) = integral P(r|s) P(s) ds\n",
    "#             Pr = torch.zeros(samples.shape[0]).cuda(device=get_cuda_device)\n",
    "#             for i in range(n+1):\n",
    "#                 Pr += logprob[i].exp().detach()*(1/(n+1))\n",
    "#             MIs=0\n",
    "#             for i in range(n+1):    \n",
    "#                 MIs+= 1/(n+1)*logprob[i].exp()*(logprob[i]-Pr.log()) # sum p(r|s) * log p(r|s)/p(r)\n",
    "#             MI = MIs.sum()     \n",
    "        return (FI.mean(dim=-1),FI.std(dim=-1))\n",
    "\n",
    "model = get_model(n1, n2, data[n1+5,n2+5][0], torch.device('cpu')) \n",
    "%time (FI, dFI) = input_information(model, 160, 160, device=torch.device('cpu'))"
   ]
  },
  {
   "cell_type": "code",
   "execution_count": null,
   "metadata": {},
   "outputs": [],
   "source": [
    "plt.plot(np.linspace(0,160,len(FI)),FI)\n",
    "plt.fill_between(np.linspace(0,160,len(FI)),FI-dFI,FI+dFI, alpha=0.3)"
   ]
  },
  {
   "cell_type": "code",
   "execution_count": null,
   "metadata": {},
   "outputs": [],
   "source": []
  }
 ],
 "metadata": {
  "kernelspec": {
   "display_name": "GPyTorch_new",
   "language": "python",
   "name": "gpytorch_new"
  },
  "language_info": {
   "codemirror_mode": {
    "name": "ipython",
    "version": 3
   },
   "file_extension": ".py",
   "mimetype": "text/x-python",
   "name": "python",
   "nbconvert_exporter": "python",
   "pygments_lexer": "ipython3",
   "version": "3.6.8"
  }
 },
 "nbformat": 4,
 "nbformat_minor": 2
}
