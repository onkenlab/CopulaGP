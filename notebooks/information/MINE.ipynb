{
 "cells": [
  {
   "cell_type": "code",
   "execution_count": 19,
   "metadata": {},
   "outputs": [],
   "source": [
    "import torch\n",
    "from torch.autograd import Variable\n",
    "import torch.nn as nn\n",
    "import torch.nn.functional as F\n",
    "from tqdm import tqdm\n",
    "# import holoviews as hv\n",
    "# import bokeh\n",
    "# hv.extension('bokeh')\n",
    "import pickle as pkl\n",
    "from scipy.stats import norm\n",
    "import numpy as np\n",
    "\n",
    "import sys\n",
    "home = '/home/nina/CopulaGP/'\n",
    "sys.path.insert(0, home)"
   ]
  },
  {
   "cell_type": "code",
   "execution_count": 20,
   "metadata": {},
   "outputs": [],
   "source": [
    "NSamp=10000\n",
    "device = torch.device('cuda:0')\n",
    "x = torch.linspace(0.,1.,NSamp).numpy()\n",
    "train_x = torch.tensor(x).float().to(device=device)"
   ]
  },
  {
   "cell_type": "code",
   "execution_count": 21,
   "metadata": {},
   "outputs": [
    {
     "ename": "ValueError",
     "evalue": "not enough values to unpack (expected 3, got 2)",
     "output_type": "error",
     "traceback": [
      "\u001b[0;31m---------------------------------------------------------------------------\u001b[0m",
      "\u001b[0;31mValueError\u001b[0m                                Traceback (most recent call last)",
      "\u001b[0;32m<ipython-input-21-baab3884ba23>\u001b[0m in \u001b[0;36m<module>\u001b[0;34m\u001b[0m\n\u001b[1;32m      1\u001b[0m \u001b[0;32mwith\u001b[0m \u001b[0mopen\u001b[0m\u001b[0;34m(\u001b[0m\u001b[0;34mf\"{home}vine.pkl\"\u001b[0m\u001b[0;34m,\u001b[0m\u001b[0;34m\"rb\"\u001b[0m\u001b[0;34m)\u001b[0m \u001b[0;32mas\u001b[0m \u001b[0mf\u001b[0m\u001b[0;34m:\u001b[0m\u001b[0;34m\u001b[0m\u001b[0;34m\u001b[0m\u001b[0m\n\u001b[0;32m----> 2\u001b[0;31m     \u001b[0;34m[\u001b[0m\u001b[0mcovariances\u001b[0m\u001b[0;34m,\u001b[0m\u001b[0my0\u001b[0m\u001b[0;34m,\u001b[0m\u001b[0m_\u001b[0m\u001b[0;34m]\u001b[0m \u001b[0;34m=\u001b[0m \u001b[0mpkl\u001b[0m\u001b[0;34m.\u001b[0m\u001b[0mload\u001b[0m\u001b[0;34m(\u001b[0m\u001b[0mf\u001b[0m\u001b[0;34m)\u001b[0m\u001b[0;34m\u001b[0m\u001b[0;34m\u001b[0m\u001b[0m\n\u001b[0m\u001b[1;32m      3\u001b[0m \u001b[0my\u001b[0m \u001b[0;34m=\u001b[0m \u001b[0mnorm\u001b[0m\u001b[0;34m.\u001b[0m\u001b[0mcdf\u001b[0m\u001b[0;34m(\u001b[0m\u001b[0my0\u001b[0m\u001b[0;34m)\u001b[0m\u001b[0;34m\u001b[0m\u001b[0;34m\u001b[0m\u001b[0m\n\u001b[1;32m      4\u001b[0m \u001b[0;32massert\u001b[0m \u001b[0mx\u001b[0m\u001b[0;34m.\u001b[0m\u001b[0mshape\u001b[0m\u001b[0;34m[\u001b[0m\u001b[0;36m0\u001b[0m\u001b[0;34m]\u001b[0m\u001b[0;34m==\u001b[0m\u001b[0my\u001b[0m\u001b[0;34m.\u001b[0m\u001b[0mshape\u001b[0m\u001b[0;34m[\u001b[0m\u001b[0;36m0\u001b[0m\u001b[0;34m]\u001b[0m\u001b[0;34m\u001b[0m\u001b[0;34m\u001b[0m\u001b[0m\n\u001b[1;32m      5\u001b[0m \u001b[0mx\u001b[0m\u001b[0;34m.\u001b[0m\u001b[0mreshape\u001b[0m\u001b[0;34m(\u001b[0m\u001b[0mNSamp\u001b[0m\u001b[0;34m,\u001b[0m\u001b[0;36m1\u001b[0m\u001b[0;34m)\u001b[0m\u001b[0;34m.\u001b[0m\u001b[0mshape\u001b[0m\u001b[0;34m\u001b[0m\u001b[0;34m\u001b[0m\u001b[0m\n",
      "\u001b[0;31mValueError\u001b[0m: not enough values to unpack (expected 3, got 2)"
     ]
    }
   ],
   "source": [
    "with open(f\"{home}vine.pkl\",\"rb\") as f:\n",
    "    [covariances,y0,_] = pkl.load(f)\n",
    "y = norm.cdf(y0)\n",
    "assert x.shape[0]==y.shape[0]\n",
    "x.reshape(NSamp,1).shape"
   ]
  },
  {
   "cell_type": "code",
   "execution_count": 22,
   "metadata": {},
   "outputs": [
    {
     "data": {
      "text/plain": [
       "{'Nvar': 10,\n",
       " 'NSamp': 10000,\n",
       " 'true_HRgS': array([8.54773606, 8.54706142, 8.54638678, ..., 6.38379786, 6.3837965 ,\n",
       "        6.38379514]),\n",
       " 'true_integral': array([  0.11720445, -15.72077739,   0.02136694]),\n",
       " 'y': array([[-0.8398547 , -1.00671275, -1.20972214, ..., -0.59468224,\n",
       "         -1.31047745, -0.75585441],\n",
       "        [ 1.84325147,  0.07749984,  4.29776248, ...,  1.39172663,\n",
       "          2.20036561,  0.43156155],\n",
       "        [-0.77147999,  0.84665626,  1.35529383, ...,  0.03098243,\n",
       "          2.42349237, -0.98383404],\n",
       "        ...,\n",
       "        [ 0.23812884, -1.38315425,  0.02506398, ...,  0.19152044,\n",
       "         -0.98529367, -0.57415683],\n",
       "        [ 1.26553429,  1.05093033,  0.69349622, ...,  0.13905519,\n",
       "          1.40613443,  0.96753805],\n",
       "        [ 1.50418947,  1.49847957,  0.92132892, ...,  0.48573258,\n",
       "          1.358202  ,  1.42568436]]),\n",
       " 'y0': array([[0.24469345, 0.21003733, 0.17498562, ..., 0.30618637, 0.16015353,\n",
       "         0.26431582],\n",
       "        [0.89670943, 0.52736006, 0.97495839, ..., 0.85072306, 0.92063182,\n",
       "         0.64594093],\n",
       "        [0.26053474, 0.75684946, 0.84598169, ..., 0.51095194, 0.93188114,\n",
       "         0.21443906],\n",
       "        ...,\n",
       "        [0.59394612, 0.08434149, 0.50998129, ..., 0.57581093, 0.16303713,\n",
       "         0.28336295],\n",
       "        [0.89617462, 0.8525059 , 0.75546229, ..., 0.55520306, 0.91911924,\n",
       "         0.83258029],\n",
       "        [0.93267826, 0.93194075, 0.82081802, ..., 0.68606583, 0.91177654,\n",
       "         0.92197734]]),\n",
       " 'BI-KSG_N': -0.11182025229330253,\n",
       " 'BI-KSG_N_H': 15.740793983844176,\n",
       " 'KSG_N': 0.010291836865608785,\n",
       " 'KSG_N_H': 5.7408684886666155,\n",
       " 'BI-KSG': -0.03733670911964662,\n",
       " 'BI-KSG_H': -4.65839129175082,\n",
       " 'KSG': 0.00991600075868805,\n",
       " 'KSG_H': -14.658220425611773,\n",
       " 'MINE100': 0.07683166918235496,\n",
       " 'MINE200': 0.09999676485116418,\n",
       " 'MINE500': 0.23309604091196695,\n",
       " 'eC': array([-5.9192   , -5.9129515, -5.929587 , ..., -6.246046 , -6.2510285,\n",
       "        -6.254295 ], dtype=float32),\n",
       " 'eU': array([-6.1329465, -6.1236906, -6.13499  , ..., -6.054695 , -6.1520844,\n",
       "        -6.181649 ], dtype=float32),\n",
       " 'estimated': 0.09372353553771973,\n",
       " 'integrated': 0.07528924942016602}"
      ]
     },
     "execution_count": 22,
     "metadata": {},
     "output_type": "execute_result"
    }
   ],
   "source": [
    "with open(\"/home/nina/CopulaGP/benchmarks/StudentH.pkl\",\"rb\") as f:\n",
    "    data = pkl.load(f)\n",
    "# x = data[-1]['x']\n",
    "y = data[-1]['y0']\n",
    "data[-1]\n",
    "# import matplotlib.pyplot as plt\n",
    "# plt.scatter(*y.T)"
   ]
  },
  {
   "cell_type": "code",
   "execution_count": 28,
   "metadata": {},
   "outputs": [
    {
     "name": "stderr",
     "output_type": "stream",
     "text": [
      "100%|██████████| 5000/5000 [00:13<00:00, 358.55it/s]\n"
     ]
    }
   ],
   "source": [
    "import tqdm\n",
    "\n",
    "H=200\n",
    "n_epoch = 5000\n",
    "data_size = NSamp\n",
    "\n",
    "class Net(nn.Module):\n",
    "    def __init__(self):\n",
    "        super(Net, self).__init__()\n",
    "        self.fc1 = nn.Linear(1, H)\n",
    "        self.fc2 = nn.Linear(y.shape[-1], H)\n",
    "        self.fc3 = nn.Linear(H, 1)\n",
    "\n",
    "    def forward(self, x, y):\n",
    "        h1 = F.relu(self.fc1(x)+self.fc2(y))\n",
    "        h2 = self.fc3(h1)\n",
    "        return h2    \n",
    "\n",
    "model = Net().to(device)\n",
    "optimizer = torch.optim.Adam(model.parameters(), lr=0.005)\n",
    "plot_loss = []\n",
    "for epoch in tqdm.tqdm(range(n_epoch)):\n",
    "    x_sample=x.reshape(NSamp,1)\n",
    "    y_sample=y\n",
    "    y_shuffle=np.random.permutation(y_sample)\n",
    "    \n",
    "    x_sample = Variable(torch.from_numpy(x_sample).type(torch.FloatTensor).to(device), requires_grad = True)\n",
    "    y_sample = Variable(torch.from_numpy(y_sample).type(torch.FloatTensor).to(device), requires_grad = True)\n",
    "    y_shuffle = Variable(torch.from_numpy(y_shuffle).type(torch.FloatTensor).to(device), requires_grad = True)    \n",
    "    \n",
    "    pred_xy = model(x_sample, y_sample)\n",
    "    pred_x_y = model(x_sample, y_shuffle)\n",
    "\n",
    "    ret = torch.mean(pred_xy) - torch.mean(torch.exp(pred_x_y))/torch.exp(torch.ones(1).to(device))\n",
    "    #torch.log(torch.mean(torch.exp(pred_x_y)))\n",
    "    loss = - ret  # maximize\n",
    "    plot_loss.append(-loss.data.cpu().numpy())\n",
    "    model.zero_grad()\n",
    "    loss.backward()\n",
    "    optimizer.step()"
   ]
  },
  {
   "cell_type": "code",
   "execution_count": 29,
   "metadata": {},
   "outputs": [
    {
     "data": {
      "text/plain": [
       "(-0.01, 0.1)"
      ]
     },
     "execution_count": 29,
     "metadata": {},
     "output_type": "execute_result"
    },
    {
     "data": {
      "image/png": "[encoded data removed]",
      "text/plain": [
       "<Figure size 432x288 with 1 Axes>"
      ]
     },
     "metadata": {
      "needs_background": "light"
     },
     "output_type": "display_data"
    }
   ],
   "source": [
    "import matplotlib.pyplot as plt\n",
    "plt.plot(plot_loss)\n",
    "plt.axhline(data[-1]['integrated'])\n",
    "plt.ylim(-0.01,0.1)"
   ]
  },
  {
   "cell_type": "code",
   "execution_count": 31,
   "metadata": {},
   "outputs": [
    {
     "data": {
      "text/plain": [
       "1.0391445"
      ]
     },
     "execution_count": 31,
     "metadata": {},
     "output_type": "execute_result"
    }
   ],
   "source": [
    "np.mean(plot_loss[-10:]/np.log(2))"
   ]
  },
  {
   "cell_type": "code",
   "execution_count": null,
   "metadata": {},
   "outputs": [],
   "source": []
  },
  {
   "cell_type": "code",
   "execution_count": null,
   "metadata": {},
   "outputs": [],
   "source": []
  }
 ],
 "metadata": {
  "kernelspec": {
   "display_name": "GPyTorch_new",
   "language": "python",
   "name": "gpytorch_new"
  },
  "language_info": {
   "codemirror_mode": {
    "name": "ipython",
    "version": 3
   },
   "file_extension": ".py",
   "mimetype": "text/x-python",
   "name": "python",
   "nbconvert_exporter": "python",
   "pygments_lexer": "ipython3",
   "version": "3.6.9"
  }
 },
 "nbformat": 4,
 "nbformat_minor": 2
}
