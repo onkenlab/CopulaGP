{
 "cells": [
  {
   "cell_type": "code",
   "execution_count": 1,
   "metadata": {},
   "outputs": [],
   "source": [
    "import sys\n",
    "home = '/home/nina/CopulaGP/'\n",
    "sys.path.insert(0, home)\n",
    "\n",
    "import utils\n",
    "from train import conf\n",
    "import glob\n",
    "import pickle as pkl\n",
    "import numpy as np\n",
    "import matplotlib.pyplot as plt\n",
    "import torch\n",
    "\n",
    "import MI\n",
    "import tqdm\n",
    "import bvcopula\n",
    "from vine import CVine"
   ]
  },
  {
   "cell_type": "code",
   "execution_count": 16,
   "metadata": {},
   "outputs": [
    {
     "data": {
      "text/plain": [
       "'/home/nina/outputs/ST260_Day1_gnT'"
      ]
     },
     "execution_count": 16,
     "metadata": {},
     "output_type": "execute_result"
    }
   ],
   "source": [
    "animal = 'ST260'\n",
    "day_name = 'Day1'\n",
    "exp_pref = f'{animal}_{day_name}'\n",
    "path_models = f\"{conf.path2outputs}/{exp_pref}_gnT\"\n",
    "path_models"
   ]
  },
  {
   "cell_type": "code",
   "execution_count": 17,
   "metadata": {},
   "outputs": [],
   "source": [
    "list_files = glob.glob(f\"{path_models}/models_*.pkl\")"
   ]
  },
  {
   "cell_type": "code",
   "execution_count": 18,
   "metadata": {},
   "outputs": [],
   "source": [
    "with open(f\"{path_models}/models_layer0.pkl\",\"rb\") as f:\n",
    "    results = pkl.load(f)\n",
    "NN = len(results)+1\n",
    "WAICs = np.zeros((NN,NN))\n",
    "WAICs[0,1:] = [a[3] for a in results]\n",
    "for layer in range(1,len(results)):\n",
    "    with open(f\"{path_models}/models_layer{layer}.pkl\",\"rb\") as f:\n",
    "        res = pkl.load(f)\n",
    "    WAICs[layer,(layer+1):] = [a[3] for a in res]"
   ]
  },
  {
   "cell_type": "code",
   "execution_count": 19,
   "metadata": {},
   "outputs": [
    {
     "data": {
      "text/plain": [
       "<matplotlib.image.AxesImage at 0x7fc201e57400>"
      ]
     },
     "execution_count": 19,
     "metadata": {},
     "output_type": "execute_result"
    },
    {
     "data": {
      "image/png": "[encoded data removed]",
      "text/plain": [
       "<Figure size 432x288 with 1 Axes>"
      ]
     },
     "metadata": {
      "needs_background": "light"
     },
     "output_type": "display_data"
    }
   ],
   "source": [
    "plt.imshow(WAICs[:])"
   ]
  },
  {
   "cell_type": "code",
   "execution_count": 20,
   "metadata": {},
   "outputs": [
    {
     "name": "stderr",
     "output_type": "stream",
     "text": [
      "100%|██████████| 103/103 [00:07<00:00, 13.94it/s]\n"
     ]
    }
   ],
   "source": [
    "device = \"cuda:0\"\n",
    "\n",
    "# create linspace\n",
    "N_points = 50\n",
    "# train_x = torch.linspace(0,1,N_points).to(device)\n",
    "\n",
    "#real\n",
    "X,Y = utils.standard_loader(f\"{conf.path2data}/{exp_pref}_standard.pkl\")\n",
    "# N_points=X.shape[0]\n",
    "N_points = 200\n",
    "train_x = torch.tensor(X, device=device).float()\n",
    "train_x = train_x[torch.randperm(train_x.numel())[:N_points]]\n",
    "\n",
    "copula_layers, likelihood_layers, fs_layers = [], [], []\n",
    "for layer in tqdm.tqdm(range(0,NN-1)):\n",
    "    copulas, liks, fs = [], [], []\n",
    "    with open(f\"{path_models}/models_layer{layer}.pkl\",\"rb\") as f:\n",
    "        results = pkl.load(f)\n",
    "    out_dir = f'{path_models}/layer{layer}'\n",
    "    for n,res in enumerate(results):\n",
    "        if res[1]!='Independence':\n",
    "            likelihoods = res[0]\n",
    "            weights_file = f\"{out_dir}/model_{exp_pref}_{layer}-{layer+n+1}.pth\"\n",
    "            model = utils.get_model(weights_file, likelihoods, device)\n",
    "            liks.append(model.likelihood)\n",
    "            with torch.no_grad():\n",
    "                f = model(train_x).mean\n",
    "                copula = model.likelihood.get_copula(f)\n",
    "                copulas.append(copula)\n",
    "                fs.append(f)\n",
    "        else:\n",
    "            copulas.append(bvcopula.MixtureCopula(torch.empty(1,0,device=device),\n",
    "                    torch.ones(1,N_points,device=device),\n",
    "                    [bvcopula.IndependenceCopula]))\n",
    "            fs.append(None)\n",
    "            liks.append([bvcopula.IndependenceCopula_Likelihood()])\n",
    "#     else:\n",
    "#         for n in range(NN-1-layer):\n",
    "#             copulas.append(bvcopula.MixtureCopula(torch.empty(1,0,device=device),\n",
    "#                         torch.ones(1,N_points,device=device),\n",
    "#                         [bvcopula.IndependenceCopula]))\n",
    "#             fs.append(None)\n",
    "#             liks.append([bvcopula.IndependenceCopula_Likelihood()])\n",
    "    copula_layers.append(copulas)\n",
    "    likelihood_layers.append(liks)\n",
    "    fs_layers.append(fs)"
   ]
  },
  {
   "cell_type": "code",
   "execution_count": 21,
   "metadata": {},
   "outputs": [
    {
     "name": "stdout",
     "output_type": "stream",
     "text": [
      "4705 5356 0.878454070201643 651\n"
     ]
    }
   ],
   "source": [
    "# [len(copula_layers[i]) for i in range(108)]\n",
    "c, c1 = 0, 0\n",
    "for layer in copula_layers:\n",
    "    for copulas in layer:\n",
    "        c+= 1\n",
    "        if len(copulas.copulas)==1:\n",
    "            if copulas.copulas[0].__name__ == \"IndependenceCopula\":\n",
    "                c1 += 1\n",
    "print(c1,c,c1/c,c-c1)"
   ]
  },
  {
   "cell_type": "code",
   "execution_count": 8,
   "metadata": {},
   "outputs": [],
   "source": [
    "# import time\n",
    "# X,Y = utils.standard_loader(f\"{conf.path2data}/{exp_pref}_standard.pkl\")\n",
    "# indep = bvcopula.MixtureCopula(torch.empty(1,0,device=device),\n",
    "#                     torch.ones(1,1,device=device),\n",
    "#                     [bvcopula.IndependenceCopula])\n",
    "# N = Y.shape[-1]\n",
    "# # device = torch.device('cpu')\n",
    "# data_layers = [torch.tensor(Y).float().to(device)]\n",
    "# copula_layers = []\n",
    "# t0 = time.time()\n",
    "# for m in range(0,N-1):\n",
    "#     copulas, layer = [], []\n",
    "#     for n in tqdm.tqdm(range(1,N-m)):\n",
    "#         samples = data_layers[-1][...,[n,0]]\n",
    "#         likelihood = likelihood_layers[m][n-1]\n",
    "#         f0 = fs_layers[m][n-1]\n",
    "#         if f0 is None:\n",
    "#             assert likelihood[0].name=='Independence'\n",
    "#             copulas.append(indep)\n",
    "#             layer.append(samples[:,0])\n",
    "#         else:\n",
    "#             f0 = f0.mean(axis=-1).unsqueeze(-1)\n",
    "# #             copula0 = likelihood(f0)\n",
    "#             copula = likelihood.fit(samples,f0,n_epoch=500)\n",
    "# #             print(f\"{m},{n+m}: {(copula0.theta-copula.theta).mean().cpu()}\")\n",
    "#             copulas.append(copula)\n",
    "#             layer.append(copula.ccdf(samples.unsqueeze(-2)).squeeze())\n",
    "#     data_layers.append(torch.stack(layer,dim=-1))\n",
    "#     copula_layers.append(copulas)\n",
    "# t1= time.time()\n",
    "# print(f\"{(t1-t0)//60}\")"
   ]
  },
  {
   "cell_type": "code",
   "execution_count": 22,
   "metadata": {},
   "outputs": [],
   "source": [
    "# train_x = torch.ones(1,device=device)\n",
    "vine = CVine(copula_layers,train_x,device=device)"
   ]
  },
  {
   "cell_type": "code",
   "execution_count": 23,
   "metadata": {},
   "outputs": [
    {
     "data": {
      "text/plain": [
       "-32.05"
      ]
     },
     "execution_count": 23,
     "metadata": {},
     "output_type": "execute_result"
    }
   ],
   "source": [
    "# with open(f\"{home}/results/D1UxFU_vine.pkl\",\"wb\") as f:\n",
    "#     pkl.dump([copula_layers,vine],f)\n",
    "-18.64 -18.36 -20.93"
   ]
  },
  {
   "cell_type": "code",
   "execution_count": 24,
   "metadata": {},
   "outputs": [
    {
     "name": "stderr",
     "output_type": "stream",
     "text": [
      "\r",
      "  0%|          | 0/14 [00:00<?, ?it/s]"
     ]
    },
    {
     "name": "stdout",
     "output_type": "stream",
     "text": [
      "tensor(7.8797, device='cuda:0')\n",
      "tensor(5.3799, device='cuda:0')\n",
      "tensor(4.2787, device='cuda:0')\n",
      "tensor(3.6166, device='cuda:0')\n",
      "tensor(3.2196, device='cuda:0')\n",
      "tensor(2.8964, device='cuda:0')\n",
      "tensor(2.6935, device='cuda:0')\n",
      "tensor(2.5029, device='cuda:0')\n",
      "tensor(2.3626, device='cuda:0')\n",
      "tensor(2.2624, device='cuda:0')\n",
      "tensor(2.1594, device='cuda:0')\n",
      "tensor(2.0519, device='cuda:0')\n",
      "tensor(1.9783, device='cuda:0')\n",
      "tensor(1.8943, device='cuda:0')\n",
      "tensor(1.8250, device='cuda:0')\n",
      "tensor(1.7707, device='cuda:0')\n",
      "tensor(1.7151, device='cuda:0')\n",
      "tensor(1.6629, device='cuda:0')\n",
      "tensor(1.6173, device='cuda:0')\n",
      "tensor(1.5765, device='cuda:0')\n",
      "tensor(1.5366, device='cuda:0')\n",
      "tensor(1.5005, device='cuda:0')\n",
      "tensor(1.4657, device='cuda:0')\n",
      "tensor(1.4352, device='cuda:0')\n",
      "tensor(1.4062, device='cuda:0')\n",
      "tensor(1.3761, device='cuda:0')\n",
      "tensor(1.3505, device='cuda:0')\n",
      "tensor(1.3272, device='cuda:0')\n",
      "tensor(1.3025, device='cuda:0')\n",
      "tensor(1.2807, device='cuda:0')\n",
      "tensor(1.2604, device='cuda:0')\n",
      "tensor(1.2411, device='cuda:0')\n",
      "tensor(1.2226, device='cuda:0')\n",
      "tensor(1.2034, device='cuda:0')\n",
      "tensor(1.1866, device='cuda:0')\n",
      "tensor(1.1672, device='cuda:0')\n",
      "tensor(1.1510, device='cuda:0')\n",
      "tensor(1.1364, device='cuda:0')\n",
      "tensor(1.1185, device='cuda:0')\n",
      "tensor(1.1029, device='cuda:0')\n",
      "tensor(1.0919, device='cuda:0')\n",
      "tensor(1.0789, device='cuda:0')\n",
      "tensor(1.0641, device='cuda:0')\n",
      "tensor(1.0529, device='cuda:0')\n",
      "tensor(1.0422, device='cuda:0')\n",
      "tensor(1.0305, device='cuda:0')\n",
      "tensor(1.0201, device='cuda:0')\n",
      "tensor(1.0092, device='cuda:0')\n"
     ]
    },
    {
     "name": "stderr",
     "output_type": "stream",
     "text": [
      "\r",
      "  7%|▋         | 1/14 [41:08<8:54:53, 2468.72s/it]"
     ]
    },
    {
     "name": "stdout",
     "output_type": "stream",
     "text": [
      "tensor(0.9993, device='cuda:0')\n",
      "-20.927656\n",
      "tensor(7.6264, device='cuda:0')\n",
      "tensor(5.2279, device='cuda:0')\n",
      "tensor(4.2061, device='cuda:0')\n",
      "tensor(3.5835, device='cuda:0')\n",
      "tensor(3.1670, device='cuda:0')\n",
      "tensor(2.9169, device='cuda:0')\n",
      "tensor(2.6965, device='cuda:0')\n",
      "tensor(2.5030, device='cuda:0')\n",
      "tensor(2.3746, device='cuda:0')\n",
      "tensor(2.2563, device='cuda:0')\n",
      "tensor(2.1351, device='cuda:0')\n",
      "tensor(2.0476, device='cuda:0')\n",
      "tensor(1.9692, device='cuda:0')\n",
      "tensor(1.8937, device='cuda:0')\n",
      "tensor(1.8212, device='cuda:0')\n",
      "tensor(1.7680, device='cuda:0')\n",
      "tensor(1.7142, device='cuda:0')\n",
      "tensor(1.6635, device='cuda:0')\n",
      "tensor(1.6185, device='cuda:0')\n",
      "tensor(1.5754, device='cuda:0')\n",
      "tensor(1.5358, device='cuda:0')\n",
      "tensor(1.5007, device='cuda:0')\n",
      "tensor(1.4676, device='cuda:0')\n",
      "tensor(1.4372, device='cuda:0')\n",
      "tensor(1.4049, device='cuda:0')\n",
      "tensor(1.3769, device='cuda:0')\n",
      "tensor(1.3487, device='cuda:0')\n",
      "tensor(1.3230, device='cuda:0')\n",
      "tensor(1.3014, device='cuda:0')\n",
      "tensor(1.2771, device='cuda:0')\n",
      "tensor(1.2555, device='cuda:0')\n",
      "tensor(1.2350, device='cuda:0')\n",
      "tensor(1.2184, device='cuda:0')\n",
      "tensor(1.1999, device='cuda:0')\n",
      "tensor(1.1865, device='cuda:0')\n",
      "tensor(1.1695, device='cuda:0')\n",
      "tensor(1.1508, device='cuda:0')\n",
      "tensor(1.1361, device='cuda:0')\n",
      "tensor(1.1224, device='cuda:0')\n",
      "tensor(1.1088, device='cuda:0')\n",
      "tensor(1.0956, device='cuda:0')\n",
      "tensor(1.0806, device='cuda:0')\n",
      "tensor(1.0696, device='cuda:0')\n",
      "tensor(1.0560, device='cuda:0')\n",
      "tensor(1.0429, device='cuda:0')\n",
      "tensor(1.0311, device='cuda:0')\n",
      "tensor(1.0193, device='cuda:0')\n",
      "tensor(1.0100, device='cuda:0')\n"
     ]
    },
    {
     "name": "stderr",
     "output_type": "stream",
     "text": [
      "\r",
      " 14%|█▍        | 2/14 [1:17:24<7:56:09, 2380.76s/it]"
     ]
    },
    {
     "name": "stdout",
     "output_type": "stream",
     "text": [
      "-20.626406\n",
      "tensor(7.8703, device='cuda:0')\n",
      "tensor(5.2484, device='cuda:0')\n",
      "tensor(4.1753, device='cuda:0')\n",
      "tensor(3.6289, device='cuda:0')\n",
      "tensor(3.2151, device='cuda:0')\n",
      "tensor(2.9368, device='cuda:0')\n",
      "tensor(2.6938, device='cuda:0')\n",
      "tensor(2.5021, device='cuda:0')\n",
      "tensor(2.3545, device='cuda:0')\n",
      "tensor(2.2249, device='cuda:0')\n",
      "tensor(2.1174, device='cuda:0')\n",
      "tensor(2.0259, device='cuda:0')\n",
      "tensor(1.9394, device='cuda:0')\n",
      "tensor(1.8737, device='cuda:0')\n",
      "tensor(1.8112, device='cuda:0')\n",
      "tensor(1.7561, device='cuda:0')\n",
      "tensor(1.7035, device='cuda:0')\n",
      "tensor(1.6484, device='cuda:0')\n",
      "tensor(1.6030, device='cuda:0')\n",
      "tensor(1.5638, device='cuda:0')\n",
      "tensor(1.5253, device='cuda:0')\n",
      "tensor(1.4850, device='cuda:0')\n",
      "tensor(1.4537, device='cuda:0')\n",
      "tensor(1.4202, device='cuda:0')\n",
      "tensor(1.3872, device='cuda:0')\n",
      "tensor(1.3639, device='cuda:0')\n",
      "tensor(1.3370, device='cuda:0')\n",
      "tensor(1.3144, device='cuda:0')\n",
      "tensor(1.2980, device='cuda:0')\n",
      "tensor(1.2744, device='cuda:0')\n",
      "tensor(1.2552, device='cuda:0')\n",
      "tensor(1.2359, device='cuda:0')\n",
      "tensor(1.2161, device='cuda:0')\n",
      "tensor(1.1974, device='cuda:0')\n",
      "tensor(1.1780, device='cuda:0')\n",
      "tensor(1.1595, device='cuda:0')\n",
      "tensor(1.1433, device='cuda:0')\n",
      "tensor(1.1296, device='cuda:0')\n",
      "tensor(1.1138, device='cuda:0')\n",
      "tensor(1.1027, device='cuda:0')\n",
      "tensor(1.0891, device='cuda:0')\n",
      "tensor(1.0776, device='cuda:0')\n",
      "tensor(1.0640, device='cuda:0')\n",
      "tensor(1.0511, device='cuda:0')\n",
      "tensor(1.0388, device='cuda:0')\n",
      "tensor(1.0268, device='cuda:0')\n",
      "tensor(1.0157, device='cuda:0')\n",
      "tensor(1.0050, device='cuda:0')\n"
     ]
    },
    {
     "name": "stderr",
     "output_type": "stream",
     "text": [
      "\r",
      " 21%|██▏       | 3/14 [1:47:42<6:45:31, 2211.97s/it]"
     ]
    },
    {
     "name": "stdout",
     "output_type": "stream",
     "text": [
      "-19.681751\n",
      "tensor(7.4864, device='cuda:0')\n",
      "tensor(5.3195, device='cuda:0')\n",
      "tensor(4.1719, device='cuda:0')\n",
      "tensor(3.5429, device='cuda:0')\n",
      "tensor(3.1303, device='cuda:0')\n",
      "tensor(2.8572, device='cuda:0')\n",
      "tensor(2.6352, device='cuda:0')\n",
      "tensor(2.4660, device='cuda:0')\n",
      "tensor(2.3113, device='cuda:0')\n",
      "tensor(2.1794, device='cuda:0')\n",
      "tensor(2.0798, device='cuda:0')\n",
      "tensor(1.9961, device='cuda:0')\n",
      "tensor(1.9140, device='cuda:0')\n",
      "tensor(1.8399, device='cuda:0')\n",
      "tensor(1.7797, device='cuda:0')\n",
      "tensor(1.7259, device='cuda:0')\n",
      "tensor(1.6770, device='cuda:0')\n",
      "tensor(1.6265, device='cuda:0')\n",
      "tensor(1.5837, device='cuda:0')\n",
      "tensor(1.5449, device='cuda:0')\n",
      "tensor(1.5096, device='cuda:0')\n",
      "tensor(1.4743, device='cuda:0')\n",
      "tensor(1.4433, device='cuda:0')\n",
      "tensor(1.4115, device='cuda:0')\n",
      "tensor(1.3823, device='cuda:0')\n",
      "tensor(1.3541, device='cuda:0')\n",
      "tensor(1.3249, device='cuda:0')\n",
      "tensor(1.3004, device='cuda:0')\n",
      "tensor(1.2798, device='cuda:0')\n",
      "tensor(1.2606, device='cuda:0')\n",
      "tensor(1.2393, device='cuda:0')\n",
      "tensor(1.2186, device='cuda:0')\n",
      "tensor(1.1991, device='cuda:0')\n",
      "tensor(1.1801, device='cuda:0')\n",
      "tensor(1.1619, device='cuda:0')\n",
      "tensor(1.1479, device='cuda:0')\n",
      "tensor(1.1329, device='cuda:0')\n",
      "tensor(1.1169, device='cuda:0')\n",
      "tensor(1.1045, device='cuda:0')\n",
      "tensor(1.0914, device='cuda:0')\n",
      "tensor(1.0775, device='cuda:0')\n",
      "tensor(1.0637, device='cuda:0')\n",
      "tensor(1.0496, device='cuda:0')\n",
      "tensor(1.0359, device='cuda:0')\n",
      "tensor(1.0234, device='cuda:0')\n",
      "tensor(1.0121, device='cuda:0')\n",
      "tensor(1.0022, device='cuda:0')\n"
     ]
    },
    {
     "name": "stderr",
     "output_type": "stream",
     "text": [
      "\r",
      " 29%|██▊       | 4/14 [2:12:08<5:31:22, 1988.21s/it]"
     ]
    },
    {
     "name": "stdout",
     "output_type": "stream",
     "text": [
      "-18.658607\n",
      "tensor(6.7140, device='cuda:0')\n",
      "tensor(4.7144, device='cuda:0')\n",
      "tensor(3.8515, device='cuda:0')\n",
      "tensor(3.3289, device='cuda:0')\n",
      "tensor(2.9613, device='cuda:0')\n",
      "tensor(2.6981, device='cuda:0')\n",
      "tensor(2.4894, device='cuda:0')\n",
      "tensor(2.3270, device='cuda:0')\n",
      "tensor(2.1934, device='cuda:0')\n",
      "tensor(2.0869, device='cuda:0')\n",
      "tensor(1.9851, device='cuda:0')\n",
      "tensor(1.8959, device='cuda:0')\n",
      "tensor(1.8099, device='cuda:0')\n",
      "tensor(1.7424, device='cuda:0')\n",
      "tensor(1.6828, device='cuda:0')\n",
      "tensor(1.6256, device='cuda:0')\n",
      "tensor(1.5718, device='cuda:0')\n",
      "tensor(1.5248, device='cuda:0')\n",
      "tensor(1.4846, device='cuda:0')\n",
      "tensor(1.4458, device='cuda:0')\n",
      "tensor(1.4075, device='cuda:0')\n",
      "tensor(1.3798, device='cuda:0')\n",
      "tensor(1.3524, device='cuda:0')\n",
      "tensor(1.3284, device='cuda:0')\n",
      "tensor(1.3013, device='cuda:0')\n",
      "tensor(1.2730, device='cuda:0')\n",
      "tensor(1.2461, device='cuda:0')\n",
      "tensor(1.2216, device='cuda:0')\n",
      "tensor(1.1967, device='cuda:0')\n",
      "tensor(1.1761, device='cuda:0')\n",
      "tensor(1.1570, device='cuda:0')\n",
      "tensor(1.1378, device='cuda:0')\n",
      "tensor(1.1220, device='cuda:0')\n",
      "tensor(1.1074, device='cuda:0')\n",
      "tensor(1.0942, device='cuda:0')\n",
      "tensor(1.0799, device='cuda:0')\n",
      "tensor(1.0641, device='cuda:0')\n",
      "tensor(1.0495, device='cuda:0')\n",
      "tensor(1.0374, device='cuda:0')\n",
      "tensor(1.0229, device='cuda:0')\n",
      "tensor(1.0097, device='cuda:0')\n"
     ]
    },
    {
     "name": "stderr",
     "output_type": "stream",
     "text": [
      "\r",
      " 36%|███▌      | 5/14 [2:30:00<4:17:01, 1713.46s/it]"
     ]
    },
    {
     "name": "stdout",
     "output_type": "stream",
     "text": [
      "-17.653183\n",
      "tensor(6.3977, device='cuda:0')\n",
      "tensor(4.4141, device='cuda:0')\n",
      "tensor(3.5518, device='cuda:0')\n",
      "tensor(3.1074, device='cuda:0')\n",
      "tensor(2.7846, device='cuda:0')\n",
      "tensor(2.5167, device='cuda:0')\n",
      "tensor(2.3437, device='cuda:0')\n",
      "tensor(2.1921, device='cuda:0')\n",
      "tensor(2.0564, device='cuda:0')\n",
      "tensor(1.9451, device='cuda:0')\n",
      "tensor(1.8594, device='cuda:0')\n",
      "tensor(1.7754, device='cuda:0')\n",
      "tensor(1.7008, device='cuda:0')\n",
      "tensor(1.6258, device='cuda:0')\n",
      "tensor(1.5653, device='cuda:0')\n",
      "tensor(1.5124, device='cuda:0')\n",
      "tensor(1.4618, device='cuda:0')\n",
      "tensor(1.4192, device='cuda:0')\n",
      "tensor(1.3792, device='cuda:0')\n",
      "tensor(1.3426, device='cuda:0')\n",
      "tensor(1.3120, device='cuda:0')\n",
      "tensor(1.2818, device='cuda:0')\n",
      "tensor(1.2550, device='cuda:0')\n",
      "tensor(1.2294, device='cuda:0')\n",
      "tensor(1.2054, device='cuda:0')\n",
      "tensor(1.1796, device='cuda:0')\n",
      "tensor(1.1608, device='cuda:0')\n",
      "tensor(1.1374, device='cuda:0')\n",
      "tensor(1.1175, device='cuda:0')\n",
      "tensor(1.1002, device='cuda:0')\n",
      "tensor(1.0821, device='cuda:0')\n",
      "tensor(1.0661, device='cuda:0')\n",
      "tensor(1.0478, device='cuda:0')\n",
      "tensor(1.0346, device='cuda:0')\n",
      "tensor(1.0190, device='cuda:0')\n",
      "tensor(1.0032, device='cuda:0')\n"
     ]
    },
    {
     "name": "stderr",
     "output_type": "stream",
     "text": [
      "\r",
      " 43%|████▎     | 6/14 [2:42:18<3:09:25, 1420.73s/it]"
     ]
    },
    {
     "name": "stdout",
     "output_type": "stream",
     "text": [
      "-16.358974\n",
      "tensor(6.0330, device='cuda:0')\n",
      "tensor(4.1055, device='cuda:0')\n",
      "tensor(3.3262, device='cuda:0')\n",
      "tensor(2.9022, device='cuda:0')\n",
      "tensor(2.5646, device='cuda:0')\n",
      "tensor(2.3233, device='cuda:0')\n",
      "tensor(2.1427, device='cuda:0')\n",
      "tensor(1.9973, device='cuda:0')\n",
      "tensor(1.8913, device='cuda:0')\n",
      "tensor(1.7887, device='cuda:0')\n",
      "tensor(1.7041, device='cuda:0')\n",
      "tensor(1.6203, device='cuda:0')\n",
      "tensor(1.5519, device='cuda:0')\n",
      "tensor(1.4928, device='cuda:0')\n",
      "tensor(1.4467, device='cuda:0')\n",
      "tensor(1.4018, device='cuda:0')\n",
      "tensor(1.3586, device='cuda:0')\n",
      "tensor(1.3186, device='cuda:0')\n",
      "tensor(1.2848, device='cuda:0')\n",
      "tensor(1.2490, device='cuda:0')\n",
      "tensor(1.2240, device='cuda:0')\n",
      "tensor(1.1970, device='cuda:0')\n",
      "tensor(1.1699, device='cuda:0')\n",
      "tensor(1.1470, device='cuda:0')\n",
      "tensor(1.1215, device='cuda:0')\n",
      "tensor(1.0992, device='cuda:0')\n",
      "tensor(1.0783, device='cuda:0')\n",
      "tensor(1.0596, device='cuda:0')\n",
      "tensor(1.0396, device='cuda:0')\n",
      "tensor(1.0230, device='cuda:0')\n",
      "tensor(1.0047, device='cuda:0')\n"
     ]
    },
    {
     "name": "stderr",
     "output_type": "stream",
     "text": [
      "\r",
      " 50%|█████     | 7/14 [2:50:12<2:12:37, 1136.75s/it]"
     ]
    },
    {
     "name": "stdout",
     "output_type": "stream",
     "text": [
      "-14.844182\n",
      "tensor(5.5012, device='cuda:0')\n",
      "tensor(3.7483, device='cuda:0')\n",
      "tensor(3.0363, device='cuda:0')\n",
      "tensor(2.5896, device='cuda:0')\n",
      "tensor(2.3142, device='cuda:0')\n",
      "tensor(2.1075, device='cuda:0')\n",
      "tensor(1.9404, device='cuda:0')\n",
      "tensor(1.7947, device='cuda:0')\n",
      "tensor(1.6941, device='cuda:0')\n",
      "tensor(1.6003, device='cuda:0')\n",
      "tensor(1.5255, device='cuda:0')\n",
      "tensor(1.4689, device='cuda:0')\n",
      "tensor(1.4063, device='cuda:0')\n",
      "tensor(1.3550, device='cuda:0')\n",
      "tensor(1.3092, device='cuda:0')\n",
      "tensor(1.2675, device='cuda:0')\n",
      "tensor(1.2311, device='cuda:0')\n",
      "tensor(1.1946, device='cuda:0')\n",
      "tensor(1.1606, device='cuda:0')\n",
      "tensor(1.1328, device='cuda:0')\n",
      "tensor(1.1006, device='cuda:0')\n",
      "tensor(1.0726, device='cuda:0')\n",
      "tensor(1.0510, device='cuda:0')\n",
      "tensor(1.0264, device='cuda:0')\n",
      "tensor(1.0063, device='cuda:0')\n"
     ]
    },
    {
     "name": "stderr",
     "output_type": "stream",
     "text": [
      "\r",
      " 57%|█████▋    | 8/14 [2:54:37<1:27:31, 875.21s/it] "
     ]
    },
    {
     "name": "stdout",
     "output_type": "stream",
     "text": [
      "-12.801824\n",
      "tensor(4.4006, device='cuda:0')\n",
      "tensor(3.0651, device='cuda:0')\n",
      "tensor(2.4834, device='cuda:0')\n",
      "tensor(2.1301, device='cuda:0')\n",
      "tensor(1.9020, device='cuda:0')\n",
      "tensor(1.7339, device='cuda:0')\n",
      "tensor(1.6075, device='cuda:0')\n",
      "tensor(1.5003, device='cuda:0')\n",
      "tensor(1.4169, device='cuda:0')\n",
      "tensor(1.3348, device='cuda:0')\n",
      "tensor(1.2773, device='cuda:0')\n",
      "tensor(1.2287, device='cuda:0')\n",
      "tensor(1.1770, device='cuda:0')\n",
      "tensor(1.1291, device='cuda:0')\n",
      "tensor(1.0913, device='cuda:0')\n",
      "tensor(1.0543, device='cuda:0')\n",
      "tensor(1.0279, device='cuda:0')\n"
     ]
    },
    {
     "name": "stderr",
     "output_type": "stream",
     "text": [
      "\r",
      " 64%|██████▍   | 9/14 [2:56:32<53:55, 647.08s/it]  "
     ]
    },
    {
     "name": "stdout",
     "output_type": "stream",
     "text": [
      "tensor(0.9991, device='cuda:0')\n",
      "-10.575994\n",
      "tensor(3.3949, device='cuda:0')\n",
      "tensor(2.3640, device='cuda:0')\n",
      "tensor(1.8945, device='cuda:0')\n",
      "tensor(1.6557, device='cuda:0')\n",
      "tensor(1.4581, device='cuda:0')\n",
      "tensor(1.3306, device='cuda:0')\n",
      "tensor(1.2301, device='cuda:0')\n",
      "tensor(1.1488, device='cuda:0')\n",
      "tensor(1.0791, device='cuda:0')\n",
      "tensor(1.0255, device='cuda:0')\n"
     ]
    },
    {
     "name": "stderr",
     "output_type": "stream",
     "text": [
      "\r",
      " 71%|███████▏  | 10/14 [2:57:05<30:51, 462.93s/it]"
     ]
    },
    {
     "name": "stdout",
     "output_type": "stream",
     "text": [
      "-7.9340672\n"
     ]
    },
    {
     "name": "stderr",
     "output_type": "stream",
     "text": [
      "\r",
      " 79%|███████▊  | 11/14 [2:57:06<16:12, 324.19s/it]"
     ]
    },
    {
     "name": "stdout",
     "output_type": "stream",
     "text": [
      "tensor(1.0627, device='cuda:0')\n",
      "-1.9974049\n"
     ]
    },
    {
     "name": "stderr",
     "output_type": "stream",
     "text": [
      "100%|██████████| 14/14 [2:57:06<00:00, 759.02s/it]"
     ]
    },
    {
     "name": "stdout",
     "output_type": "stream",
     "text": [
      "-1.2284825\n",
      "-0.5281324\n",
      "0.0\n"
     ]
    },
    {
     "name": "stderr",
     "output_type": "stream",
     "text": [
      "\n"
     ]
    }
   ],
   "source": [
    "h = []\n",
    "Ns = 104-np.array([0,10,20,30,40,50,60,70,80,90,100,101,102,103,104])\n",
    "# h.append(H[0])\n",
    "for n in tqdm.tqdm(Ns[:-1]):\n",
    "    layers = [[copula_layers[i][j] for j in range(n-1-i)] for i in range(n-1)]\n",
    "    vineR = CVine(layers,train_x,device=device)\n",
    "    entropy = vineR.entropy(sem_tol=0.1, mc_size=200, v=True)\n",
    "    h.append(entropy.cpu().numpy())\n",
    "    print(h[-1].mean())\n",
    "h.append(np.zeros_like(h[-1]))\n",
    "with open(f\"{home}/results/HYgX_subpop_D1_gnT.pkl\",\"wb\") as f:\n",
    "    pkl.dump([Ns,train_x.cpu().numpy(),h],f)"
   ]
  },
  {
   "cell_type": "code",
   "execution_count": null,
   "metadata": {},
   "outputs": [],
   "source": [
    "h = []\n",
    "Ns = 109-np.array([0,10,20,30,40,50,60,70,80,90,100,101,102,103,104,105,106,107,108])\n",
    "for n in tqdm.tqdm(Ns[:-1]):\n",
    "    layers = [[copula_layers[i][j] for j in range(n-1-i)] for i in range(n-1)]\n",
    "    vineR = CVine(layers,train_x,device=device)\n",
    "    MI = vineR.stimMI(sR_mc_size=3000, s_mc_size=25, r_mc_size=5, sem_tol=0.05, v=True)\n",
    "    h.append([MI[0].item(),MI[1].item(),MI[2].item(),MI[3].item()])\n",
    "    print(h[-1])\n",
    "h.append([0,0,0,0])\n",
    "# with open(f\"{home}/results/MI_subpop_D3C.pkl\",\"wb\") as f:\n",
    "#     pkl.dump([Ns,train_x.cpu().numpy(),h],f)"
   ]
  },
  {
   "cell_type": "code",
   "execution_count": null,
   "metadata": {
    "scrolled": false
   },
   "outputs": [],
   "source": [
    "I = []\n",
    "Ns = np.array([0,10,20,30,40,50,60,70,75,80,85,90,100,101,102,103,104,105,106,107,108])\n",
    "for n in tqdm.tqdm(Ns):\n",
    "    MI = vine.truncate(n).stimMI(sR_mc_size=1000, s_mc_size=25, r_mc_size=5, sem_tol=0.05, v=True)\n",
    "    I.append([MI[0].item(),MI[1].item(),MI[2].item(),MI[3].item()])\n",
    "    print(I[-1])\n",
    "# with open(f\"{home}/results/MI_trunc_D3C.pkl\",\"wb\") as f:\n",
    "#     pkl.dump([Ns,train_x.cpu().numpy(),I],f)"
   ]
  },
  {
   "cell_type": "code",
   "execution_count": null,
   "metadata": {},
   "outputs": [],
   "source": [
    "# %time Hrs = vine.entropy(sem_tol=.05, mc_size=4000, v=True)\n",
    "# with open(f\"{home}/results/HYgX_C.pkl\",\"wb\") as f:\n",
    "#     pkl.dump(np.stack([train_x.cpu().numpy(),Hrs.cpu().numpy()]),f)\n",
    "# plt.plot(Hrs.cpu().numpy())"
   ]
  },
  {
   "cell_type": "code",
   "execution_count": null,
   "metadata": {},
   "outputs": [],
   "source": [
    "H = []\n",
    "Ns = np.array([0,10,20,30,40,50,60,70,80,90,100,101,102,103,104])\n",
    "for n in tqdm.tqdm(Ns):\n",
    "    entropy = vine.truncate(n).entropy(sem_tol=0.1, mc_size=2000, v=False)\n",
    "    H.append(entropy.cpu().numpy())\n",
    "    print(H[-1].mean())\n",
    "with open(f\"{home}/results/HYgX_trunc_D1_gT.pkl\",\"wb\") as f:\n",
    "    pkl.dump([Ns,train_x.cpu().numpy(),H],f)"
   ]
  },
  {
   "cell_type": "code",
   "execution_count": null,
   "metadata": {},
   "outputs": [],
   "source": [
    "plt.plot(105-Ns[1:-1],[hh[0] for hh in h])"
   ]
  },
  {
   "cell_type": "code",
   "execution_count": 8,
   "metadata": {},
   "outputs": [
    {
     "name": "stderr",
     "output_type": "stream",
     "text": [
      "  5%|▌         | 1/19 [00:40<12:05, 40.30s/it]"
     ]
    },
    {
     "name": "stdout",
     "output_type": "stream",
     "text": [
      "[0.8957348327316541]\n"
     ]
    },
    {
     "name": "stderr",
     "output_type": "stream",
     "text": [
      "100%|██████████| 19/19 [11:28<00:00, 36.25s/it]\n"
     ]
    }
   ],
   "source": [
    "# now find MIs with MINE\n",
    "X,Y = utils.standard_loader(f\"{conf.path2data}/{exp_pref}_standard.pkl\")\n",
    "Ns = 109-np.array([0,10,20,30,40,50,60,70,80,90,100,101,102,103,104,105,106,107,108])\n",
    "I = []\n",
    "for n in tqdm.tqdm(Ns):\n",
    "    I.append(MI.train_MINE(Y[...,:n],x=torch.tensor(X).float(),H=100,lr=0.01,device=device).item()/np.log(2))\n",
    "    if n==Ns[0]:\n",
    "        print(I)\n",
    "with open(f\"{home}/results/MI_subpop_MINE_D3C.pkl\",\"wb\") as f:\n",
    "    pkl.dump([Ns,I],f)"
   ]
  },
  {
   "cell_type": "code",
   "execution_count": 34,
   "metadata": {},
   "outputs": [
    {
     "name": "stderr",
     "output_type": "stream",
     "text": [
      "\n",
      "  0%|          | 0/19 [00:00<?, ?it/s]\u001b[A\n",
      "  5%|▌         | 1/19 [05:43<1:43:04, 343.58s/it]\u001b[A"
     ]
    },
    {
     "name": "stdout",
     "output_type": "stream",
     "text": [
      "[(0.047278782656974314, 50.504160114699836)]\n"
     ]
    },
    {
     "name": "stderr",
     "output_type": "stream",
     "text": [
      "\n",
      " 11%|█         | 2/19 [10:36<1:33:04, 328.52s/it]\u001b[A\n",
      " 16%|█▌        | 3/19 [14:42<1:20:57, 303.57s/it]\u001b[A\n",
      " 21%|██        | 4/19 [18:09<1:08:40, 274.70s/it]\u001b[A\n",
      " 26%|██▋       | 5/19 [21:00<56:49, 243.56s/it]  \u001b[A\n",
      " 32%|███▏      | 6/19 [23:15<45:44, 211.09s/it]\u001b[A\n",
      " 37%|███▋      | 7/19 [24:57<35:39, 178.31s/it]\u001b[A\n",
      " 42%|████▏     | 8/19 [26:12<27:00, 147.29s/it]\u001b[A\n",
      " 47%|████▋     | 9/19 [27:00<19:35, 117.60s/it]\u001b[A\n",
      " 53%|█████▎    | 10/19 [27:29<13:37, 90.88s/it]\u001b[A\n",
      " 58%|█████▊    | 11/19 [27:40<08:55, 66.98s/it]\u001b[A\n",
      " 63%|██████▎   | 12/19 [27:50<05:49, 49.88s/it]\u001b[A\n",
      " 68%|██████▊   | 13/19 [27:59<03:45, 37.55s/it]\u001b[A\n",
      " 74%|███████▎  | 14/19 [28:07<02:23, 28.62s/it]\u001b[A\n",
      " 79%|███████▉  | 15/19 [28:13<01:28, 22.00s/it]\u001b[A\n",
      " 84%|████████▍ | 16/19 [28:19<00:51, 17.06s/it]\u001b[A\n",
      " 89%|████████▉ | 17/19 [28:23<00:26, 13.26s/it]\u001b[A\n",
      " 95%|█████████▍| 18/19 [28:27<00:10, 10.30s/it]\u001b[A\n",
      "100%|██████████| 19/19 [28:29<00:00, 89.99s/it]\u001b[A\n"
     ]
    }
   ],
   "source": [
    "# now find MIs with KSG\n",
    "X,Y = utils.standard_loader(f\"{conf.path2data}/{exp_pref}_unconditional.pkl\")\n",
    "Ns = 109-np.array([0,10,20,30,40,50,60,70,80,90,100,101,102,103,104,105,106,107,108])\n",
    "I = []\n",
    "for n in tqdm.tqdm(Ns):\n",
    "    I.append(MI.BI_KSG(X.reshape((*X.shape,1)),Y[...,:n]))\n",
    "    if n==Ns[0]:\n",
    "        print(I)\n",
    "with open(f\"{home}/results/MI_subpop_KSG_U.pkl\",\"wb\") as f:\n",
    "    pkl.dump([Ns,I],f)"
   ]
  },
  {
   "cell_type": "code",
   "execution_count": null,
   "metadata": {},
   "outputs": [],
   "source": [
    " \n",
    "    \n",
    "    \n",
    "    \n",
    "    \n",
    "    \n",
    "    \n",
    "    \n",
    "    \n",
    "    \n",
    "    \n",
    "    \n",
    "    "
   ]
  },
  {
   "cell_type": "code",
   "execution_count": null,
   "metadata": {},
   "outputs": [],
   "source": [
    "# vine_trained = CVine(copula_layers,torch.ones(1),device=device)\n",
    "# with open(f\"{home}/results/vine_unconditional.pkl\",\"wb\") as f:\n",
    "#     pkl.dump(vine_trained,f)\n",
    "with open(f\"{home}/results/vine_unconditional.pkl\",\"rb\") as f:\n",
    "    vine_trained = pkl.load(f)\n",
    "# %time Hr = vine_trained.entropy(sem_tol=.1, mc_size=4000, v=True)"
   ]
  },
  {
   "cell_type": "code",
   "execution_count": null,
   "metadata": {},
   "outputs": [],
   "source": [
    "# Hrs = []\n",
    "# Hr = []\n",
    "# uncond_layers = vine_trained.layers\n",
    "# for n in tqdm.tqdm(range(NN-1)):\n",
    "#     vine = CVine(copula_layers[n:],train_x,device=device)\n",
    "#     entropy = vine.entropy(sem_tol=0.1, mc_size=4000, v=False)\n",
    "#     Hrs.append(-entropy.mean().item())\n",
    "#     vine = CVine(uncond_layers[n:],torch.ones(1),device='cpu')\n",
    "#     entropy = vine.entropy(sem_tol=0.1, mc_size=4000, v=False)\n",
    "#     Hr.append(-entropy.mean().item())\n",
    "#     print(Hrs[-1]-Hr[-1])\n",
    "\n",
    "# Calculate MI(Y_i,X) with KSG\n",
    "# X,Y = utils.standard_loader(f\"{conf.path2data}/{exp_pref}_unconditional.pkl\")\n",
    "# singleH = np.empty((Y.shape[-1],2))\n",
    "# for i in range(Y.shape[-1]):\n",
    "#     singleH[i,:] = MI.BI_KSG(X.reshape((*X.shape,1)),Y[...,i].reshape((*X.shape,1)))\n",
    "#     print(singleH[i,:])\n",
    "# with open(f\"{home}/results/singleH.pkl\",\"wb\") as f: #single variable BI_KSG:(MI,H(Y|X)) from uncond. data\n",
    "#     pkl.dump(singleH,f)\n",
    "\n",
    "# Calculate MI(Y_i,X) with MINE\n",
    "# singleH = np.empty((Y.shape[-1]))\n",
    "# for i in range(Y.shape[-1]):\n",
    "#     singleH[i] = MI.train_MINE(Y[...,i].reshape((*X.shape,1)),x=torch.tensor(X).float(),\n",
    "#                                H=100,lr=0.01,device=device).item()/np.log(2)\n",
    "#     print(singleH[i])\n",
    "# with open(f\"{home}/results/singleMI.pkl\",\"wb\") as f: #single variable MINE MI from unconditional data\n",
    "#     pkl.dump(singleH,f)"
   ]
  },
  {
   "cell_type": "code",
   "execution_count": null,
   "metadata": {},
   "outputs": [],
   "source": [
    "# mem = (Hrs, Hr)\n",
    "# with open(f\"{home}/results/Hrs_and_Hr_experimental.pkl\",\"wb\") as f:\n",
    "#     pkl.dump((Hrs,Hr),f)\n"
   ]
  },
  {
   "cell_type": "code",
   "execution_count": null,
   "metadata": {},
   "outputs": [],
   "source": [
    "with open(f\"{home}/results/singleH.pkl\",\"rb\") as f: #single variable BI_KSG:(MI,H(Y|X)) from standard data\n",
    "    singleH = pkl.load(f)\n",
    "with open(f\"{home}/results/Hrs_and_Hr_top.pkl\",\"rb\") as f: # top layers of C-Vine\n",
    "    (Hrs,Hr) = pkl.load(f)\n",
    "np.array(Hrs)[0]"
   ]
  },
  {
   "cell_type": "code",
   "execution_count": null,
   "metadata": {},
   "outputs": [],
   "source": [
    "singleH[:,0].shape"
   ]
  },
  {
   "cell_type": "code",
   "execution_count": null,
   "metadata": {},
   "outputs": [],
   "source": [
    "n=3\n",
    "layers = [[copula_layers[i][j] for j in range(n-i)] for i in range(n)]\n",
    "layers"
   ]
  },
  {
   "cell_type": "code",
   "execution_count": null,
   "metadata": {},
   "outputs": [],
   "source": [
    "HRS = []\n",
    "for n in tqdm.tqdm(range(20)):\n",
    "    layers = [[copula_layers[i][j] for j in range(n-i)] for i in range(n)]\n",
    "    vine = CVine(layers,train_x,device=device)\n",
    "    entropy = vine.entropy(sem_tol=0.1, mc_size=4000, v=False)\n",
    "    HRS.append(-entropy.mean().item())"
   ]
  },
  {
   "cell_type": "code",
   "execution_count": null,
   "metadata": {},
   "outputs": [],
   "source": [
    "\n",
    "# %time KSG = MI.Mixed_KSG(X,Y)\n",
    "# KSG"
   ]
  },
  {
   "cell_type": "code",
   "execution_count": null,
   "metadata": {},
   "outputs": [],
   "source": []
  },
  {
   "cell_type": "code",
   "execution_count": null,
   "metadata": {},
   "outputs": [],
   "source": [
    "np.sum(singleH[:,0])-29.4+18.04\n",
    "# np.sum(allH)#np.sum(singleH)\n",
    "# HRS"
   ]
  },
  {
   "cell_type": "code",
   "execution_count": null,
   "metadata": {},
   "outputs": [],
   "source": [
    "allH = []\n",
    "for n in range(1,20):\n",
    "    allH.append(MI.BI_KSG(X.reshape((*X.shape,1)),Y[...,:n])[1])"
   ]
  },
  {
   "cell_type": "code",
   "execution_count": null,
   "metadata": {},
   "outputs": [],
   "source": [
    "plt.plot([-a for a in allH])\n",
    "plt.plot(HRS)"
   ]
  },
  {
   "cell_type": "code",
   "execution_count": null,
   "metadata": {},
   "outputs": [],
   "source": [
    "Hrs = np.array(Hrs)\n",
    "Hr = np.array(Hr)\n",
    "# plt.plot(Hr/Hr[0])\n",
    "plt.plot(Hrs, label=\"H(Y|X)\")\n",
    "plt.plot(Hr, label=\"MI(X,Y)\")\n",
    "# plt.axhline(0.01,c='black',linestyle='dashed')\n",
    "plt.axvline(3.5,c='grey',linestyle='dashed')\n",
    "plt.axvline(17,c='grey',linestyle='dashed')\n",
    "plt.axvline(29,c='grey',linestyle='dashed')\n",
    "plt.axvline(71,c='grey',linestyle='dashed')\n",
    "plt.text(3.8,1.0,'3.5')\n",
    "plt.text(17.5,1.0,'17')\n",
    "plt.text(29.5,1.0,'29')\n",
    "plt.text(71.5,1.0,'71');\n",
    "plt.text(3.8,0.5,'50%')\n",
    "plt.text(17.5,0.25,'75%')\n",
    "plt.text(29.5,0.11,'90%')\n",
    "plt.text(71.5,0.02,'99%');\n",
    "plt.xlabel('Correlation orders')\n",
    "plt.legend()"
   ]
  },
  {
   "cell_type": "code",
   "execution_count": null,
   "metadata": {},
   "outputs": [],
   "source": [
    "Hrs = []\n",
    "Hr = []\n",
    "uncond_layers = vine_trained.layers\n",
    "vineC = CVine(copula_layers,train_x,device=device)\n",
    "vineU = CVine(uncond_layers,torch.ones(1),device='cpu')\n",
    "for n in tqdm.tqdm([0,10,20,30,40,50,60,70,80,90,100,101,102,103,104,105,106,107,108]):\n",
    "    entropy = vineC.truncate(n).entropy(sem_tol=0.1, mc_size=4000, v=False)\n",
    "    Hrs.append(entropy.mean().item())\n",
    "    entropy = vineU.truncate(n).entropy(sem_tol=0.1, mc_size=4000, v=False)\n",
    "    Hr.append(entropy.mean().item())\n",
    "    print(Hrs[-1]-Hr[-1])"
   ]
  },
  {
   "cell_type": "code",
   "execution_count": null,
   "metadata": {},
   "outputs": [],
   "source": [
    "Hrs = np.array(Hrs)\n",
    "Hr = np.array(Hr)\n",
    "plt.figure(figsize=(4,1.5))\n",
    "ns = 109-np.array([0,10,20,30,40,50,60,70,80,90,100,101,102,103,104,105,106,107,108])\n",
    "plt.plot(ns,100*Hr/Hr[0], label='| H(Y|X) |')\n",
    "# plt.plot(ns,Hrs/Hrs[0])\n",
    "plt.plot(ns,100*(Hrs-Hr)/(Hrs[0]-Hr[0]),label='I(X,Y)')\n",
    "plt.xlabel('Order of correlation')\n",
    "plt.ylabel('%')\n",
    "plt.legend()\n",
    "# plt.axhline(0.01,c='black',linestyle='dashed')"
   ]
  },
  {
   "cell_type": "code",
   "execution_count": null,
   "metadata": {},
   "outputs": [],
   "source": [
    "conditional_model = copula_layers[0][31]\n",
    "theta0 = conditional_model.theta.mean(axis=-1)\n",
    "mix0 = conditional_model.mix.mean(axis=-1)\n",
    "copula = bvcopula.MixtureCopula(theta0,mix0,conditional_model.copulas,rotations=conditional_model.rotations)\n",
    "copula.entropy()"
   ]
  },
  {
   "cell_type": "code",
   "execution_count": null,
   "metadata": {},
   "outputs": [],
   "source": [
    "X,Y = utils.standard_loader(f\"{conf.path2data}/{exp_pref}_unconditional.pkl\")\n",
    "samples = torch.tensor(Y[:,[0,32]]).float().to(theta0.device)"
   ]
  },
  {
   "cell_type": "code",
   "execution_count": null,
   "metadata": {},
   "outputs": [],
   "source": [
    "plt.figure(figsize=(3,3))\n",
    "plt.scatter(*Y[:,[0,2]].T,alpha=0.005)"
   ]
  },
  {
   "cell_type": "code",
   "execution_count": null,
   "metadata": {},
   "outputs": [],
   "source": [
    "f0 = fs_layers[0][31].mean(axis=-1).unsqueeze(-1)\n",
    "likelihood = likelihood_layers[0][31]\n",
    "likelihood(f0).mix, mix0"
   ]
  },
  {
   "cell_type": "code",
   "execution_count": null,
   "metadata": {},
   "outputs": [],
   "source": [
    "samples = torch.tensor(Y[:,[0,33]]).float().to(device)\n",
    "f0 = fs_layers[0][32].mean(axis=-1).unsqueeze(-1)\n",
    "likelihood = likelihood_layers[0][32].to(device)\n",
    "%time copula = likelihood.fit(samples,f0)\n",
    "# %time copula, plot_loss = train(samples)"
   ]
  },
  {
   "cell_type": "code",
   "execution_count": null,
   "metadata": {},
   "outputs": [],
   "source": [
    "plt.figure(figsize=(3,3))\n",
    "plt.scatter(*copula.sample(torch.Size([20000])).cpu().numpy().T,alpha=0.005)"
   ]
  },
  {
   "cell_type": "code",
   "execution_count": null,
   "metadata": {},
   "outputs": [],
   "source": [
    "samples = vine.sample(torch.Size([100]))"
   ]
  },
  {
   "cell_type": "code",
   "execution_count": null,
   "metadata": {},
   "outputs": [],
   "source": [
    "indep = bvcopula.MixtureCopula(torch.empty(1,0,device=device),\n",
    "                    torch.ones(1,N_points,device=device),\n",
    "                    [bvcopula.IndependenceCopula])\n",
    "truncated_layers = [[model for model in layer] for layer in copula_layers]\n",
    "Ncut = (NN-3)-1\n",
    "for i in range(1,Ncut+1):\n",
    "    for j in range(i):\n",
    "        truncated_layers[-i][j] = indep\n",
    "vine = CVine(truncated_layers,train_x,device=device)"
   ]
  },
  {
   "cell_type": "code",
   "execution_count": null,
   "metadata": {},
   "outputs": [],
   "source": [
    "entropy2 = vine.entropy(sem_tol=0.1, mc_size=4000, v=True)"
   ]
  },
  {
   "cell_type": "code",
   "execution_count": null,
   "metadata": {},
   "outputs": [],
   "source": [
    "entropy2.mean()/entropy.mean()"
   ]
  },
  {
   "cell_type": "code",
   "execution_count": null,
   "metadata": {},
   "outputs": [],
   "source": [
    "x = np.linspace(0,160,N_points)\n",
    "plt.plot(x,-entropy.cpu().numpy(), label=\"All variables\")\n",
    "plt.plot(x,-entropy2.cpu().numpy(), label=\"up to 3rd order\")\n",
    "plt.plot(x,-entropy3.cpu().numpy(), label=\"1st order\")\n",
    "plt.ylim(0,23)\n",
    "plt.legend();"
   ]
  },
  {
   "cell_type": "code",
   "execution_count": null,
   "metadata": {},
   "outputs": [],
   "source": [
    "np_repeats = np.array(repeats)\n",
    "H_layers = np_repeats.mean(axis=0)[::-1]\n",
    "plt.plot(H_layers)\n",
    "plt.plot(H_layers.cumsum()/2)\n",
    "plt.axvline(3,color='grey',linestyle='dashed')\n",
    "plt.axvline(13,color='grey',linestyle='dashed')\n",
    "plt.axvline(25,color='grey',linestyle='dashed')\n",
    "plt.text(3.2,5,'50%')\n",
    "plt.text(13.2,5,'75%')\n",
    "plt.text(25.2,5,'90%')\n",
    "plt.xlabel('Vine layers (orders of statistics)')\n",
    "plt.ylabel('Entropy')"
   ]
  },
  {
   "cell_type": "code",
   "execution_count": null,
   "metadata": {},
   "outputs": [],
   "source": [
    "H_layers[0].sum()/H_layers.sum()"
   ]
  },
  {
   "cell_type": "code",
   "execution_count": null,
   "metadata": {},
   "outputs": [],
   "source": [
    "plt.figure(figsize=(2,2))\n",
    "layer0 = layers[-1]\n",
    "plt.scatter(layer0[0],layer0[3],alpha=0.01)"
   ]
  },
  {
   "cell_type": "code",
   "execution_count": null,
   "metadata": {},
   "outputs": [],
   "source": [
    "plt.figure(figsize=(2,2))\n",
    "plt.scatter(samples[...,0].cpu().numpy(),new_samples[...,-1].cpu().numpy(),alpha=0.01)"
   ]
  },
  {
   "cell_type": "code",
   "execution_count": null,
   "metadata": {},
   "outputs": [],
   "source": [
    "def generate_samples(samples,NN):\n",
    "    layers = []\n",
    "    for layer in torch.arange(NN-1,0):\n",
    "        # load models for a layer\n",
    "        with open(f\"{path_models}/models_layer{layer}.pkl\",\"rb\") as f:\n",
    "            results = pkl.load(f)\n",
    "        # assign memory for a new layer samples\n",
    "        new_layer_shape = torch.Size([N_points])+sample_size+torch.Size([NN-1-layer])\n",
    "        new_samples = torch.empty(size=new_layer_shape, device=device)\n",
    "        # transfrom samples\n",
    "        transform(X,layers[-1],new_samples,layer,results)\n",
    "        # store the result\n",
    "        layers.append(new_samples.clone())\n",
    "    return layers\n",
    "%time samples = generate_samples(samples,NN)"
   ]
  },
  {
   "cell_type": "code",
   "execution_count": null,
   "metadata": {},
   "outputs": [],
   "source": [
    "len(samples)"
   ]
  },
  {
   "cell_type": "code",
   "execution_count": null,
   "metadata": {},
   "outputs": [],
   "source": []
  }
 ],
 "metadata": {
  "kernelspec": {
   "display_name": "GPyTorch_new",
   "language": "python",
   "name": "gpytorch_new"
  },
  "language_info": {
   "codemirror_mode": {
    "name": "ipython",
    "version": 3
   },
   "file_extension": ".py",
   "mimetype": "text/x-python",
   "name": "python",
   "nbconvert_exporter": "python",
   "pygments_lexer": "ipython3",
   "version": "3.6.9"
  }
 },
 "nbformat": 4,
 "nbformat_minor": 2
}
