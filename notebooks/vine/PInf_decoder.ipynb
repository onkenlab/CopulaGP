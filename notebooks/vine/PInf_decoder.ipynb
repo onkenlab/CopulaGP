{
 "cells": [
  {
   "cell_type": "code",
   "execution_count": 150,
   "metadata": {},
   "outputs": [],
   "source": [
    "import sys\n",
    "home = '/home/nina/CopulaGP/'\n",
    "sys.path.insert(0, home)\n",
    "\n",
    "import pickle as pkl\n",
    "import torch\n",
    "import numpy as np\n",
    "\n",
    "import matplotlib\n",
    "matplotlib.rcParams['figure.figsize'] = (20, 10)\n",
    "matplotlib.rcParams['font.size'] = 18\n",
    "import matplotlib.pyplot as plt"
   ]
  },
  {
   "cell_type": "code",
   "execution_count": 144,
   "metadata": {},
   "outputs": [],
   "source": [
    "As = [0,30,60,90,120,150]\n",
    "C=12.5\n",
    "vines = {}\n",
    "for A in As:\n",
    "    with open(f'/home/nina/CopulaGP/out/Thy171_aligned_C{C}_A{A}_vine.pkl',\"rb\") as f:\n",
    "        vines[A] = pkl.load(f)"
   ]
  },
  {
   "cell_type": "code",
   "execution_count": 127,
   "metadata": {},
   "outputs": [],
   "source": [
    "orders = {}\n",
    "for A in [0,30,60,90,120,150]:\n",
    "    with open(f'/home/nina/CopulaGP/out/Thy171_aligned_C{C}_A{A}_trained.pkl',\"rb\") as f:\n",
    "        trained = pkl.load(f)\n",
    "    orders[A] = trained['order']"
   ]
  },
  {
   "cell_type": "code",
   "execution_count": 128,
   "metadata": {},
   "outputs": [],
   "source": [
    "collection = {k[0]:[] for k in Data['recs'][0]}"
   ]
  },
  {
   "cell_type": "code",
   "execution_count": 156,
   "metadata": {},
   "outputs": [],
   "source": [
    "device='cuda:0' # can be cuda, but no need for this here\n",
    "\n",
    "C=12.5\n",
    "A=30\n",
    "with open(f'/home/nina/CopulaGP/datasets/Thy171_aligned_C{C}_A{A}_layer0.pkl',\"rb\") as f:\n",
    "    data = pkl.load(f)\n",
    "\n",
    "X = data['X'][:131] # contains repetitions of the same 131 values\n",
    "assert (X[0]==0.) & (X[-1]==1.) # easy sanity check, that ends are [0,1]\n",
    "inputs = torch.tensor(X, device=device).float()\n",
    "\n",
    "min, max = data['Y_preord'].min(axis=0), data['Y_preord'].max(axis=0)\n",
    "Y = np.clip((data['Y_preord'] - min)/(max-min)*0.998+0.001,0.001,0.999)\n"
   ]
  },
  {
   "cell_type": "code",
   "execution_count": 157,
   "metadata": {},
   "outputs": [
    {
     "data": {
      "text/plain": [
       "True"
      ]
     },
     "execution_count": 157,
     "metadata": {},
     "output_type": "execute_result"
    }
   ],
   "source": [
    "Train = np.arange(180)[orders[0]]\n",
    "Test  = np.arange(180)[orders[30]]\n",
    "re_order = np.argsort(orders[30])[orders[0]]\n",
    "np.all(Test[re_order]==Train)"
   ]
  },
  {
   "cell_type": "code",
   "execution_count": 158,
   "metadata": {},
   "outputs": [],
   "source": [
    "lls = np.zeros([6,*Y.reshape(-1,131,180).shape[:2]])\n",
    "for i,trained_on in enumerate(As):\n",
    "    re_order = orders[trained_on]\n",
    "    test_Y = torch.tensor(Y[...,re_order].reshape(-1,131,180), device=device).float()\n",
    "    lls[i] = vines[trained_on].log_prob(test_Y).cpu().numpy()"
   ]
  },
  {
   "cell_type": "code",
   "execution_count": 159,
   "metadata": {},
   "outputs": [],
   "source": [
    "lik = np.exp(lls)\n",
    "posterior = lik/lik.sum(0)"
   ]
  },
  {
   "cell_type": "code",
   "execution_count": 160,
   "metadata": {},
   "outputs": [],
   "source": [
    "import scipy.io\n",
    "Data = {}\n",
    "f = scipy.io.loadmat(f'/media/data0/nkudryas/new_data/20200723_Thy171_alldata_selected.mat')\n",
    "for k,v in f.items():\n",
    "    Data[k] = v\n",
    "Data.keys()\n",
    "\n",
    "contrast = C/1 if C==50 else C/100\n",
    "trial_mask = (Data['contrast']==contrast) & (Data['orient']==A)\n",
    "# Data['recs']\n"
   ]
  },
  {
   "cell_type": "code",
   "execution_count": 161,
   "metadata": {},
   "outputs": [
    {
     "ename": "IndexError",
     "evalue": "index 6 is out of bounds for axis 1 with size 6",
     "output_type": "error",
     "traceback": [
      "\u001b[0;31m---------------------------------------------------------------------------\u001b[0m",
      "\u001b[0;31mIndexError\u001b[0m                                Traceback (most recent call last)",
      "\u001b[0;32m<ipython-input-161-5e1cf072bd1f>\u001b[0m in \u001b[0;36m<module>\u001b[0;34m\u001b[0m\n\u001b[1;32m      1\u001b[0m \u001b[0mthis_orient\u001b[0m \u001b[0;34m=\u001b[0m \u001b[0;34m[\u001b[0m\u001b[0mData\u001b[0m\u001b[0;34m[\u001b[0m\u001b[0;34m'recs'\u001b[0m\u001b[0;34m]\u001b[0m\u001b[0;34m[\u001b[0m\u001b[0;36m0\u001b[0m\u001b[0;34m]\u001b[0m\u001b[0;34m[\u001b[0m\u001b[0mi\u001b[0m\u001b[0;34m]\u001b[0m \u001b[0;32mfor\u001b[0m \u001b[0mi\u001b[0m \u001b[0;32min\u001b[0m \u001b[0mnp\u001b[0m\u001b[0;34m.\u001b[0m\u001b[0mwhere\u001b[0m\u001b[0;34m(\u001b[0m\u001b[0mtrial_mask\u001b[0m\u001b[0;34m)\u001b[0m\u001b[0;34m[\u001b[0m\u001b[0;36m1\u001b[0m\u001b[0;34m]\u001b[0m\u001b[0;34m]\u001b[0m\u001b[0;34m\u001b[0m\u001b[0;34m\u001b[0m\u001b[0m\n\u001b[1;32m      2\u001b[0m \u001b[0;32mfor\u001b[0m \u001b[0mi\u001b[0m \u001b[0;32min\u001b[0m \u001b[0mrange\u001b[0m\u001b[0;34m(\u001b[0m\u001b[0mnp\u001b[0m\u001b[0;34m.\u001b[0m\u001b[0msum\u001b[0m\u001b[0;34m(\u001b[0m\u001b[0mtrial_mask\u001b[0m\u001b[0;34m)\u001b[0m\u001b[0;34m)\u001b[0m\u001b[0;34m:\u001b[0m\u001b[0;34m\u001b[0m\u001b[0;34m\u001b[0m\u001b[0m\n\u001b[0;32m----> 3\u001b[0;31m     \u001b[0mcollection\u001b[0m\u001b[0;34m[\u001b[0m\u001b[0mthis_orient\u001b[0m\u001b[0;34m[\u001b[0m\u001b[0mi\u001b[0m\u001b[0;34m]\u001b[0m\u001b[0;34m[\u001b[0m\u001b[0;36m0\u001b[0m\u001b[0;34m]\u001b[0m\u001b[0;34m]\u001b[0m\u001b[0;34m.\u001b[0m\u001b[0mappend\u001b[0m\u001b[0;34m(\u001b[0m\u001b[0mposterior\u001b[0m\u001b[0;34m[\u001b[0m\u001b[0mint\u001b[0m\u001b[0;34m(\u001b[0m\u001b[0mA\u001b[0m\u001b[0;34m/\u001b[0m\u001b[0;36m30\u001b[0m\u001b[0;34m)\u001b[0m\u001b[0;34m,\u001b[0m\u001b[0mi\u001b[0m\u001b[0;34m,\u001b[0m\u001b[0;34m:\u001b[0m\u001b[0;34m]\u001b[0m\u001b[0;34m)\u001b[0m\u001b[0;34m\u001b[0m\u001b[0;34m\u001b[0m\u001b[0m\n\u001b[0m",
      "\u001b[0;31mIndexError\u001b[0m: index 6 is out of bounds for axis 1 with size 6"
     ]
    }
   ],
   "source": [
    "this_orient = [Data['recs'][0][i] for i in np.where(trial_mask)[1]]\n",
    "for i in range(np.sum(trial_mask)):\n",
    "    collection[this_orient[i][0]].append(posterior[int(A/30),i,:])"
   ]
  },
  {
   "cell_type": "code",
   "execution_count": 167,
   "metadata": {},
   "outputs": [
    {
     "data": {
      "text/plain": [
       "Text(0.5, 0, 'time, s')"
      ]
     },
     "execution_count": 167,
     "metadata": {},
     "output_type": "execute_result"
    },
    {
     "data": {
      "image/png": "[encoded data removed]",
      "text/plain": [
       "<Figure size 1440x720 with 1 Axes>"
      ]
     },
     "metadata": {
      "needs_background": "light"
     },
     "output_type": "display_data"
    }
   ],
   "source": [
    "plt.imshow(np.roll(posterior[:,5,:],2-A,axis=0),aspect=5,interpolation='none',vmin=0,vmax=1)\n",
    "plt.axvline(33,c='yellow',linestyle='dashed')\n",
    "plt.axvline(98,c='yellow',linestyle='dashed')\n",
    "plt.yticks([0,1,2,3,4,5],np.roll([0,30,60,90,120,150],2-A));\n",
    "plt.title(f'Posterior probability for {C}% contrast trial 5')\n",
    "plt.xticks([0,33,66,98,130],[0,1,2,3,4]);\n",
    "plt.xlabel('time, s')"
   ]
  },
  {
   "cell_type": "code",
   "execution_count": 61,
   "metadata": {},
   "outputs": [
    {
     "data": {
      "text/plain": [
       "<matplotlib.lines.Line2D at 0x7f9e04be6710>"
      ]
     },
     "execution_count": 61,
     "metadata": {},
     "output_type": "execute_result"
    },
    {
     "data": {
      "image/png": "[encoded data removed]",
      "text/plain": [
       "<Figure size 432x288 with 1 Axes>"
      ]
     },
     "metadata": {
      "needs_background": "light"
     },
     "output_type": "display_data"
    }
   ],
   "source": [
    "plt.imshow(np.roll(np.array(collection['A_29_1']),5,axis=-1),aspect=7,interpolation='none',vmin=0,vmax=1)\n",
    "plt.axvline(33,c='yellow',linestyle='dashed')\n",
    "plt.axvline(98,c='yellow',linestyle='dashed')"
   ]
  },
  {
   "cell_type": "code",
   "execution_count": null,
   "metadata": {},
   "outputs": [],
   "source": []
  }
 ],
 "metadata": {
  "kernelspec": {
   "display_name": "GPyTorch_new",
   "language": "python",
   "name": "gpytorch_new"
  },
  "language_info": {
   "codemirror_mode": {
    "name": "ipython",
    "version": 3
   },
   "file_extension": ".py",
   "mimetype": "text/x-python",
   "name": "python",
   "nbconvert_exporter": "python",
   "pygments_lexer": "ipython3",
   "version": "3.6.9"
  }
 },
 "nbformat": 4,
 "nbformat_minor": 2
}
