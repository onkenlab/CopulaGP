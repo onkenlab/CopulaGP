{
 "cells": [
  {
   "cell_type": "code",
   "execution_count": 28,
   "metadata": {},
   "outputs": [],
   "source": [
    "import pickle as pkl\n",
    "import numpy as np\n",
    "import matplotlib.pyplot as plt\n",
    "import torch\n",
    "\n",
    "path = '/home/nina/CopulaGP/results'\n",
    "\n",
    "with open(f\"{path}/figure3c.pkl\",\"rb\") as f:\n",
    "    data = pkl.load(f)\n",
    "assert np.all(data['X']==data['Xs'])"
   ]
  },
  {
   "cell_type": "code",
   "execution_count": 29,
   "metadata": {},
   "outputs": [
    {
     "data": {
      "text/plain": [
       "dict_keys(['n1', 'n2', 'X', 'Y', 'Xs', 'Ys', 'x', 'p', 'MI'])"
      ]
     },
     "execution_count": 29,
     "metadata": {},
     "output_type": "execute_result"
    }
   ],
   "source": [
    "data.keys()"
   ]
  },
  {
   "cell_type": "code",
   "execution_count": 39,
   "metadata": {},
   "outputs": [
    {
     "name": "stdout",
     "output_type": "stream",
     "text": [
      "(5928, 2) (900, 2)\n",
      "[0.01       0.01128838 0.01274275 0.0143845  0.01623777 0.01832981\n",
      " 0.02069138 0.02335721 0.02636651 0.02976351 0.03359818 0.0379269\n",
      " 0.04281332 0.0483293  0.05455595 0.06158482 0.06951928 0.078476\n",
      " 0.08858668 0.1       ]\n",
      "CPU times: user 21.3 s, sys: 12.1 ms, total: 21.3 s\n",
      "Wall time: 21.3 s\n"
     ]
    },
    {
     "data": {
      "text/plain": [
       "{'bandwidth': 0.029763514416313176}"
      ]
     },
     "execution_count": 39,
     "metadata": {},
     "output_type": "execute_result"
    },
    {
     "data": {
      "image/png": "[encoded data removed]",
      "text/plain": [
       "<Figure size 432x288 with 1 Axes>"
      ]
     },
     "metadata": {
      "needs_background": "light"
     },
     "output_type": "display_data"
    }
   ],
   "source": [
    "from scipy.stats import norm\n",
    "from sklearn.neighbors import KernelDensity\n",
    "from sklearn.model_selection import GridSearchCV, LeaveOneOut, KFold\n",
    "\n",
    "# this mask selects a zone in the VR corridor\n",
    "mask = (data['X']>120/160) & (data['X']<=140/160)\n",
    "# x = norm.ppf(data['Y'].squeeze()[mask])\n",
    "x = data['Y'].squeeze()[mask]\n",
    "# print(x.shape)\n",
    "\n",
    "kde = KernelDensity(bandwidth=.025, kernel='gaussian')\n",
    "kde.fit(x)\n",
    "\n",
    "N = 30\n",
    "x_d = np.mgrid[0:N,0:N]/(N-1)\n",
    "x_d = (x_d.reshape(2,-1)).T\n",
    "print(x.shape,x_d.shape)\n",
    "\n",
    "# score_samples returns the log of the probability density\n",
    "logprob = kde.score_samples(x_d)\n",
    "plt.imshow(logprob.reshape(N,N))\n",
    "\n",
    "bandwidths = 10 ** np.linspace(-2, -1, 20)\n",
    "print(bandwidths)\n",
    "grid = GridSearchCV(KernelDensity(kernel='gaussian'),\n",
    "                    {'bandwidth': bandwidths},\n",
    "                    cv=KFold(n_splits=5))\n",
    "%time grid.fit(x);\n",
    "grid.best_params_"
   ]
  },
  {
   "cell_type": "code",
   "execution_count": 40,
   "metadata": {},
   "outputs": [
    {
     "data": {
      "text/plain": [
       "tensor(1.0146, dtype=torch.float64)"
      ]
     },
     "execution_count": 40,
     "metadata": {},
     "output_type": "execute_result"
    }
   ],
   "source": [
    "# from https://github.com/napsternxg/pytorch-practice/blob/master/Pytorch%20-%20MMD%20VAE.ipynb\n",
    "l = grid.best_params_['bandwidth']\n",
    "def compute_kernel(x, y):\n",
    "    alpha = 1/2/(l)**2\n",
    "    x_size = x.size(0)\n",
    "    y_size = y.size(0)\n",
    "    dim = x.size(1)\n",
    "    x = x.unsqueeze(1) # (x_size, 1, dim)\n",
    "    y = y.unsqueeze(0) # (1, y_size, dim)\n",
    "    tiled_x = x.expand(x_size, y_size, dim)\n",
    "    tiled_y = y.expand(x_size, y_size, dim)\n",
    "    kernel_input = (tiled_x - tiled_y).pow(2).mean(2) # i think there is no need to divide by dim here\n",
    "    return torch.exp(-alpha*kernel_input) # (x_size, y_size)\n",
    "\n",
    "def compute_mmd(x, y):\n",
    "    x_kernel = compute_kernel(x, x)\n",
    "    y_kernel = compute_kernel(y, y)\n",
    "    xy_kernel = compute_kernel(x, y)\n",
    "    mmd = x_kernel.mean() + y_kernel.mean() - 2*xy_kernel.mean()\n",
    "    return mmd\n",
    "\n",
    "def compute_witness(x,y,grid):\n",
    "    x_kernel = compute_kernel(x, grid)\n",
    "    y_kernel = compute_kernel(y, grid)\n",
    "    witness = x_kernel.mean(axis=0) - y_kernel.mean(axis=0)\n",
    "    return witness\n",
    "\n",
    "\n",
    "compute_mmd(torch.tensor(data['Y'][mask]),torch.tensor(data['Ys'].squeeze()[mask]))*1e3"
   ]
  },
  {
   "cell_type": "code",
   "execution_count": 41,
   "metadata": {},
   "outputs": [],
   "source": [
    "# if we want to shuffle real vs. synthetic for precisely the same position in VR\n",
    "y1 = torch.tensor(norm.ppf(data['Y'][mask]))\n",
    "y2 = torch.tensor(norm.ppf(data['Ys'].squeeze()[mask]))\n",
    "size = y1.shape[0]\n",
    "choice = np.random.random(size)>0.5\n",
    "y1_ = np.concatenate([y1[np.where(choice==True)],y2[np.where(choice==False)]])\n",
    "y2_ = np.concatenate([y1[np.where(choice==False)],y2[np.where(choice==True)]])"
   ]
  },
  {
   "cell_type": "code",
   "execution_count": 42,
   "metadata": {},
   "outputs": [
    {
     "name": "stdout",
     "output_type": "stream",
     "text": [
      "0\n",
      "1\n",
      "2\n",
      "3\n",
      "4\n",
      "5\n",
      "6\n",
      "7\n",
      "8\n",
      "9\n",
      "CPU times: user 32min 56s, sys: 15min 1s, total: 47min 58s\n",
      "Wall time: 1min 42s\n"
     ]
    }
   ],
   "source": [
    "y = np.concatenate([y1,y2])\n",
    "perm = 100 # 1000 should take 10 min\n",
    "def mmds(y,size,p=perm):\n",
    "    mmds = []\n",
    "    for i in range(p):\n",
    "        if i%(perm//10)==0:\n",
    "            print(i//(perm//10))\n",
    "#         # we can shuffle all samples within the zone\n",
    "#         np.random.shuffle(y)\n",
    "#         mmd = compute_mmd(torch.tensor(y[:size]),torch.tensor(y[size:]))\n",
    "        # or, alternatively, only swap real vs. synthetic data\n",
    "        choice = np.random.random(size)>0.5\n",
    "        y1_ = np.concatenate([y1[np.where(choice==True)],y2[np.where(choice==False)]])\n",
    "        y2_ = np.concatenate([y1[np.where(choice==False)],y2[np.where(choice==True)]])\n",
    "        mmd = compute_mmd(torch.tensor(y1_),torch.tensor(y2_))\n",
    "        mmds.append(mmd)\n",
    "    return mmds\n",
    "%time mmds = mmds(y,size)\n",
    "true_mmd = compute_mmd(y1,y2)"
   ]
  },
  {
   "cell_type": "code",
   "execution_count": 43,
   "metadata": {},
   "outputs": [
    {
     "data": {
      "text/plain": [
       "<matplotlib.legend.Legend at 0x7f49dfe9ca90>"
      ]
     },
     "execution_count": 43,
     "metadata": {},
     "output_type": "execute_result"
    },
    {
     "data": {
      "image/png": "[encoded data removed]",
      "text/plain": [
       "<Figure size 432x288 with 1 Axes>"
      ]
     },
     "metadata": {
      "needs_background": "light"
     },
     "output_type": "display_data"
    }
   ],
   "source": [
    "plt.hist(mmds)\n",
    "plt.axvline(true_mmd,color='k',label = f'p={((np.array(mmds)>=true_mmd.numpy()).sum())/perm}')\n",
    "plt.legend()"
   ]
  },
  {
   "cell_type": "code",
   "execution_count": 44,
   "metadata": {},
   "outputs": [
    {
     "data": {
      "text/plain": [
       "<matplotlib.collections.PathCollection at 0x7f49df0d0be0>"
      ]
     },
     "execution_count": 44,
     "metadata": {},
     "output_type": "execute_result"
    },
    {
     "data": {
      "image/png": "[encoded data removed]",
      "text/plain": [
       "<Figure size 216x216 with 1 Axes>"
      ]
     },
     "metadata": {
      "needs_background": "light"
     },
     "output_type": "display_data"
    }
   ],
   "source": [
    "plt.figure(figsize=(3,3))\n",
    "# plt.scatter(*data['Ys'].squeeze()[mask].T,alpha=0.01)\n",
    "plt.scatter(*y1.T,alpha=0.02)\n",
    "plt.scatter(*y2.T,alpha=0.02)\n",
    "# x_d"
   ]
  },
  {
   "cell_type": "code",
   "execution_count": 45,
   "metadata": {},
   "outputs": [
    {
     "name": "stdout",
     "output_type": "stream",
     "text": [
      "tensor(0.0015, dtype=torch.float64) tensor(-0.0013, dtype=torch.float64)\n"
     ]
    },
    {
     "data": {
      "image/png": "[encoded data removed]",
      "text/plain": [
       "<Figure size 432x288 with 1 Axes>"
      ]
     },
     "metadata": {
      "needs_background": "light"
     },
     "output_type": "display_data"
    }
   ],
   "source": [
    "N = 50\n",
    "x_d = (2*(np.mgrid[0:N,0:N])/(N-1)-1)*5\n",
    "x_d = (x_d.reshape(2,-1)).T\n",
    "witness = compute_witness(y1,y2,torch.tensor(x_d)).reshape(N,N)\n",
    "plt.imshow(np.flip(witness.numpy().T,axis=0))\n",
    "print(witness.max(),witness.min())"
   ]
  },
  {
   "cell_type": "code",
   "execution_count": 46,
   "metadata": {},
   "outputs": [],
   "source": [
    "# Maybe we can apply MMD to norm plots instead of copulas? I think the value will improve a lot. \n",
    "# Now if the tail is slightly not in the corner (due to inaccuracy of empirical CDF transform), then the score is poor.\n",
    "# Which does not really mean that copula fit is bad."
   ]
  },
  {
   "cell_type": "code",
   "execution_count": null,
   "metadata": {},
   "outputs": [],
   "source": []
  }
 ],
 "metadata": {
  "kernelspec": {
   "display_name": "SVG",
   "language": "python",
   "name": "svg"
  },
  "language_info": {
   "codemirror_mode": {
    "name": "ipython",
    "version": 3
   },
   "file_extension": ".py",
   "mimetype": "text/x-python",
   "name": "python",
   "nbconvert_exporter": "python",
   "pygments_lexer": "ipython3",
   "version": "3.6.8"
  }
 },
 "nbformat": 4,
 "nbformat_minor": 2
}
