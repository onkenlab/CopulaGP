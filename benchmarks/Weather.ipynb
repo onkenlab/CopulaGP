{
 "cells": [
  {
   "cell_type": "code",
   "execution_count": 215,
   "metadata": {},
   "outputs": [],
   "source": [
    "import numpy as np\n",
    "import torch\n",
    "import matplotlib.pyplot as plt\n",
    "import pickle as pkl"
   ]
  },
  {
   "cell_type": "code",
   "execution_count": 669,
   "metadata": {},
   "outputs": [],
   "source": [
    "with open(\"weather.txt\",\"r\") as f:\n",
    "    all_lines = f.read()\n",
    "    \n",
    "lines = all_lines.split('\\n')\n",
    "numbers = np.array([[float(n) for n in l.split(' ')] for l in lines[:-1]])\n",
    "NR = numbers.shape[0]\n",
    "seed=42\n",
    "np.random.seed(seed)\n",
    "np.random.shuffle(numbers)\n",
    "Numbers = np.zeros_like(numbers)\n",
    "for i, y in enumerate(numbers.T):\n",
    "    Numbers[:,i] = (np.argsort(y.flatten()).argsort()/y.size).reshape(y.shape)"
   ]
  },
  {
   "cell_type": "code",
   "execution_count": 675,
   "metadata": {},
   "outputs": [],
   "source": [
    "c = 0\n",
    "# conditional\n",
    "# numbers[:,c] = (np.argsort(numbers[:,c].flatten()).argsort()/numbers[:,c].size).reshape(numbers[:,c].shape) \n",
    "# train = umbers[:NR//2]\n",
    "# test = numbers[NR//2:]\n",
    "#unconditional\n",
    "train = Numbers[:NR//2]\n",
    "test = Numbers[NR//2:]"
   ]
  },
  {
   "cell_type": "code",
   "execution_count": 664,
   "metadata": {},
   "outputs": [
    {
     "name": "stdout",
     "output_type": "stream",
     "text": [
      "(14500, 10) (4833, 10)\n",
      "(14500, 10) (4833, 10)\n"
     ]
    }
   ],
   "source": [
    "with open(\"shuttle.trn\",\"r\") as f:\n",
    "    all_lines = f.read()\n",
    "    \n",
    "lines = all_lines.split('\\n')\n",
    "train = np.array([[float(n) for n in l.split(' ')] for l in lines[:-1]])\n",
    "\n",
    "with open(\"shuttle.tst\",\"r\") as f:\n",
    "    all_lines = f.read()\n",
    "    \n",
    "lines = all_lines.split('\\n')\n",
    "test = np.array([[float(n) for n in l.split(' ')] for l in lines[:-1]])\n",
    "\n",
    "seed = 1\n",
    "train = train[seed::3]\n",
    "test = test[seed::3]\n",
    "size = train.shape[0]\n",
    "\n",
    "print(train.shape, test.shape)\n",
    "\n",
    "numbers = np.concatenate([train,test])\n",
    "numbers[:,c] = (np.argsort(numbers[:,c].flatten()).argsort()/numbers[:,c].size).reshape(numbers[:,c].shape)\n",
    "train = numbers[:size]\n",
    "test = numbers[size:]\n",
    "print(train.shape, test.shape)"
   ]
  },
  {
   "cell_type": "code",
   "execution_count": 676,
   "metadata": {},
   "outputs": [
    {
     "data": {
      "text/plain": [
       "array([1, 8, 4, 0, 2, 3, 5, 7, 6])"
      ]
     },
     "execution_count": 676,
     "metadata": {},
     "output_type": "execute_result"
    }
   ],
   "source": [
    "import sys\n",
    "sys.path.insert(0, '/home/nina/CopulaGP/')\n",
    "from marginal import heuristic_element_order\n",
    "order = heuristic_element_order(numbers) # different for test, but we follow the vine.R by Hernandez-Lobato\n",
    "order"
   ]
  },
  {
   "cell_type": "code",
   "execution_count": 677,
   "metadata": {},
   "outputs": [],
   "source": [
    "import marginal as mg\n",
    "X = train[:,c]\n",
    "Xt = test[:,c]\n",
    "Y_raw = train[:,order[order!=c]]\n",
    "Yt_raw = test[:,order[order!=c]]\n",
    "# conditional\n",
    "# Y = np.zeros_like(Y_raw)\n",
    "# Yt = np.zeros_like(Yt_raw)\n",
    "# for i, (y,yt) in enumerate(zip(Y_raw.T,Yt_raw.T)):\n",
    "#     Y[:,i] = mg.fast_signal2uniform(y,X)\n",
    "#     Yt[:,i] = mg.fast_signal2uniform(y,X,Y_=yt,X_=Xt)\n",
    "#     print(i)\n",
    "# unconditional\n",
    "Y = Y_raw\n",
    "Yt = Yt_raw"
   ]
  },
  {
   "cell_type": "code",
   "execution_count": 678,
   "metadata": {},
   "outputs": [
    {
     "data": {
      "text/plain": [
       "(474,)"
      ]
     },
     "execution_count": 678,
     "metadata": {},
     "output_type": "execute_result"
    },
    {
     "data": {
      "image/png": "[encoded data removed]",
      "text/plain": [
       "<Figure size 216x216 with 1 Axes>"
      ]
     },
     "metadata": {
      "needs_background": "light"
     },
     "output_type": "display_data"
    }
   ],
   "source": [
    "import matplotlib.cm as cm\n",
    "\n",
    "plt.figure(figsize=(3,3))\n",
    "skip = 1\n",
    "plt.scatter(*Yt[::skip,[0,4]].T,color=cm.rainbow(Xt[::skip]))\n",
    "X.shape"
   ]
  },
  {
   "cell_type": "code",
   "execution_count": 679,
   "metadata": {},
   "outputs": [],
   "source": [
    "def normalize_Y(Y_all,min,max):\n",
    "    return (Y_all - min)/(max-min)*0.998+0.001\n",
    "d = {}\n",
    "d['X'] = X\n",
    "d['Xt'] = Xt\n",
    "min = np.concatenate([Y,Yt]).min(0)\n",
    "max = np.concatenate([Y,Yt]).max(0)\n",
    "d['Y'] = normalize_Y(Y,min,max)\n",
    "d['Yt'] = normalize_Y(Yt,min,max)\n",
    "d['X_label'] = 'latitude'\n",
    "d['Y_labels'] = ['time','licks','neuropil'] \n",
    "d['comment'] = 'All variables were sorted together (emp. kendalls tau), \\\n",
    "                    thenlatitude moved to the first position'\n",
    "\n",
    "# with open(f\"/home/nina/CopulaGP/benchmarks/weather{seed}.pkl\",'wb') as f:\n",
    "#     pkl.dump(d,f)\n",
    "with open(f\"/home/nina/CopulaGP/benchmarks/weather_U{seed}.pkl\",'wb') as f:\n",
    "    pkl.dump(d,f)"
   ]
  },
  {
   "cell_type": "code",
   "execution_count": 680,
   "metadata": {},
   "outputs": [
    {
     "data": {
      "text/plain": [
       "(474,)"
      ]
     },
     "execution_count": 680,
     "metadata": {},
     "output_type": "execute_result"
    }
   ],
   "source": [
    "# plt.figure(figsize=(3,3))\n",
    "# plt.scatter(*d['Y'][:,[1,4]].T)\n",
    "# d['Y'].shape\n",
    "d['X'].shape"
   ]
  },
  {
   "cell_type": "code",
   "execution_count": 457,
   "metadata": {},
   "outputs": [],
   "source": [
    "# import select_copula\n",
    "# device='cuda:0'\n",
    "# train_x = torch.tensor(X).float().to(device)\n",
    "# train_y = torch.tensor(Y[:,[0,1]]).clamp(0.001,0.999).float().to(device)\n",
    "# out = '/home/nina/CopulaGP/synthetic_data/outputs'\n",
    "# (likelihoods, waic) = select_copula.select_with_heuristics(X,Y[:,[0,1]],device,'weather',out,0,1,\n",
    "#                                     train_x=train_x, train_y=train_y) #[torch.randperm(NSamp)]"
   ]
  },
  {
   "cell_type": "code",
   "execution_count": 653,
   "metadata": {},
   "outputs": [
    {
     "data": {
      "text/plain": [
       "'/home/nina/outputs/shuttle'"
      ]
     },
     "execution_count": 653,
     "metadata": {},
     "output_type": "execute_result"
    }
   ],
   "source": [
    "from train import conf\n",
    "import glob\n",
    "import tqdm\n",
    "import utils\n",
    "import bvcopula\n",
    "from vine import CVine\n",
    "\n",
    "exp_pref = 'shuttle'\n",
    "path_models = f\"{conf.path2outputs}/{exp_pref}\"\n",
    "path_models"
   ]
  },
  {
   "cell_type": "code",
   "execution_count": 597,
   "metadata": {},
   "outputs": [
    {
     "data": {
      "text/plain": [
       "<matplotlib.image.AxesImage at 0x7f196ff38be0>"
      ]
     },
     "execution_count": 597,
     "metadata": {},
     "output_type": "execute_result"
    },
    {
     "data": {
      "image/png": "[encoded data removed]",
      "text/plain": [
       "<Figure size 432x288 with 1 Axes>"
      ]
     },
     "metadata": {
      "needs_background": "light"
     },
     "output_type": "display_data"
    }
   ],
   "source": [
    "list_files = glob.glob(f\"{path_models}/models_*.pkl\")\n",
    "with open(f\"{path_models}/models_layer0.pkl\",\"rb\") as f:\n",
    "    results = pkl.load(f)\n",
    "NN = len(results)+1\n",
    "WAICs = np.zeros((NN,NN))\n",
    "WAICs[0,1:] = [a[3] for a in results]\n",
    "for layer in range(1,len(results)):\n",
    "    with open(f\"{path_models}/models_layer{layer}.pkl\",\"rb\") as f:\n",
    "        res = pkl.load(f)\n",
    "    WAICs[layer,(layer+1):] = [a[3] for a in res]\n",
    "plt.imshow(WAICs[:])"
   ]
  },
  {
   "cell_type": "code",
   "execution_count": 681,
   "metadata": {},
   "outputs": [],
   "source": [
    "device = \"cuda:0\"\n",
    "\n",
    "# create linspace\n",
    "# N_points = 50\n",
    "# train_x = torch.linspace(0,1,N_points).to(device)\n",
    "\n",
    "# with open(\"weather42.pkl\",\"rb\") as f:\n",
    "#     d = pkl.load(f)\n",
    "\n",
    "#real\n",
    "X,Y = d['X'], d['Y']\n",
    "#utils.standard_loader(f\"{conf.path2data}/{exp_pref}_layer0.pkl\")\n",
    "N_points=X.shape[0]\n",
    "# N_points = 200\n",
    "train_x = torch.tensor(X, device=device).float()\n",
    "train_y = torch.tensor(Y, device=device).float()\n",
    "test_x = torch.tensor(d['Xt'], device=device).float()\n",
    "test_y = torch.tensor(d['Yt'], device=device).float()\n",
    "# train_x = train_x[torch.randperm(train_x.numel())[:N_points]]\n",
    "\n",
    "x = test_x\n",
    "y = test_y\n",
    "# x.shape"
   ]
  },
  {
   "cell_type": "code",
   "execution_count": 655,
   "metadata": {},
   "outputs": [
    {
     "name": "stderr",
     "output_type": "stream",
     "text": [
      "  0%|          | 0/7 [00:00<?, ?it/s]\n"
     ]
    },
    {
     "ename": "FileNotFoundError",
     "evalue": "[Errno 2] No such file or directory: '/home/nina/outputs/shuttle/models_layer0.pkl'",
     "output_type": "error",
     "traceback": [
      "\u001b[0;31m---------------------------------------------------------------------------\u001b[0m",
      "\u001b[0;31mFileNotFoundError\u001b[0m                         Traceback (most recent call last)",
      "\u001b[0;32m<ipython-input-655-de3e165c4f12>\u001b[0m in \u001b[0;36m<module>\u001b[0;34m\u001b[0m\n\u001b[1;32m      2\u001b[0m \u001b[0;32mfor\u001b[0m \u001b[0mlayer\u001b[0m \u001b[0;32min\u001b[0m \u001b[0mtqdm\u001b[0m\u001b[0;34m.\u001b[0m\u001b[0mtqdm\u001b[0m\u001b[0;34m(\u001b[0m\u001b[0mrange\u001b[0m\u001b[0;34m(\u001b[0m\u001b[0;36m0\u001b[0m\u001b[0;34m,\u001b[0m\u001b[0mNN\u001b[0m\u001b[0;34m-\u001b[0m\u001b[0;36m1\u001b[0m\u001b[0;34m)\u001b[0m\u001b[0;34m)\u001b[0m\u001b[0;34m:\u001b[0m\u001b[0;34m\u001b[0m\u001b[0;34m\u001b[0m\u001b[0m\n\u001b[1;32m      3\u001b[0m     \u001b[0mcopulas\u001b[0m\u001b[0;34m,\u001b[0m \u001b[0mliks\u001b[0m\u001b[0;34m,\u001b[0m \u001b[0mfs\u001b[0m \u001b[0;34m=\u001b[0m \u001b[0;34m[\u001b[0m\u001b[0;34m]\u001b[0m\u001b[0;34m,\u001b[0m \u001b[0;34m[\u001b[0m\u001b[0;34m]\u001b[0m\u001b[0;34m,\u001b[0m \u001b[0;34m[\u001b[0m\u001b[0;34m]\u001b[0m\u001b[0;34m\u001b[0m\u001b[0;34m\u001b[0m\u001b[0m\n\u001b[0;32m----> 4\u001b[0;31m     \u001b[0;32mwith\u001b[0m \u001b[0mopen\u001b[0m\u001b[0;34m(\u001b[0m\u001b[0;34mf\"{path_models}/models_layer{layer}.pkl\"\u001b[0m\u001b[0;34m,\u001b[0m\u001b[0;34m\"rb\"\u001b[0m\u001b[0;34m)\u001b[0m \u001b[0;32mas\u001b[0m \u001b[0mf\u001b[0m\u001b[0;34m:\u001b[0m\u001b[0;34m\u001b[0m\u001b[0;34m\u001b[0m\u001b[0m\n\u001b[0m\u001b[1;32m      5\u001b[0m         \u001b[0mresults\u001b[0m \u001b[0;34m=\u001b[0m \u001b[0mpkl\u001b[0m\u001b[0;34m.\u001b[0m\u001b[0mload\u001b[0m\u001b[0;34m(\u001b[0m\u001b[0mf\u001b[0m\u001b[0;34m)\u001b[0m\u001b[0;34m\u001b[0m\u001b[0;34m\u001b[0m\u001b[0m\n\u001b[1;32m      6\u001b[0m     \u001b[0mout_dir\u001b[0m \u001b[0;34m=\u001b[0m \u001b[0;34mf'{path_models}/layer{layer}'\u001b[0m\u001b[0;34m\u001b[0m\u001b[0;34m\u001b[0m\u001b[0m\n",
      "\u001b[0;31mFileNotFoundError\u001b[0m: [Errno 2] No such file or directory: '/home/nina/outputs/shuttle/models_layer0.pkl'"
     ]
    }
   ],
   "source": [
    "copula_layers, likelihood_layers, fs_layers = [], [], []\n",
    "for layer in tqdm.tqdm(range(0,NN-1)):\n",
    "    copulas, liks, fs = [], [], []\n",
    "    with open(f\"{path_models}/models_layer{layer}.pkl\",\"rb\") as f:\n",
    "        results = pkl.load(f)\n",
    "    out_dir = f'{path_models}/layer{layer}'\n",
    "    for n,res in enumerate(results):\n",
    "        if res[1]!='Independence':\n",
    "            likelihoods = res[0]\n",
    "            weights_file = f\"{out_dir}/model_{exp_pref}_{layer}-{layer+n+1}.pth\"\n",
    "            model = utils.get_model(weights_file, likelihoods, device)\n",
    "            liks.append(model.likelihood)\n",
    "            with torch.no_grad():\n",
    "                f = model(x).mean\n",
    "                copula = model.likelihood.get_copula(f)\n",
    "                copulas.append(copula)\n",
    "                fs.append(f)\n",
    "        else:\n",
    "            copulas.append(bvcopula.MixtureCopula(torch.empty(1,0,device=device),\n",
    "                    torch.ones(1,N_points,device=device),\n",
    "                    [bvcopula.IndependenceCopula]))\n",
    "            fs.append(None)\n",
    "            liks.append([bvcopula.IndependenceCopula_Likelihood()])\n",
    "#     else:\n",
    "#         for n in range(NN-1-layer):\n",
    "#             copulas.append(bvcopula.MixtureCopula(torch.empty(1,0,device=device),\n",
    "#                         torch.ones(1,N_points,device=device),\n",
    "#                         [bvcopula.IndependenceCopula]))\n",
    "#             fs.append(None)\n",
    "#             liks.append([bvcopula.IndependenceCopula_Likelihood()])\n",
    "    copula_layers.append(copulas)\n",
    "    likelihood_layers.append(liks)\n",
    "    fs_layers.append(fs)"
   ]
  },
  {
   "cell_type": "code",
   "execution_count": 656,
   "metadata": {},
   "outputs": [
    {
     "data": {
      "text/plain": [
       "(14500,)"
      ]
     },
     "execution_count": 656,
     "metadata": {},
     "output_type": "execute_result"
    }
   ],
   "source": [
    "# vine = CVine(copula_layers,x,device=device).truncate(0)\n",
    "# copgp = vine.log_prob(y).mean()\n",
    "# copgp\n",
    "X.shape"
   ]
  },
  {
   "cell_type": "code",
   "execution_count": 682,
   "metadata": {},
   "outputs": [],
   "source": [
    "#redirect logging here\n",
    "def train4entropy(x,y,xt,likelihood,shuffle=False):\n",
    "    Nvar = y.shape[-1]\n",
    "    data_layers = [torch.tensor(y).clamp(0.001,0.999).float().to(device)]\n",
    "    copula_layers, model_layers = [], []\n",
    "    for m in range(0,Nvar-1):\n",
    "        copulas, layer, models = [], [], []\n",
    "        for n in range(1,Nvar-m):\n",
    "            print(m,n+m)\n",
    "            if shuffle:\n",
    "                x = x[torch.randperm(NSamp)]\n",
    "            samples = data_layers[-1][...,[n,0]]\n",
    "            waic, model = bvcopula.infer(likelihood,x,samples,device=device) \n",
    "            print(f'WAIC: {waic}')\n",
    "            if shuffle:\n",
    "                x = x[torch.randperm(NSamp)]\n",
    "            with torch.no_grad():\n",
    "                f = model(x).mean\n",
    "                copula = model.likelihood.get_copula(f)\n",
    "                layer.append(copula.ccdf(samples))\n",
    "                models.append(model)\n",
    "                \n",
    "                ft = model(xt).mean\n",
    "                copulat = model.likelihood.get_copula(ft)\n",
    "                copulas.append(copulat)\n",
    "        data_layers.append(torch.stack(layer,dim=-1))\n",
    "        copula_layers.append(copulas)\n",
    "        model_layers.append(models)\n",
    "    print('Trained')\n",
    "    vine_trained = CVine(copula_layers,xt,device=device)\n",
    "#     entropies = vine_trained.entropy(sem_tol=0.1, mc_size=1000, v=True)\n",
    "    return copula_layers, model_layers, vine_trained#, entropies"
   ]
  },
  {
   "cell_type": "code",
   "execution_count": null,
   "metadata": {},
   "outputs": [
    {
     "name": "stderr",
     "output_type": "stream",
     "text": [
      "/home/nina/.envs/GPyTorch_new/lib/python3.6/site-packages/ipykernel_launcher.py:4: UserWarning: To copy construct from a tensor, it is recommended to use sourceTensor.clone().detach() or sourceTensor.clone().detach().requires_grad_(True), rather than torch.tensor(sourceTensor).\n",
      "  after removing the cwd from sys.path.\n"
     ]
    },
    {
     "name": "stdout",
     "output_type": "stream",
     "text": [
      "0 1\n",
      "WAIC: -0.2881768047809601\n",
      "0 2\n",
      "WAIC: -0.1554294228553772\n",
      "0 3\n",
      "WAIC: -0.17522181570529938\n",
      "0 4\n",
      "WAIC: -0.21311864256858826\n",
      "0 5\n",
      "WAIC: -0.11956353485584259\n",
      "0 6\n",
      "WAIC: -0.07061096280813217\n",
      "0 7\n",
      "WAIC: -0.09538072347640991\n",
      "1 2\n",
      "WAIC: -0.09950842708349228\n",
      "1 3\n",
      "WAIC: -0.102342389523983\n",
      "1 4\n",
      "WAIC: -0.00290881609544158\n",
      "1 5\n",
      "WAIC: -0.030523400753736496\n",
      "1 6\n",
      "WAIC: -0.08437507599592209\n",
      "1 7\n",
      "WAIC: -0.051781654357910156\n",
      "2 3\n",
      "WAIC: -0.03224807605147362\n",
      "2 4\n"
     ]
    }
   ],
   "source": [
    "likelihood = [bvcopula.GaussianCopula_Likelihood()]\n",
    "%time copula_layers, models, vine = train4entropy(train_x,train_y,test_x,likelihood, shuffle=False)"
   ]
  },
  {
   "cell_type": "code",
   "execution_count": null,
   "metadata": {},
   "outputs": [],
   "source": []
  },
  {
   "cell_type": "code",
   "execution_count": null,
   "metadata": {},
   "outputs": [],
   "source": [
    "vine = CVine(copula_layers,test_x,device=device)\n",
    "logprob = vine.log_prob(test_y).mean()\n",
    "logprob"
   ]
  },
  {
   "cell_type": "code",
   "execution_count": null,
   "metadata": {},
   "outputs": [],
   "source": [
    "d['copula_layers'] = copula_layers\n",
    "d['vine'] = vine \n",
    "# d['copgp_logprob'] = copgp.item()\n",
    "d['logprob'] = logprob.item()\n",
    "with open(f\"res_weather_U{seed}.pkl\",\"wb\") as f:\n",
    "    pkl.dump(d,f)"
   ]
  },
  {
   "cell_type": "code",
   "execution_count": 662,
   "metadata": {},
   "outputs": [
    {
     "data": {
      "text/plain": [
       "2.8967000000000005"
      ]
     },
     "execution_count": 662,
     "metadata": {},
     "output_type": "execute_result"
    }
   ],
   "source": [
    "np.array([3.1495,2.7663,2.7743]).mean() #weather col 3 (seed 42,43,44)"
   ]
  },
  {
   "cell_type": "code",
   "execution_count": 661,
   "metadata": {},
   "outputs": [
    {
     "data": {
      "text/plain": [
       "0.16858891488535727"
      ]
     },
     "execution_count": 661,
     "metadata": {},
     "output_type": "execute_result"
    }
   ],
   "source": [
    "np.array([1.28,1.61,1.23]).std() #weather col 2"
   ]
  },
  {
   "cell_type": "code",
   "execution_count": null,
   "metadata": {},
   "outputs": [],
   "source": [
    "np.array([]).std() #weather col 1"
   ]
  },
  {
   "cell_type": "code",
   "execution_count": null,
   "metadata": {},
   "outputs": [],
   "source": [
    "np.array([]).std() #shuttle col 3 (shift 0,1,2, every 4th element of the original UCL dataset)"
   ]
  },
  {
   "cell_type": "code",
   "execution_count": null,
   "metadata": {},
   "outputs": [],
   "source": [
    "np.array([4.4774]).std() #shuttle col 2"
   ]
  }
 ],
 "metadata": {
  "kernelspec": {
   "display_name": "GPyTorch_new",
   "language": "python",
   "name": "gpytorch_new"
  },
  "language_info": {
   "codemirror_mode": {
    "name": "ipython",
    "version": 3
   },
   "file_extension": ".py",
   "mimetype": "text/x-python",
   "name": "python",
   "nbconvert_exporter": "python",
   "pygments_lexer": "ipython3",
   "version": "3.6.9"
  }
 },
 "nbformat": 4,
 "nbformat_minor": 2
}
